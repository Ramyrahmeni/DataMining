{
  "metadata": {
    "kernelspec": {
      "name": "python3",
      "display_name": "Python 3",
      "language": "python"
    },
    "language_info": {
      "name": "python",
      "version": "3.10.14",
      "mimetype": "text/x-python",
      "codemirror_mode": {
        "name": "ipython",
        "version": 3
      },
      "pygments_lexer": "ipython3",
      "nbconvert_exporter": "python",
      "file_extension": ".py"
    },
    "colab": {
      "provenance": [],
      "collapsed_sections": [
        "e5091fbd"
      ],
      "name": "notebook8c2d8e543d",
      "include_colab_link": true
    },
    "kaggle": {
      "accelerator": "gpu",
      "dataSources": [
        {
          "sourceId": 9566759,
          "sourceType": "datasetVersion",
          "datasetId": 5830723
        }
      ],
      "dockerImageVersionId": 30787,
      "isInternetEnabled": true,
      "language": "python",
      "sourceType": "notebook",
      "isGpuEnabled": true
    }
  },
  "nbformat_minor": 5,
  "nbformat": 4,
  "cells": [
    {
      "cell_type": "markdown",
      "metadata": {
        "id": "view-in-github",
        "colab_type": "text"
      },
      "source": [
        "<a href=\"https://colab.research.google.com/github/Ramyrahmeni/DataMining/blob/main/TP1_VE.ipynb\" target=\"_parent\"><img src=\"https://colab.research.google.com/assets/colab-badge.svg\" alt=\"Open In Colab\"/></a>"
      ]
    },
    {
      "source": [
        "\n",
        "# IMPORTANT: RUN THIS CELL IN ORDER TO IMPORT YOUR KAGGLE DATA SOURCES\n",
        "# TO THE CORRECT LOCATION (/kaggle/input) IN YOUR NOTEBOOK,\n",
        "# THEN FEEL FREE TO DELETE THIS CELL.\n",
        "# NOTE: THIS NOTEBOOK ENVIRONMENT DIFFERS FROM KAGGLE'S PYTHON\n",
        "# ENVIRONMENT SO THERE MAY BE MISSING LIBRARIES USED BY YOUR\n",
        "# NOTEBOOK.\n",
        "\n",
        "import os\n",
        "import sys\n",
        "from tempfile import NamedTemporaryFile\n",
        "from urllib.request import urlopen\n",
        "from urllib.parse import unquote, urlparse\n",
        "from urllib.error import HTTPError\n",
        "from zipfile import ZipFile\n",
        "import tarfile\n",
        "import shutil\n",
        "\n",
        "CHUNK_SIZE = 40960\n",
        "DATA_SOURCE_MAPPING = 'titanic:https%3A%2F%2Fstorage.googleapis.com%2Fkaggle-data-sets%2F5830723%2F9566759%2Fbundle%2Farchive.zip%3FX-Goog-Algorithm%3DGOOG4-RSA-SHA256%26X-Goog-Credential%3Dgcp-kaggle-com%2540kaggle-161607.iam.gserviceaccount.com%252F20241007%252Fauto%252Fstorage%252Fgoog4_request%26X-Goog-Date%3D20241007T190106Z%26X-Goog-Expires%3D259200%26X-Goog-SignedHeaders%3Dhost%26X-Goog-Signature%3D31c083d6492c9bddbc41b9e624d75c8b718f65ba1ebd7e6e1cf8df28ca7e65ae66a03b01927daf84be831289bab981a49a88317ab1c35414be47f96d12b2b553a9745bcf293244408a3004c9c5981a764ea6e884142b4f2f7e5466f5f4030537909b4bdd639ff2cebe8aed99a2867253f9fb61cab28aa5a85180103f61e3cd31aa86f480bd12cd91b1340a909d40c53cfee825acd045f68b2016dfcfc4b8685bc9c925c79204306d3347821bf2c51488d1f79af5265412b53f6a13512929b1038259a4222437d901b71b63b6fa92f1ce891bd31d95364d7384034fa0960869b292347da06ca166fae9067e311250bed4193860aeb4ed6bea49632ddc8d53febf'\n",
        "\n",
        "KAGGLE_INPUT_PATH='/kaggle/input'\n",
        "KAGGLE_WORKING_PATH='/kaggle/working'\n",
        "KAGGLE_SYMLINK='kaggle'\n",
        "\n",
        "!umount /kaggle/input/ 2> /dev/null\n",
        "shutil.rmtree('/kaggle/input', ignore_errors=True)\n",
        "os.makedirs(KAGGLE_INPUT_PATH, 0o777, exist_ok=True)\n",
        "os.makedirs(KAGGLE_WORKING_PATH, 0o777, exist_ok=True)\n",
        "\n",
        "try:\n",
        "  os.symlink(KAGGLE_INPUT_PATH, os.path.join(\"..\", 'input'), target_is_directory=True)\n",
        "except FileExistsError:\n",
        "  pass\n",
        "try:\n",
        "  os.symlink(KAGGLE_WORKING_PATH, os.path.join(\"..\", 'working'), target_is_directory=True)\n",
        "except FileExistsError:\n",
        "  pass\n",
        "\n",
        "for data_source_mapping in DATA_SOURCE_MAPPING.split(','):\n",
        "    directory, download_url_encoded = data_source_mapping.split(':')\n",
        "    download_url = unquote(download_url_encoded)\n",
        "    filename = urlparse(download_url).path\n",
        "    destination_path = os.path.join(KAGGLE_INPUT_PATH, directory)\n",
        "    try:\n",
        "        with urlopen(download_url) as fileres, NamedTemporaryFile() as tfile:\n",
        "            total_length = fileres.headers['content-length']\n",
        "            print(f'Downloading {directory}, {total_length} bytes compressed')\n",
        "            dl = 0\n",
        "            data = fileres.read(CHUNK_SIZE)\n",
        "            while len(data) > 0:\n",
        "                dl += len(data)\n",
        "                tfile.write(data)\n",
        "                done = int(50 * dl / int(total_length))\n",
        "                sys.stdout.write(f\"\\r[{'=' * done}{' ' * (50-done)}] {dl} bytes downloaded\")\n",
        "                sys.stdout.flush()\n",
        "                data = fileres.read(CHUNK_SIZE)\n",
        "            if filename.endswith('.zip'):\n",
        "              with ZipFile(tfile) as zfile:\n",
        "                zfile.extractall(destination_path)\n",
        "            else:\n",
        "              with tarfile.open(tfile.name) as tarfile:\n",
        "                tarfile.extractall(destination_path)\n",
        "            print(f'\\nDownloaded and uncompressed: {directory}')\n",
        "    except HTTPError as e:\n",
        "        print(f'Failed to load (likely expired) {download_url} to path {destination_path}')\n",
        "        continue\n",
        "    except OSError as e:\n",
        "        print(f'Failed to load {download_url} to path {destination_path}')\n",
        "        continue\n",
        "\n",
        "print('Data source import complete.')\n"
      ],
      "metadata": {
        "id": "0-QCDPHmW1Up"
      },
      "cell_type": "code",
      "outputs": [],
      "execution_count": null,
      "id": "0-QCDPHmW1Up"
    },
    {
      "cell_type": "markdown",
      "source": [
        "<table>\n",
        "    <tr>\n",
        "        <td style='width:10%;'>\n",
        "            <img src='img/intro-to-programming.svg'/>\n",
        "        </td>\n",
        "        <td style='width:90%;text-align:left;'>\n",
        "            <div style='font-family:Inter,sans-serif;font-size: 22px;font-weight: 600;line-height: 24px;'>\n",
        "                Lab 1 : Préparation de données\n",
        "            </div>\n",
        "            <span>visualisation de données, Imputation des valeurs manquantes.</span>\n",
        "        </td>\n",
        "        <td ></td>\n",
        "    </tr>\n",
        "</table>"
      ],
      "metadata": {
        "id": "1b74003d"
      },
      "id": "1b74003d"
    },
    {
      "cell_type": "markdown",
      "source": [
        "<div style='font-family:Inter,sans-serif;font-size: 14px;font-weight: 600;line-height: 24px;'>\n",
        "Importer les bibliothèques:</br></div>\n",
        "1. Pandas pour la manipulation et l'analyse des données</br>\n",
        "2. Numpy pour manipuler des matrices ou tableaux multidimensionnels</br>\n",
        "3. matplotlib pour tracer et visualiser des données sous forme de graphiques</br>\n",
        "4. seaborn pour la visualisation</br></br>\n"
      ],
      "metadata": {
        "id": "b2b2da16"
      },
      "id": "b2b2da16"
    },
    {
      "cell_type": "code",
      "source": [
        "import pandas as pd\n",
        "import numpy as np\n",
        "import matplotlib.pyplot as plt\n",
        "import seaborn as sns\n",
        "from IPython.display import Image"
      ],
      "metadata": {
        "id": "7cfa3052",
        "execution": {
          "iopub.status.busy": "2024-10-07T18:30:09.924876Z",
          "iopub.execute_input": "2024-10-07T18:30:09.925726Z",
          "iopub.status.idle": "2024-10-07T18:30:11.14728Z",
          "shell.execute_reply.started": "2024-10-07T18:30:09.925683Z",
          "shell.execute_reply": "2024-10-07T18:30:11.146497Z"
        },
        "trusted": true
      },
      "execution_count": null,
      "outputs": [],
      "id": "7cfa3052"
    },
    {
      "cell_type": "markdown",
      "source": [
        "<div style='font-family:Inter,sans-serif;font-size: 14px;font-weight: 600;line-height: 24px;'>\n",
        "Importer le jeu de données Titanic:</br></div>\n",
        "1. Afficher les 5 premières ligne du jeu de données</br>\n",
        "2. Afficher les dimension de la DataFrame</br>\n",
        "3. Vérifier le type de chaque colonne</br>\n",
        "4. afficher les noms des colonnes de la DataFrame</br></br>\n"
      ],
      "metadata": {
        "id": "7ed3a1bf"
      },
      "id": "7ed3a1bf"
    },
    {
      "cell_type": "code",
      "source": [
        "#importer et lire un fichier, ici de type csv\n",
        "df=pd.read_csv('/kaggle/input/titanic/titanic.csv')"
      ],
      "metadata": {
        "id": "bd5a8e31",
        "execution": {
          "iopub.status.busy": "2024-10-07T18:30:11.149061Z",
          "iopub.execute_input": "2024-10-07T18:30:11.149533Z",
          "iopub.status.idle": "2024-10-07T18:30:11.173411Z",
          "shell.execute_reply.started": "2024-10-07T18:30:11.149497Z",
          "shell.execute_reply": "2024-10-07T18:30:11.171993Z"
        },
        "trusted": true
      },
      "execution_count": null,
      "outputs": [],
      "id": "bd5a8e31"
    },
    {
      "cell_type": "code",
      "source": [
        "#afficher un aperçu, par défaut les 5 premières lignes du jeu de données.\n",
        "df[:5]"
      ],
      "metadata": {
        "scrolled": true,
        "id": "37adfee6",
        "execution": {
          "iopub.status.busy": "2024-10-07T18:30:11.174993Z",
          "iopub.execute_input": "2024-10-07T18:30:11.175508Z",
          "iopub.status.idle": "2024-10-07T18:30:11.200017Z",
          "shell.execute_reply.started": "2024-10-07T18:30:11.175445Z",
          "shell.execute_reply": "2024-10-07T18:30:11.199072Z"
        },
        "trusted": true,
        "outputId": "c41e4dc9-10bd-4437-81d2-571414bd5e3f"
      },
      "execution_count": null,
      "outputs": [
        {
          "execution_count": 3,
          "output_type": "execute_result",
          "data": {
            "text/plain": "   pclass  survived                                             name     sex  \\\n0       1         1                    Allen, Miss. Elisabeth Walton  female   \n1       1         1                   Allison, Master. Hudson Trevor    male   \n2       1         0                     Allison, Miss. Helen Loraine  female   \n3       1         0             Allison, Mr. Hudson Joshua Creighton    male   \n4       1         0  Allison, Mrs. Hudson J C (Bessie Waldo Daniels)  female   \n\n       age  sibsp  parch  ticket      fare    cabin embarked  \n0  29.0000      0      0   24160  211.3375       B5        S  \n1   0.9167      1      2  113781  151.5500  C22 C26        S  \n2   2.0000      1      2  113781  151.5500  C22 C26        S  \n3  30.0000      1      2  113781  151.5500  C22 C26        S  \n4  25.0000      1      2  113781  151.5500  C22 C26        S  ",
            "text/html": "<div>\n<style scoped>\n    .dataframe tbody tr th:only-of-type {\n        vertical-align: middle;\n    }\n\n    .dataframe tbody tr th {\n        vertical-align: top;\n    }\n\n    .dataframe thead th {\n        text-align: right;\n    }\n</style>\n<table border=\"1\" class=\"dataframe\">\n  <thead>\n    <tr style=\"text-align: right;\">\n      <th></th>\n      <th>pclass</th>\n      <th>survived</th>\n      <th>name</th>\n      <th>sex</th>\n      <th>age</th>\n      <th>sibsp</th>\n      <th>parch</th>\n      <th>ticket</th>\n      <th>fare</th>\n      <th>cabin</th>\n      <th>embarked</th>\n    </tr>\n  </thead>\n  <tbody>\n    <tr>\n      <th>0</th>\n      <td>1</td>\n      <td>1</td>\n      <td>Allen, Miss. Elisabeth Walton</td>\n      <td>female</td>\n      <td>29.0000</td>\n      <td>0</td>\n      <td>0</td>\n      <td>24160</td>\n      <td>211.3375</td>\n      <td>B5</td>\n      <td>S</td>\n    </tr>\n    <tr>\n      <th>1</th>\n      <td>1</td>\n      <td>1</td>\n      <td>Allison, Master. Hudson Trevor</td>\n      <td>male</td>\n      <td>0.9167</td>\n      <td>1</td>\n      <td>2</td>\n      <td>113781</td>\n      <td>151.5500</td>\n      <td>C22 C26</td>\n      <td>S</td>\n    </tr>\n    <tr>\n      <th>2</th>\n      <td>1</td>\n      <td>0</td>\n      <td>Allison, Miss. Helen Loraine</td>\n      <td>female</td>\n      <td>2.0000</td>\n      <td>1</td>\n      <td>2</td>\n      <td>113781</td>\n      <td>151.5500</td>\n      <td>C22 C26</td>\n      <td>S</td>\n    </tr>\n    <tr>\n      <th>3</th>\n      <td>1</td>\n      <td>0</td>\n      <td>Allison, Mr. Hudson Joshua Creighton</td>\n      <td>male</td>\n      <td>30.0000</td>\n      <td>1</td>\n      <td>2</td>\n      <td>113781</td>\n      <td>151.5500</td>\n      <td>C22 C26</td>\n      <td>S</td>\n    </tr>\n    <tr>\n      <th>4</th>\n      <td>1</td>\n      <td>0</td>\n      <td>Allison, Mrs. Hudson J C (Bessie Waldo Daniels)</td>\n      <td>female</td>\n      <td>25.0000</td>\n      <td>1</td>\n      <td>2</td>\n      <td>113781</td>\n      <td>151.5500</td>\n      <td>C22 C26</td>\n      <td>S</td>\n    </tr>\n  </tbody>\n</table>\n</div>"
          },
          "metadata": {}
        }
      ],
      "id": "37adfee6"
    },
    {
      "cell_type": "code",
      "source": [
        "# afficher la dimension d'un dataframe\n",
        "print(\"Dimensions:\", df.shape)"
      ],
      "metadata": {
        "id": "e471f445",
        "execution": {
          "iopub.status.busy": "2024-10-07T18:30:11.201227Z",
          "iopub.execute_input": "2024-10-07T18:30:11.202Z",
          "iopub.status.idle": "2024-10-07T18:30:11.206624Z",
          "shell.execute_reply.started": "2024-10-07T18:30:11.201965Z",
          "shell.execute_reply": "2024-10-07T18:30:11.205645Z"
        },
        "trusted": true,
        "outputId": "bec12cb8-3f63-47fe-8ece-a031a8b171a7"
      },
      "execution_count": null,
      "outputs": [
        {
          "name": "stdout",
          "text": "Dimensions: (1309, 11)\n",
          "output_type": "stream"
        }
      ],
      "id": "e471f445"
    },
    {
      "cell_type": "code",
      "source": [
        "# Affichage du type de chaque colonne\n",
        "for i in df.columns:\n",
        "  print(df[i].dtype)"
      ],
      "metadata": {
        "id": "99c9e716",
        "execution": {
          "iopub.status.busy": "2024-10-07T18:30:11.210014Z",
          "iopub.execute_input": "2024-10-07T18:30:11.210886Z",
          "iopub.status.idle": "2024-10-07T18:30:11.217978Z",
          "shell.execute_reply.started": "2024-10-07T18:30:11.21084Z",
          "shell.execute_reply": "2024-10-07T18:30:11.216995Z"
        },
        "trusted": true,
        "outputId": "094734f9-1122-46aa-9d42-2a514638f6d7"
      },
      "execution_count": null,
      "outputs": [
        {
          "name": "stdout",
          "text": "int64\nint64\nobject\nobject\nfloat64\nint64\nint64\nobject\nfloat64\nobject\nobject\n",
          "output_type": "stream"
        }
      ],
      "id": "99c9e716"
    },
    {
      "cell_type": "code",
      "source": [
        "# déterminer le nombre d'occurrences de chaque modalité d'une variable, ici la variable cible\n",
        "occurrences_survived = df['survived'].value_counts()\n",
        "print(\"Occurrences de la variable 'survived':\\n\", occurrences_survived)"
      ],
      "metadata": {
        "id": "17e7d51a",
        "execution": {
          "iopub.status.busy": "2024-10-07T18:30:11.219331Z",
          "iopub.execute_input": "2024-10-07T18:30:11.219705Z",
          "iopub.status.idle": "2024-10-07T18:30:11.235057Z",
          "shell.execute_reply.started": "2024-10-07T18:30:11.219666Z",
          "shell.execute_reply": "2024-10-07T18:30:11.234033Z"
        },
        "trusted": true,
        "outputId": "cde9fda7-9441-4836-a33a-d8a1ec3f6244"
      },
      "execution_count": null,
      "outputs": [
        {
          "name": "stdout",
          "text": "Occurrences de la variable 'survived':\n survived\n0    809\n1    500\nName: count, dtype: int64\n",
          "output_type": "stream"
        }
      ],
      "id": "17e7d51a"
    },
    {
      "cell_type": "markdown",
      "source": [
        "### VARIABLE DESCRIPTIONS\n",
        "Pclass : Passenger Class (1 = 1st; 2 = 2nd; 3 = 3rd) ;\n",
        "survival : Survival (0 = No; 1 = Yes);\n",
        "name : Name ;\n",
        "sex : Sex;\n",
        "age : Age;\n",
        "sibsp : Number of Siblings/Spouses Aboard;\n",
        "parch : Number of Parents/Children Aboard;\n",
        "ticket : Ticket Number;\n",
        "fare : Passenger Fare (British pound);\n",
        "cabin : Cabin;\n",
        "embarked : Port of Embarkation (C = Cherbourg; Q = Queenstown; S = Southampton)"
      ],
      "metadata": {
        "id": "65ee77a8"
      },
      "id": "65ee77a8"
    },
    {
      "cell_type": "code",
      "source": [
        "sns.set(style=\"whitegrid\")\n",
        "\n",
        "fig, axes = plt.subplots(2, 2, figsize=(15, 10))\n",
        "\n",
        "# 1. Histogramme de la répartition des passagers selon la classe (pclass)\n",
        "sns.countplot(x='pclass', data=df, palette='viridis', ax=axes[0, 0])\n",
        "axes[0, 0].set_title(\"Répartition des Passagers par Classe\")\n",
        "axes[0, 0].set_xlabel(\"Classe (1 = 1st; 2 = 2nd; 3 = 3rd)\")\n",
        "axes[0, 0].set_ylabel(\"Nombre de Passagers\")\n",
        "\n",
        "# 2. Diagramme en barres du taux de survie par classe et sexe\n",
        "sns.barplot(x='pclass', y='survived', hue='sex', data=df, palette='muted', ax=axes[0, 1])\n",
        "axes[0, 1].set_title(\"Taux de Survie par Classe et Sexe\")\n",
        "axes[0, 1].set_xlabel(\"Classe\")\n",
        "axes[0, 1].set_ylabel(\"Taux de Survie\")\n",
        "\n",
        "# 3. Boxplot de l'âge par classe et survie\n",
        "sns.boxplot(x='pclass', y='age', hue='survived', data=df, palette='Set2', ax=axes[1, 0])\n",
        "axes[1, 0].set_title(\"Répartition de l'Âge par Classe et Survie\")\n",
        "axes[1, 0].set_xlabel(\"Classe\")\n",
        "axes[1, 0].set_ylabel(\"Âge\")\n",
        "\n",
        "# 4. Répartition des passagers selon le port d'embarquement par classe\n",
        "sns.countplot(x='embarked', hue='pclass', data=df, palette='Set1', ax=axes[1, 1])\n",
        "axes[1, 1].set_title(\"Répartition des Passagers selon le Port d'Embarquement par Classe\")\n",
        "axes[1, 1].set_xlabel(\"Port d'Embarquement (C = Cherbourg; Q = Queenstown; S = Southampton)\")\n",
        "axes[1, 1].set_ylabel(\"Nombre de Passagers\")\n",
        "\n",
        "# Ajuster l'espacement entre les sous-graphiques pour éviter le chevauchement\n",
        "plt.tight_layout()\n",
        "plt.show()"
      ],
      "metadata": {
        "scrolled": true,
        "id": "5bc74201",
        "execution": {
          "iopub.status.busy": "2024-10-07T18:30:11.236156Z",
          "iopub.execute_input": "2024-10-07T18:30:11.236506Z",
          "iopub.status.idle": "2024-10-07T18:30:12.699393Z",
          "shell.execute_reply.started": "2024-10-07T18:30:11.236471Z",
          "shell.execute_reply": "2024-10-07T18:30:12.698319Z"
        },
        "trusted": true,
        "outputId": "20afdb53-4443-414e-9303-5deb5e483ae1"
      },
      "execution_count": null,
      "outputs": [
        {
          "output_type": "display_data",
          "data": {
            "text/plain": "<Figure size 1500x1000 with 4 Axes>",
            "image/png": "[encoded data removed]"
          },
          "metadata": {}
        }
      ],
      "id": "5bc74201"
    },
    {
      "cell_type": "markdown",
      "source": [
        "# Etape 1 : Visualisation du jeu de données"
      ],
      "metadata": {
        "id": "dfe7a9ca"
      },
      "id": "dfe7a9ca"
    },
    {
      "cell_type": "markdown",
      "source": [
        "### 1. Distribution de la variable cible (les classes sont bien équilibrées!?) Survival (0 = No; 1 = Yes)"
      ],
      "metadata": {
        "id": "9ed263f2"
      },
      "id": "9ed263f2"
    },
    {
      "cell_type": "code",
      "source": [
        "survived = df['survived'].eq(1).sum()\n",
        "notsurvived = df['survived'].eq(0).sum()"
      ],
      "metadata": {
        "id": "75ca13c8",
        "execution": {
          "iopub.status.busy": "2024-10-07T18:30:12.700543Z",
          "iopub.execute_input": "2024-10-07T18:30:12.700825Z",
          "iopub.status.idle": "2024-10-07T18:30:12.706287Z",
          "shell.execute_reply.started": "2024-10-07T18:30:12.700795Z",
          "shell.execute_reply": "2024-10-07T18:30:12.705403Z"
        },
        "trusted": true
      },
      "execution_count": null,
      "outputs": [],
      "id": "75ca13c8"
    },
    {
      "cell_type": "markdown",
      "source": [
        "### 2. Relation entre pclass et survived or not"
      ],
      "metadata": {
        "id": "e5091fbd"
      },
      "id": "e5091fbd"
    },
    {
      "cell_type": "code",
      "source": [
        "df.groupby(['pclass','survived'])['survived'].count()"
      ],
      "metadata": {
        "id": "8916be95",
        "execution": {
          "iopub.status.busy": "2024-10-07T18:30:12.707698Z",
          "iopub.execute_input": "2024-10-07T18:30:12.708334Z",
          "iopub.status.idle": "2024-10-07T18:30:12.723174Z",
          "shell.execute_reply.started": "2024-10-07T18:30:12.708287Z",
          "shell.execute_reply": "2024-10-07T18:30:12.722238Z"
        },
        "trusted": true,
        "outputId": "a7074cd6-67ca-42e1-8865-8f5c106b17e7"
      },
      "execution_count": null,
      "outputs": [
        {
          "execution_count": 9,
          "output_type": "execute_result",
          "data": {
            "text/plain": "pclass  survived\n1       0           123\n        1           200\n2       0           158\n        1           119\n3       0           528\n        1           181\nName: survived, dtype: int64"
          },
          "metadata": {}
        }
      ],
      "id": "8916be95"
    },
    {
      "cell_type": "code",
      "source": [
        "grouped_df = df[['pclass', 'survived']].groupby('pclass')\n",
        "\n",
        "for key, item in grouped_df:\n",
        "    print(grouped_df.get_group(key), \"\\n\\n\")"
      ],
      "metadata": {
        "id": "f9936e28",
        "execution": {
          "iopub.status.busy": "2024-10-07T18:30:12.726164Z",
          "iopub.execute_input": "2024-10-07T18:30:12.726544Z",
          "iopub.status.idle": "2024-10-07T18:30:12.740926Z",
          "shell.execute_reply.started": "2024-10-07T18:30:12.726511Z",
          "shell.execute_reply": "2024-10-07T18:30:12.739979Z"
        },
        "trusted": true,
        "outputId": "1b0279e0-58f9-4d95-986c-8fcbaf2f746d"
      },
      "execution_count": null,
      "outputs": [
        {
          "name": "stdout",
          "text": "     pclass  survived\n0         1         1\n1         1         1\n2         1         0\n3         1         0\n4         1         0\n..      ...       ...\n318       1         0\n319       1         1\n320       1         1\n321       1         0\n322       1         1\n\n[323 rows x 2 columns] \n\n\n     pclass  survived\n323       2         0\n324       2         1\n325       2         0\n326       2         0\n327       2         0\n..      ...       ...\n595       2         0\n596       2         1\n597       2         1\n598       2         1\n599       2         0\n\n[277 rows x 2 columns] \n\n\n      pclass  survived\n600        3         0\n601        3         0\n602        3         0\n603        3         1\n604        3         1\n...      ...       ...\n1304       3         0\n1305       3         0\n1306       3         0\n1307       3         0\n1308       3         0\n\n[709 rows x 2 columns] \n\n\n",
          "output_type": "stream"
        }
      ],
      "id": "f9936e28"
    },
    {
      "cell_type": "code",
      "source": [
        "grouped_df.count()"
      ],
      "metadata": {
        "id": "2ea2e233",
        "execution": {
          "iopub.status.busy": "2024-10-07T18:30:12.742387Z",
          "iopub.execute_input": "2024-10-07T18:30:12.742689Z",
          "iopub.status.idle": "2024-10-07T18:30:12.75255Z",
          "shell.execute_reply.started": "2024-10-07T18:30:12.742658Z",
          "shell.execute_reply": "2024-10-07T18:30:12.751688Z"
        },
        "trusted": true,
        "outputId": "16e19b31-8d66-44a6-cc6c-7d22660eb677"
      },
      "execution_count": null,
      "outputs": [
        {
          "execution_count": 11,
          "output_type": "execute_result",
          "data": {
            "text/plain": "        survived\npclass          \n1            323\n2            277\n3            709",
            "text/html": "<div>\n<style scoped>\n    .dataframe tbody tr th:only-of-type {\n        vertical-align: middle;\n    }\n\n    .dataframe tbody tr th {\n        vertical-align: top;\n    }\n\n    .dataframe thead th {\n        text-align: right;\n    }\n</style>\n<table border=\"1\" class=\"dataframe\">\n  <thead>\n    <tr style=\"text-align: right;\">\n      <th></th>\n      <th>survived</th>\n    </tr>\n    <tr>\n      <th>pclass</th>\n      <th></th>\n    </tr>\n  </thead>\n  <tbody>\n    <tr>\n      <th>1</th>\n      <td>323</td>\n    </tr>\n    <tr>\n      <th>2</th>\n      <td>277</td>\n    </tr>\n    <tr>\n      <th>3</th>\n      <td>709</td>\n    </tr>\n  </tbody>\n</table>\n</div>"
          },
          "metadata": {}
        }
      ],
      "id": "2ea2e233"
    },
    {
      "cell_type": "code",
      "source": [
        "plt = df[['pclass', 'survived']].groupby('pclass').mean().survived.plot(kind='bar')\n",
        "plt.set_xlabel('Pclass')\n",
        "plt.set_ylabel('Survival Probability')"
      ],
      "metadata": {
        "id": "dc453a4e",
        "execution": {
          "iopub.status.busy": "2024-10-07T18:30:12.753838Z",
          "iopub.execute_input": "2024-10-07T18:30:12.754203Z",
          "iopub.status.idle": "2024-10-07T18:30:13.047253Z",
          "shell.execute_reply.started": "2024-10-07T18:30:12.754161Z",
          "shell.execute_reply": "2024-10-07T18:30:13.046253Z"
        },
        "trusted": true,
        "outputId": "b19b0be0-8b40-4d6e-96de-7f445b8d7f52"
      },
      "execution_count": null,
      "outputs": [
        {
          "execution_count": 12,
          "output_type": "execute_result",
          "data": {
            "text/plain": "Text(0, 0.5, 'Survival Probability')"
          },
          "metadata": {}
        },
        {
          "output_type": "display_data",
          "data": {
            "text/plain": "<Figure size 640x480 with 1 Axes>",
            "image/png": "[encoded data removed]"
          },
          "metadata": {}
        }
      ],
      "id": "dc453a4e"
    },
    {
      "cell_type": "markdown",
      "source": [
        "*Les passagers de la classe 1 ont plus de chance pour survivre plus que 60%,\n",
        "Les passagers de la classe 3 ont moins de chance pour survivre moins que 30%,*"
      ],
      "metadata": {
        "id": "f60f0307"
      },
      "id": "f60f0307"
    },
    {
      "cell_type": "markdown",
      "source": [
        "### 3. Distribution de la variable sexe"
      ],
      "metadata": {
        "id": "a806d46d"
      },
      "id": "a806d46d"
    },
    {
      "cell_type": "code",
      "source": [
        "import plotly.express as px\n",
        "\n",
        "fig = px.histogram(df, x='sex', title='Distribution du Sexe des Passagers', color='sex',\n",
        "                   labels={'sex': 'Sexe'},\n",
        "                   category_orders={'sex': ['male', 'female']},  # Ordre d'affichage\n",
        "                   color_discrete_sequence=['#636EFA', '#EF553B'])  # Couleurs personnalisées\n",
        "\n",
        "\n",
        "\n"
      ],
      "metadata": {
        "id": "1801ae5c",
        "execution": {
          "iopub.status.busy": "2024-10-07T18:30:13.048498Z",
          "iopub.execute_input": "2024-10-07T18:30:13.048822Z",
          "iopub.status.idle": "2024-10-07T18:30:15.177215Z",
          "shell.execute_reply.started": "2024-10-07T18:30:13.048787Z",
          "shell.execute_reply": "2024-10-07T18:30:15.176409Z"
        },
        "trusted": true
      },
      "execution_count": null,
      "outputs": [],
      "id": "1801ae5c"
    },
    {
      "cell_type": "code",
      "source": [
        "# Personnalisation de l'apparence\n",
        "fig.update_layout(\n",
        "    xaxis_title=\"Sexe\",\n",
        "    yaxis_title=\"Nombre de Passagers\",\n",
        "    template='plotly_white'\n",
        ")\n",
        "fig.show()"
      ],
      "metadata": {
        "id": "0551a1c3",
        "execution": {
          "iopub.status.busy": "2024-10-07T18:30:15.181596Z",
          "iopub.execute_input": "2024-10-07T18:30:15.182073Z",
          "iopub.status.idle": "2024-10-07T18:30:15.393426Z",
          "shell.execute_reply.started": "2024-10-07T18:30:15.18204Z",
          "shell.execute_reply": "2024-10-07T18:30:15.392537Z"
        },
        "trusted": true,
        "outputId": "8dda5600-6b85-48fb-cc7c-599f702c3da1"
      },
      "execution_count": null,
      "outputs": [
        {
          "output_type": "display_data",
          "data": {
            "text/html": "        <script type=\"text/javascript\">\n        window.PlotlyConfig = {MathJaxConfig: 'local'};\n        if (window.MathJax && window.MathJax.Hub && window.MathJax.Hub.Config) {window.MathJax.Hub.Config({SVG: {font: \"STIX-Web\"}});}\n        if (typeof require !== 'undefined') {\n        require.undef(\"plotly\");\n        requirejs.config({\n            paths: {\n                'plotly': ['https://cdn.plot.ly/plotly-2.32.0.min']\n            }\n        });\n        require(['plotly'], function(Plotly) {\n            window._Plotly = Plotly;\n        });\n        }\n        </script>\n        "
          },
          "metadata": {}
        },
        {
          "output_type": "display_data",
          "data": {
            "text/html": "<div>                            <div id=\"67e14ca9-21b7-4beb-bfeb-b2c1c8878fa5\" class=\"plotly-graph-div\" style=\"height:525px; width:100%;\"></div>            <script type=\"text/javascript\">                require([\"plotly\"], function(Plotly) {                    window.PLOTLYENV=window.PLOTLYENV || {};                                    if (document.getElementById(\"67e14ca9-21b7-4beb-bfeb-b2c1c8878fa5\")) {                    Plotly.newPlot(                        \"67e14ca9-21b7-4beb-bfeb-b2c1c8878fa5\",                        [{\"alignmentgroup\":\"True\",\"bingroup\":\"x\",\"hovertemplate\":\"Sexe=%{x}\\u003cbr\\u003ecount=%{y}\\u003cextra\\u003e\\u003c\\u002fextra\\u003e\",\"legendgroup\":\"male\",\"marker\":{\"color\":\"#636EFA\",\"pattern\":{\"shape\":\"\"}},\"name\":\"male\",\"offsetgroup\":\"male\",\"orientation\":\"v\",\"showlegend\":true,\"x\":[\"male\",\"male\",\"male\",\"male\",\"male\",\"male\",\"male\",\"male\",\"male\",\"male\",\"male\",\"male\",\"male\",\"male\",\"male\",\"male\",\"male\",\"male\",\"male\",\"male\",\"male\",\"male\",\"male\",\"male\",\"male\",\"male\",\"male\",\"male\",\"male\",\"male\",\"male\",\"male\",\"male\",\"male\",\"male\",\"male\",\"male\",\"male\",\"male\",\"male\",\"male\",\"male\",\"male\",\"male\",\"male\",\"male\",\"male\",\"male\",\"male\",\"male\",\"male\",\"male\",\"male\",\"male\",\"male\",\"male\",\"male\",\"male\",\"male\",\"male\",\"male\",\"male\",\"male\",\"male\",\"male\",\"male\",\"male\",\"male\",\"male\",\"male\",\"male\",\"male\",\"male\",\"male\",\"male\",\"male\",\"male\",\"male\",\"male\",\"male\",\"male\",\"male\",\"male\",\"male\",\"male\",\"male\",\"male\",\"male\",\"male\",\"male\",\"male\",\"male\",\"male\",\"male\",\"male\",\"male\",\"male\",\"male\",\"male\",\"male\",\"male\",\"male\",\"male\",\"male\",\"male\",\"male\",\"male\",\"male\",\"male\",\"male\",\"male\",\"male\",\"male\",\"male\",\"male\",\"male\",\"male\",\"male\",\"male\",\"male\",\"male\",\"male\",\"male\",\"male\",\"male\",\"male\",\"male\",\"male\",\"male\",\"male\",\"male\",\"male\",\"male\",\"male\",\"male\",\"male\",\"male\",\"male\",\"male\",\"male\",\"male\",\"male\",\"male\",\"male\",\"male\",\"male\",\"male\",\"male\",\"male\",\"male\",\"male\",\"male\",\"male\",\"male\",\"male\",\"male\",\"male\",\"male\",\"male\",\"male\",\"male\",\"male\",\"male\",\"male\",\"male\",\"male\",\"male\",\"male\",\"male\",\"male\",\"male\",\"male\",\"male\",\"male\",\"male\",\"male\",\"male\",\"male\",\"male\",\"male\",\"male\",\"male\",\"male\",\"male\",\"male\",\"male\",\"male\",\"male\",\"male\",\"male\",\"male\",\"male\",\"male\",\"male\",\"male\",\"male\",\"male\",\"male\",\"male\",\"male\",\"male\",\"male\",\"male\",\"male\",\"male\",\"male\",\"male\",\"male\",\"male\",\"male\",\"male\",\"male\",\"male\",\"male\",\"male\",\"male\",\"male\",\"male\",\"male\",\"male\",\"male\",\"male\",\"male\",\"male\",\"male\",\"male\",\"male\",\"male\",\"male\",\"male\",\"male\",\"male\",\"male\",\"male\",\"male\",\"male\",\"male\",\"male\",\"male\",\"male\",\"male\",\"male\",\"male\",\"male\",\"male\",\"male\",\"male\",\"male\",\"male\",\"male\",\"male\",\"male\",\"male\",\"male\",\"male\",\"male\",\"male\",\"male\",\"male\",\"male\",\"male\",\"male\",\"male\",\"male\",\"male\",\"male\",\"male\",\"male\",\"male\",\"male\",\"male\",\"male\",\"male\",\"male\",\"male\",\"male\",\"male\",\"male\",\"male\",\"male\",\"male\",\"male\",\"male\",\"male\",\"male\",\"male\",\"male\",\"male\",\"male\",\"male\",\"male\",\"male\",\"male\",\"male\",\"male\",\"male\",\"male\",\"male\",\"male\",\"male\",\"male\",\"male\",\"male\",\"male\",\"male\",\"male\",\"male\",\"male\",\"male\",\"male\",\"male\",\"male\",\"male\",\"male\",\"male\",\"male\",\"male\",\"male\",\"male\",\"male\",\"male\",\"male\",\"male\",\"male\",\"male\",\"male\",\"male\",\"male\",\"male\",\"male\",\"male\",\"male\",\"male\",\"male\",\"male\",\"male\",\"male\",\"male\",\"male\",\"male\",\"male\",\"male\",\"male\",\"male\",\"male\",\"male\",\"male\",\"male\",\"male\",\"male\",\"male\",\"male\",\"male\",\"male\",\"male\",\"male\",\"male\",\"male\",\"male\",\"male\",\"male\",\"male\",\"male\",\"male\",\"male\",\"male\",\"male\",\"male\",\"male\",\"male\",\"male\",\"male\",\"male\",\"male\",\"male\",\"male\",\"male\",\"male\",\"male\",\"male\",\"male\",\"male\",\"male\",\"male\",\"male\",\"male\",\"male\",\"male\",\"male\",\"male\",\"male\",\"male\",\"male\",\"male\",\"male\",\"male\",\"male\",\"male\",\"male\",\"male\",\"male\",\"male\",\"male\",\"male\",\"male\",\"male\",\"male\",\"male\",\"male\",\"male\",\"male\",\"male\",\"male\",\"male\",\"male\",\"male\",\"male\",\"male\",\"male\",\"male\",\"male\",\"male\",\"male\",\"male\",\"male\",\"male\",\"male\",\"male\",\"male\",\"male\",\"male\",\"male\",\"male\",\"male\",\"male\",\"male\",\"male\",\"male\",\"male\",\"male\",\"male\",\"male\",\"male\",\"male\",\"male\",\"male\",\"male\",\"male\",\"male\",\"male\",\"male\",\"male\",\"male\",\"male\",\"male\",\"male\",\"male\",\"male\",\"male\",\"male\",\"male\",\"male\",\"male\",\"male\",\"male\",\"male\",\"male\",\"male\",\"male\",\"male\",\"male\",\"male\",\"male\",\"male\",\"male\",\"male\",\"male\",\"male\",\"male\",\"male\",\"male\",\"male\",\"male\",\"male\",\"male\",\"male\",\"male\",\"male\",\"male\",\"male\",\"male\",\"male\",\"male\",\"male\",\"male\",\"male\",\"male\",\"male\",\"male\",\"male\",\"male\",\"male\",\"male\",\"male\",\"male\",\"male\",\"male\",\"male\",\"male\",\"male\",\"male\",\"male\",\"male\",\"male\",\"male\",\"male\",\"male\",\"male\",\"male\",\"male\",\"male\",\"male\",\"male\",\"male\",\"male\",\"male\",\"male\",\"male\",\"male\",\"male\",\"male\",\"male\",\"male\",\"male\",\"male\",\"male\",\"male\",\"male\",\"male\",\"male\",\"male\",\"male\",\"male\",\"male\",\"male\",\"male\",\"male\",\"male\",\"male\",\"male\",\"male\",\"male\",\"male\",\"male\",\"male\",\"male\",\"male\",\"male\",\"male\",\"male\",\"male\",\"male\",\"male\",\"male\",\"male\",\"male\",\"male\",\"male\",\"male\",\"male\",\"male\",\"male\",\"male\",\"male\",\"male\",\"male\",\"male\",\"male\",\"male\",\"male\",\"male\",\"male\",\"male\",\"male\",\"male\",\"male\",\"male\",\"male\",\"male\",\"male\",\"male\",\"male\",\"male\",\"male\",\"male\",\"male\",\"male\",\"male\",\"male\",\"male\",\"male\",\"male\",\"male\",\"male\",\"male\",\"male\",\"male\",\"male\",\"male\",\"male\",\"male\",\"male\",\"male\",\"male\",\"male\",\"male\",\"male\",\"male\",\"male\",\"male\",\"male\",\"male\",\"male\",\"male\",\"male\",\"male\",\"male\",\"male\",\"male\",\"male\",\"male\",\"male\",\"male\",\"male\",\"male\",\"male\",\"male\",\"male\",\"male\",\"male\",\"male\",\"male\",\"male\",\"male\",\"male\",\"male\",\"male\",\"male\",\"male\",\"male\",\"male\",\"male\",\"male\",\"male\",\"male\",\"male\",\"male\",\"male\",\"male\",\"male\",\"male\",\"male\",\"male\",\"male\",\"male\",\"male\",\"male\",\"male\",\"male\",\"male\",\"male\",\"male\",\"male\",\"male\",\"male\",\"male\",\"male\",\"male\",\"male\",\"male\",\"male\",\"male\",\"male\",\"male\",\"male\",\"male\",\"male\",\"male\",\"male\",\"male\",\"male\",\"male\",\"male\",\"male\",\"male\",\"male\",\"male\",\"male\",\"male\",\"male\",\"male\",\"male\",\"male\",\"male\",\"male\",\"male\",\"male\",\"male\",\"male\",\"male\",\"male\",\"male\",\"male\",\"male\",\"male\",\"male\",\"male\",\"male\",\"male\",\"male\",\"male\",\"male\",\"male\",\"male\",\"male\",\"male\",\"male\",\"male\",\"male\",\"male\",\"male\",\"male\",\"male\",\"male\",\"male\",\"male\",\"male\",\"male\",\"male\",\"male\",\"male\",\"male\",\"male\",\"male\",\"male\",\"male\",\"male\",\"male\",\"male\",\"male\",\"male\",\"male\",\"male\",\"male\",\"male\",\"male\",\"male\",\"male\",\"male\",\"male\",\"male\",\"male\",\"male\",\"male\",\"male\",\"male\",\"male\",\"male\",\"male\",\"male\",\"male\",\"male\",\"male\",\"male\",\"male\",\"male\",\"male\",\"male\",\"male\",\"male\",\"male\",\"male\",\"male\",\"male\",\"male\",\"male\",\"male\",\"male\",\"male\",\"male\",\"male\",\"male\",\"male\",\"male\",\"male\",\"male\",\"male\",\"male\",\"male\",\"male\",\"male\",\"male\",\"male\",\"male\",\"male\",\"male\",\"male\",\"male\",\"male\",\"male\",\"male\",\"male\",\"male\",\"male\",\"male\",\"male\",\"male\",\"male\",\"male\",\"male\",\"male\",\"male\",\"male\",\"male\",\"male\",\"male\",\"male\",\"male\",\"male\",\"male\",\"male\",\"male\",\"male\",\"male\",\"male\",\"male\",\"male\",\"male\",\"male\",\"male\",\"male\",\"male\",\"male\"],\"xaxis\":\"x\",\"yaxis\":\"y\",\"type\":\"histogram\"},{\"alignmentgroup\":\"True\",\"bingroup\":\"x\",\"hovertemplate\":\"Sexe=%{x}\\u003cbr\\u003ecount=%{y}\\u003cextra\\u003e\\u003c\\u002fextra\\u003e\",\"legendgroup\":\"female\",\"marker\":{\"color\":\"#EF553B\",\"pattern\":{\"shape\":\"\"}},\"name\":\"female\",\"offsetgroup\":\"female\",\"orientation\":\"v\",\"showlegend\":true,\"x\":[\"female\",\"female\",\"female\",\"female\",\"female\",\"female\",\"female\",\"female\",\"female\",\"female\",\"female\",\"female\",\"female\",\"female\",\"female\",\"female\",\"female\",\"female\",\"female\",\"female\",\"female\",\"female\",\"female\",\"female\",\"female\",\"female\",\"female\",\"female\",\"female\",\"female\",\"female\",\"female\",\"female\",\"female\",\"female\",\"female\",\"female\",\"female\",\"female\",\"female\",\"female\",\"female\",\"female\",\"female\",\"female\",\"female\",\"female\",\"female\",\"female\",\"female\",\"female\",\"female\",\"female\",\"female\",\"female\",\"female\",\"female\",\"female\",\"female\",\"female\",\"female\",\"female\",\"female\",\"female\",\"female\",\"female\",\"female\",\"female\",\"female\",\"female\",\"female\",\"female\",\"female\",\"female\",\"female\",\"female\",\"female\",\"female\",\"female\",\"female\",\"female\",\"female\",\"female\",\"female\",\"female\",\"female\",\"female\",\"female\",\"female\",\"female\",\"female\",\"female\",\"female\",\"female\",\"female\",\"female\",\"female\",\"female\",\"female\",\"female\",\"female\",\"female\",\"female\",\"female\",\"female\",\"female\",\"female\",\"female\",\"female\",\"female\",\"female\",\"female\",\"female\",\"female\",\"female\",\"female\",\"female\",\"female\",\"female\",\"female\",\"female\",\"female\",\"female\",\"female\",\"female\",\"female\",\"female\",\"female\",\"female\",\"female\",\"female\",\"female\",\"female\",\"female\",\"female\",\"female\",\"female\",\"female\",\"female\",\"female\",\"female\",\"female\",\"female\",\"female\",\"female\",\"female\",\"female\",\"female\",\"female\",\"female\",\"female\",\"female\",\"female\",\"female\",\"female\",\"female\",\"female\",\"female\",\"female\",\"female\",\"female\",\"female\",\"female\",\"female\",\"female\",\"female\",\"female\",\"female\",\"female\",\"female\",\"female\",\"female\",\"female\",\"female\",\"female\",\"female\",\"female\",\"female\",\"female\",\"female\",\"female\",\"female\",\"female\",\"female\",\"female\",\"female\",\"female\",\"female\",\"female\",\"female\",\"female\",\"female\",\"female\",\"female\",\"female\",\"female\",\"female\",\"female\",\"female\",\"female\",\"female\",\"female\",\"female\",\"female\",\"female\",\"female\",\"female\",\"female\",\"female\",\"female\",\"female\",\"female\",\"female\",\"female\",\"female\",\"female\",\"female\",\"female\",\"female\",\"female\",\"female\",\"female\",\"female\",\"female\",\"female\",\"female\",\"female\",\"female\",\"female\",\"female\",\"female\",\"female\",\"female\",\"female\",\"female\",\"female\",\"female\",\"female\",\"female\",\"female\",\"female\",\"female\",\"female\",\"female\",\"female\",\"female\",\"female\",\"female\",\"female\",\"female\",\"female\",\"female\",\"female\",\"female\",\"female\",\"female\",\"female\",\"female\",\"female\",\"female\",\"female\",\"female\",\"female\",\"female\",\"female\",\"female\",\"female\",\"female\",\"female\",\"female\",\"female\",\"female\",\"female\",\"female\",\"female\",\"female\",\"female\",\"female\",\"female\",\"female\",\"female\",\"female\",\"female\",\"female\",\"female\",\"female\",\"female\",\"female\",\"female\",\"female\",\"female\",\"female\",\"female\",\"female\",\"female\",\"female\",\"female\",\"female\",\"female\",\"female\",\"female\",\"female\",\"female\",\"female\",\"female\",\"female\",\"female\",\"female\",\"female\",\"female\",\"female\",\"female\",\"female\",\"female\",\"female\",\"female\",\"female\",\"female\",\"female\",\"female\",\"female\",\"female\",\"female\",\"female\",\"female\",\"female\",\"female\",\"female\",\"female\",\"female\",\"female\",\"female\",\"female\",\"female\",\"female\",\"female\",\"female\",\"female\",\"female\",\"female\",\"female\",\"female\",\"female\",\"female\",\"female\",\"female\",\"female\",\"female\",\"female\",\"female\",\"female\",\"female\",\"female\",\"female\",\"female\",\"female\",\"female\",\"female\",\"female\",\"female\",\"female\",\"female\",\"female\",\"female\",\"female\",\"female\",\"female\",\"female\",\"female\",\"female\",\"female\",\"female\",\"female\",\"female\",\"female\",\"female\",\"female\",\"female\",\"female\",\"female\",\"female\",\"female\",\"female\",\"female\",\"female\",\"female\",\"female\",\"female\",\"female\",\"female\",\"female\",\"female\",\"female\",\"female\",\"female\",\"female\",\"female\",\"female\",\"female\",\"female\",\"female\",\"female\",\"female\",\"female\",\"female\",\"female\",\"female\",\"female\",\"female\",\"female\",\"female\",\"female\",\"female\",\"female\",\"female\",\"female\",\"female\",\"female\",\"female\",\"female\",\"female\",\"female\",\"female\",\"female\",\"female\",\"female\",\"female\",\"female\",\"female\",\"female\",\"female\",\"female\",\"female\",\"female\",\"female\",\"female\",\"female\",\"female\",\"female\",\"female\",\"female\",\"female\",\"female\",\"female\",\"female\",\"female\",\"female\",\"female\",\"female\",\"female\",\"female\",\"female\",\"female\",\"female\",\"female\",\"female\",\"female\",\"female\",\"female\",\"female\",\"female\",\"female\",\"female\",\"female\",\"female\",\"female\"],\"xaxis\":\"x\",\"yaxis\":\"y\",\"type\":\"histogram\"}],                        {\"template\":{\"data\":{\"barpolar\":[{\"marker\":{\"line\":{\"color\":\"white\",\"width\":0.5},\"pattern\":{\"fillmode\":\"overlay\",\"size\":10,\"solidity\":0.2}},\"type\":\"barpolar\"}],\"bar\":[{\"error_x\":{\"color\":\"#2a3f5f\"},\"error_y\":{\"color\":\"#2a3f5f\"},\"marker\":{\"line\":{\"color\":\"white\",\"width\":0.5},\"pattern\":{\"fillmode\":\"overlay\",\"size\":10,\"solidity\":0.2}},\"type\":\"bar\"}],\"carpet\":[{\"aaxis\":{\"endlinecolor\":\"#2a3f5f\",\"gridcolor\":\"#C8D4E3\",\"linecolor\":\"#C8D4E3\",\"minorgridcolor\":\"#C8D4E3\",\"startlinecolor\":\"#2a3f5f\"},\"baxis\":{\"endlinecolor\":\"#2a3f5f\",\"gridcolor\":\"#C8D4E3\",\"linecolor\":\"#C8D4E3\",\"minorgridcolor\":\"#C8D4E3\",\"startlinecolor\":\"#2a3f5f\"},\"type\":\"carpet\"}],\"choropleth\":[{\"colorbar\":{\"outlinewidth\":0,\"ticks\":\"\"},\"type\":\"choropleth\"}],\"contourcarpet\":[{\"colorbar\":{\"outlinewidth\":0,\"ticks\":\"\"},\"type\":\"contourcarpet\"}],\"contour\":[{\"colorbar\":{\"outlinewidth\":0,\"ticks\":\"\"},\"colorscale\":[[0.0,\"#0d0887\"],[0.1111111111111111,\"#46039f\"],[0.2222222222222222,\"#7201a8\"],[0.3333333333333333,\"#9c179e\"],[0.4444444444444444,\"#bd3786\"],[0.5555555555555556,\"#d8576b\"],[0.6666666666666666,\"#ed7953\"],[0.7777777777777778,\"#fb9f3a\"],[0.8888888888888888,\"#fdca26\"],[1.0,\"#f0f921\"]],\"type\":\"contour\"}],\"heatmapgl\":[{\"colorbar\":{\"outlinewidth\":0,\"ticks\":\"\"},\"colorscale\":[[0.0,\"#0d0887\"],[0.1111111111111111,\"#46039f\"],[0.2222222222222222,\"#7201a8\"],[0.3333333333333333,\"#9c179e\"],[0.4444444444444444,\"#bd3786\"],[0.5555555555555556,\"#d8576b\"],[0.6666666666666666,\"#ed7953\"],[0.7777777777777778,\"#fb9f3a\"],[0.8888888888888888,\"#fdca26\"],[1.0,\"#f0f921\"]],\"type\":\"heatmapgl\"}],\"heatmap\":[{\"colorbar\":{\"outlinewidth\":0,\"ticks\":\"\"},\"colorscale\":[[0.0,\"#0d0887\"],[0.1111111111111111,\"#46039f\"],[0.2222222222222222,\"#7201a8\"],[0.3333333333333333,\"#9c179e\"],[0.4444444444444444,\"#bd3786\"],[0.5555555555555556,\"#d8576b\"],[0.6666666666666666,\"#ed7953\"],[0.7777777777777778,\"#fb9f3a\"],[0.8888888888888888,\"#fdca26\"],[1.0,\"#f0f921\"]],\"type\":\"heatmap\"}],\"histogram2dcontour\":[{\"colorbar\":{\"outlinewidth\":0,\"ticks\":\"\"},\"colorscale\":[[0.0,\"#0d0887\"],[0.1111111111111111,\"#46039f\"],[0.2222222222222222,\"#7201a8\"],[0.3333333333333333,\"#9c179e\"],[0.4444444444444444,\"#bd3786\"],[0.5555555555555556,\"#d8576b\"],[0.6666666666666666,\"#ed7953\"],[0.7777777777777778,\"#fb9f3a\"],[0.8888888888888888,\"#fdca26\"],[1.0,\"#f0f921\"]],\"type\":\"histogram2dcontour\"}],\"histogram2d\":[{\"colorbar\":{\"outlinewidth\":0,\"ticks\":\"\"},\"colorscale\":[[0.0,\"#0d0887\"],[0.1111111111111111,\"#46039f\"],[0.2222222222222222,\"#7201a8\"],[0.3333333333333333,\"#9c179e\"],[0.4444444444444444,\"#bd3786\"],[0.5555555555555556,\"#d8576b\"],[0.6666666666666666,\"#ed7953\"],[0.7777777777777778,\"#fb9f3a\"],[0.8888888888888888,\"#fdca26\"],[1.0,\"#f0f921\"]],\"type\":\"histogram2d\"}],\"histogram\":[{\"marker\":{\"pattern\":{\"fillmode\":\"overlay\",\"size\":10,\"solidity\":0.2}},\"type\":\"histogram\"}],\"mesh3d\":[{\"colorbar\":{\"outlinewidth\":0,\"ticks\":\"\"},\"type\":\"mesh3d\"}],\"parcoords\":[{\"line\":{\"colorbar\":{\"outlinewidth\":0,\"ticks\":\"\"}},\"type\":\"parcoords\"}],\"pie\":[{\"automargin\":true,\"type\":\"pie\"}],\"scatter3d\":[{\"line\":{\"colorbar\":{\"outlinewidth\":0,\"ticks\":\"\"}},\"marker\":{\"colorbar\":{\"outlinewidth\":0,\"ticks\":\"\"}},\"type\":\"scatter3d\"}],\"scattercarpet\":[{\"marker\":{\"colorbar\":{\"outlinewidth\":0,\"ticks\":\"\"}},\"type\":\"scattercarpet\"}],\"scattergeo\":[{\"marker\":{\"colorbar\":{\"outlinewidth\":0,\"ticks\":\"\"}},\"type\":\"scattergeo\"}],\"scattergl\":[{\"marker\":{\"colorbar\":{\"outlinewidth\":0,\"ticks\":\"\"}},\"type\":\"scattergl\"}],\"scattermapbox\":[{\"marker\":{\"colorbar\":{\"outlinewidth\":0,\"ticks\":\"\"}},\"type\":\"scattermapbox\"}],\"scatterpolargl\":[{\"marker\":{\"colorbar\":{\"outlinewidth\":0,\"ticks\":\"\"}},\"type\":\"scatterpolargl\"}],\"scatterpolar\":[{\"marker\":{\"colorbar\":{\"outlinewidth\":0,\"ticks\":\"\"}},\"type\":\"scatterpolar\"}],\"scatter\":[{\"fillpattern\":{\"fillmode\":\"overlay\",\"size\":10,\"solidity\":0.2},\"type\":\"scatter\"}],\"scatterternary\":[{\"marker\":{\"colorbar\":{\"outlinewidth\":0,\"ticks\":\"\"}},\"type\":\"scatterternary\"}],\"surface\":[{\"colorbar\":{\"outlinewidth\":0,\"ticks\":\"\"},\"colorscale\":[[0.0,\"#0d0887\"],[0.1111111111111111,\"#46039f\"],[0.2222222222222222,\"#7201a8\"],[0.3333333333333333,\"#9c179e\"],[0.4444444444444444,\"#bd3786\"],[0.5555555555555556,\"#d8576b\"],[0.6666666666666666,\"#ed7953\"],[0.7777777777777778,\"#fb9f3a\"],[0.8888888888888888,\"#fdca26\"],[1.0,\"#f0f921\"]],\"type\":\"surface\"}],\"table\":[{\"cells\":{\"fill\":{\"color\":\"#EBF0F8\"},\"line\":{\"color\":\"white\"}},\"header\":{\"fill\":{\"color\":\"#C8D4E3\"},\"line\":{\"color\":\"white\"}},\"type\":\"table\"}]},\"layout\":{\"annotationdefaults\":{\"arrowcolor\":\"#2a3f5f\",\"arrowhead\":0,\"arrowwidth\":1},\"autotypenumbers\":\"strict\",\"coloraxis\":{\"colorbar\":{\"outlinewidth\":0,\"ticks\":\"\"}},\"colorscale\":{\"diverging\":[[0,\"#8e0152\"],[0.1,\"#c51b7d\"],[0.2,\"#de77ae\"],[0.3,\"#f1b6da\"],[0.4,\"#fde0ef\"],[0.5,\"#f7f7f7\"],[0.6,\"#e6f5d0\"],[0.7,\"#b8e186\"],[0.8,\"#7fbc41\"],[0.9,\"#4d9221\"],[1,\"#276419\"]],\"sequential\":[[0.0,\"#0d0887\"],[0.1111111111111111,\"#46039f\"],[0.2222222222222222,\"#7201a8\"],[0.3333333333333333,\"#9c179e\"],[0.4444444444444444,\"#bd3786\"],[0.5555555555555556,\"#d8576b\"],[0.6666666666666666,\"#ed7953\"],[0.7777777777777778,\"#fb9f3a\"],[0.8888888888888888,\"#fdca26\"],[1.0,\"#f0f921\"]],\"sequentialminus\":[[0.0,\"#0d0887\"],[0.1111111111111111,\"#46039f\"],[0.2222222222222222,\"#7201a8\"],[0.3333333333333333,\"#9c179e\"],[0.4444444444444444,\"#bd3786\"],[0.5555555555555556,\"#d8576b\"],[0.6666666666666666,\"#ed7953\"],[0.7777777777777778,\"#fb9f3a\"],[0.8888888888888888,\"#fdca26\"],[1.0,\"#f0f921\"]]},\"colorway\":[\"#636efa\",\"#EF553B\",\"#00cc96\",\"#ab63fa\",\"#FFA15A\",\"#19d3f3\",\"#FF6692\",\"#B6E880\",\"#FF97FF\",\"#FECB52\"],\"font\":{\"color\":\"#2a3f5f\"},\"geo\":{\"bgcolor\":\"white\",\"lakecolor\":\"white\",\"landcolor\":\"white\",\"showlakes\":true,\"showland\":true,\"subunitcolor\":\"#C8D4E3\"},\"hoverlabel\":{\"align\":\"left\"},\"hovermode\":\"closest\",\"mapbox\":{\"style\":\"light\"},\"paper_bgcolor\":\"white\",\"plot_bgcolor\":\"white\",\"polar\":{\"angularaxis\":{\"gridcolor\":\"#EBF0F8\",\"linecolor\":\"#EBF0F8\",\"ticks\":\"\"},\"bgcolor\":\"white\",\"radialaxis\":{\"gridcolor\":\"#EBF0F8\",\"linecolor\":\"#EBF0F8\",\"ticks\":\"\"}},\"scene\":{\"xaxis\":{\"backgroundcolor\":\"white\",\"gridcolor\":\"#DFE8F3\",\"gridwidth\":2,\"linecolor\":\"#EBF0F8\",\"showbackground\":true,\"ticks\":\"\",\"zerolinecolor\":\"#EBF0F8\"},\"yaxis\":{\"backgroundcolor\":\"white\",\"gridcolor\":\"#DFE8F3\",\"gridwidth\":2,\"linecolor\":\"#EBF0F8\",\"showbackground\":true,\"ticks\":\"\",\"zerolinecolor\":\"#EBF0F8\"},\"zaxis\":{\"backgroundcolor\":\"white\",\"gridcolor\":\"#DFE8F3\",\"gridwidth\":2,\"linecolor\":\"#EBF0F8\",\"showbackground\":true,\"ticks\":\"\",\"zerolinecolor\":\"#EBF0F8\"}},\"shapedefaults\":{\"line\":{\"color\":\"#2a3f5f\"}},\"ternary\":{\"aaxis\":{\"gridcolor\":\"#DFE8F3\",\"linecolor\":\"#A2B1C6\",\"ticks\":\"\"},\"baxis\":{\"gridcolor\":\"#DFE8F3\",\"linecolor\":\"#A2B1C6\",\"ticks\":\"\"},\"bgcolor\":\"white\",\"caxis\":{\"gridcolor\":\"#DFE8F3\",\"linecolor\":\"#A2B1C6\",\"ticks\":\"\"}},\"title\":{\"x\":0.05},\"xaxis\":{\"automargin\":true,\"gridcolor\":\"#EBF0F8\",\"linecolor\":\"#EBF0F8\",\"ticks\":\"\",\"title\":{\"standoff\":15},\"zerolinecolor\":\"#EBF0F8\",\"zerolinewidth\":2},\"yaxis\":{\"automargin\":true,\"gridcolor\":\"#EBF0F8\",\"linecolor\":\"#EBF0F8\",\"ticks\":\"\",\"title\":{\"standoff\":15},\"zerolinecolor\":\"#EBF0F8\",\"zerolinewidth\":2}}},\"xaxis\":{\"anchor\":\"y\",\"domain\":[0.0,1.0],\"title\":{\"text\":\"Sexe\"},\"categoryorder\":\"array\",\"categoryarray\":[\"male\",\"female\"]},\"yaxis\":{\"anchor\":\"x\",\"domain\":[0.0,1.0],\"title\":{\"text\":\"Nombre de Passagers\"}},\"legend\":{\"title\":{\"text\":\"Sexe\"},\"tracegroupgap\":0},\"title\":{\"text\":\"Distribution du Sexe des Passagers\"},\"barmode\":\"relative\"},                        {\"responsive\": true}                    ).then(function(){\n                            \nvar gd = document.getElementById('67e14ca9-21b7-4beb-bfeb-b2c1c8878fa5');\nvar x = new MutationObserver(function (mutations, observer) {{\n        var display = window.getComputedStyle(gd).display;\n        if (!display || display === 'none') {{\n            console.log([gd, 'removed!']);\n            Plotly.purge(gd);\n            observer.disconnect();\n        }}\n}});\n\n// Listen for the removal of the full notebook cells\nvar notebookContainer = gd.closest('#notebook-container');\nif (notebookContainer) {{\n    x.observe(notebookContainer, {childList: true});\n}}\n\n// Listen for the clearing of the current output cell\nvar outputEl = gd.closest('.output');\nif (outputEl) {{\n    x.observe(outputEl, {childList: true});\n}}\n\n                        })                };                });            </script>        </div>"
          },
          "metadata": {}
        }
      ],
      "id": "0551a1c3"
    },
    {
      "cell_type": "markdown",
      "source": [
        "### 4. Distribution de la variable sibsp (nbr de frère et soeur/ conjoint à board)\n",
        "\n",
        "> Add blockquote\n",
        "\n"
      ],
      "metadata": {
        "id": "1fb5c7e6"
      },
      "id": "1fb5c7e6"
    },
    {
      "cell_type": "code",
      "source": [
        "fig = px.histogram(df, x='sibsp', title='Distribution du Nombre de Frères/Sœurs ou Conjoints à Bord',\n",
        "                   labels={'sibsp': 'Nombre de Frères/Sœurs ou Conjoints à Bord'},\n",
        "                   color_discrete_sequence=['#FFA07A'])\n",
        "\n",
        "fig.update_layout(\n",
        "    xaxis_title=\"Nombre de Frères/Sœurs ou Conjoints à Bord\",\n",
        "    yaxis_title=\"Nombre de Passagers\",\n",
        "    template='plotly_white'\n",
        ")"
      ],
      "metadata": {
        "id": "5545b8c2",
        "execution": {
          "iopub.status.busy": "2024-10-07T18:30:15.394552Z",
          "iopub.execute_input": "2024-10-07T18:30:15.394868Z",
          "iopub.status.idle": "2024-10-07T18:30:15.484716Z",
          "shell.execute_reply.started": "2024-10-07T18:30:15.394834Z",
          "shell.execute_reply": "2024-10-07T18:30:15.483812Z"
        },
        "trusted": true,
        "outputId": "f240c1e5-2922-4925-cfdb-79dd1f57b31a"
      },
      "execution_count": null,
      "outputs": [
        {
          "output_type": "display_data",
          "data": {
            "text/html": "<div>                            <div id=\"1f0dc635-1a05-4745-bc8d-3596643d9bcf\" class=\"plotly-graph-div\" style=\"height:525px; width:100%;\"></div>            <script type=\"text/javascript\">                require([\"plotly\"], function(Plotly) {                    window.PLOTLYENV=window.PLOTLYENV || {};                                    if (document.getElementById(\"1f0dc635-1a05-4745-bc8d-3596643d9bcf\")) {                    Plotly.newPlot(                        \"1f0dc635-1a05-4745-bc8d-3596643d9bcf\",                        [{\"alignmentgroup\":\"True\",\"bingroup\":\"x\",\"hovertemplate\":\"Nombre de Frères\\u002fSœurs ou Conjoints à Bord=%{x}\\u003cbr\\u003ecount=%{y}\\u003cextra\\u003e\\u003c\\u002fextra\\u003e\",\"legendgroup\":\"\",\"marker\":{\"color\":\"#FFA07A\",\"pattern\":{\"shape\":\"\"}},\"name\":\"\",\"offsetgroup\":\"\",\"orientation\":\"v\",\"showlegend\":false,\"x\":[0,1,1,1,1,0,1,0,2,0,1,1,0,0,0,0,0,0,0,0,1,1,0,0,0,0,1,1,0,0,0,0,0,0,0,0,0,0,0,0,0,0,2,0,0,0,0,0,0,0,0,0,0,0,1,1,1,1,0,0,1,1,1,1,1,1,0,0,0,0,0,1,1,0,0,0,1,1,0,2,0,1,0,1,1,1,0,0,0,1,1,1,1,1,0,1,1,1,1,1,1,0,0,0,1,0,0,0,0,0,0,3,3,3,3,1,1,0,0,2,1,1,0,1,1,0,1,1,0,0,0,0,0,1,1,0,0,0,0,0,0,0,0,1,1,1,1,0,1,1,0,0,0,0,1,1,0,0,0,0,0,1,1,1,0,1,0,1,0,0,0,0,0,0,0,1,1,1,1,0,0,0,0,0,0,0,0,0,0,0,0,0,0,0,0,0,0,1,1,0,0,0,0,1,1,0,2,1,1,1,0,0,0,1,1,0,0,0,0,0,0,0,0,0,0,0,1,1,1,1,0,0,0,0,0,0,0,0,0,0,0,0,0,0,0,0,1,1,0,2,2,2,1,1,0,0,0,1,0,0,0,0,1,1,0,0,0,0,1,0,1,1,1,0,1,1,1,1,0,0,1,1,1,0,0,1,1,0,0,0,1,1,1,1,1,0,1,0,0,0,0,0,0,1,1,0,0,0,0,0,1,1,1,0,1,0,0,0,0,0,0,0,0,1,1,0,0,0,1,1,0,0,0,0,0,0,1,1,0,2,2,2,0,0,0,0,0,0,0,0,0,1,1,1,1,0,0,0,0,0,1,1,0,0,0,1,1,0,1,1,1,0,1,1,0,0,0,0,1,1,0,0,0,0,0,1,0,0,0,0,0,1,1,0,0,0,0,0,0,1,1,1,1,0,0,0,1,1,0,0,0,0,0,1,1,0,0,0,0,1,1,0,0,0,0,0,0,1,0,0,0,0,0,0,0,1,1,1,1,1,1,0,2,2,2,1,2,2,0,1,0,1,1,0,0,1,1,0,0,1,2,0,2,2,0,0,1,1,0,0,0,0,0,0,0,1,1,0,1,1,1,1,0,0,0,0,0,0,1,1,0,0,0,1,1,0,0,0,0,0,0,0,0,0,0,0,0,0,0,0,0,0,1,1,1,1,0,0,1,0,0,0,0,0,0,0,0,0,0,0,0,0,0,0,0,0,0,0,0,0,1,1,0,0,1,3,0,0,1,1,2,0,0,0,0,0,0,0,0,0,0,0,0,0,0,0,0,0,0,0,0,0,0,0,1,1,0,0,1,1,0,0,0,0,0,1,1,1,1,0,1,1,1,1,0,0,0,0,0,0,0,0,1,1,0,0,0,0,0,0,1,0,0,0,0,0,0,0,0,0,0,1,4,4,4,4,4,4,4,1,0,0,1,0,0,1,1,0,0,4,4,4,4,4,1,0,1,0,0,0,0,0,0,0,0,1,3,2,2,2,0,0,0,0,0,0,0,0,0,0,0,0,0,0,0,0,0,0,1,1,0,0,0,1,1,0,0,0,1,1,0,0,0,0,0,0,0,0,0,0,0,0,0,0,0,1,1,0,0,0,0,0,0,0,0,0,1,1,0,0,0,0,0,0,0,0,0,0,0,0,0,0,0,1,1,0,0,0,0,0,0,0,0,0,0,0,0,0,1,1,0,0,2,0,2,2,1,1,1,1,0,0,1,1,1,1,0,0,0,0,0,0,0,0,0,0,0,0,0,0,0,0,0,0,1,1,0,0,0,0,0,1,1,0,0,0,0,0,0,0,0,0,0,0,0,0,2,2,0,2,1,1,0,0,0,0,0,0,0,0,0,1,0,1,0,5,5,5,5,5,5,1,1,0,0,0,0,2,2,0,0,0,1,1,1,1,0,0,2,1,0,1,0,0,0,0,0,0,0,0,0,0,0,0,0,0,0,1,0,0,0,0,0,0,0,0,0,1,1,0,0,0,0,0,0,1,0,0,0,0,0,0,0,0,1,1,0,0,0,0,1,1,1,1,0,0,0,1,1,0,0,0,0,0,0,0,0,0,0,0,0,0,0,0,0,0,0,1,1,1,1,0,2,2,0,3,1,1,1,0,0,0,0,0,0,0,0,0,0,0,0,0,0,0,3,3,3,3,0,0,0,1,1,0,0,0,0,0,1,1,1,0,0,0,1,1,0,0,0,0,0,0,0,0,0,0,0,0,0,0,0,0,0,0,0,0,0,0,0,0,0,2,2,2,0,0,0,0,0,0,1,1,0,0,0,0,0,0,0,0,0,0,0,0,0,0,0,0,1,1,0,0,0,0,1,1,0,0,0,0,0,0,1,1,0,0,0,0,0,1,1,0,0,0,0,0,1,1,0,0,0,0,0,0,0,0,0,0,0,1,0,1,0,0,0,0,0,0,0,0,0,0,0,0,0,0,0,0,0,0,0,0,0,0,0,0,3,3,3,3,0,4,4,4,4,4,0,0,0,0,0,1,1,0,0,0,0,0,0,0,1,1,1,0,0,0,0,0,0,1,0,0,0,0,0,0,0,0,0,0,0,4,4,4,4,4,0,0,0,0,0,0,1,1,0,0,1,1,0,0,0,0,0,0,0,0,0,0,0,0,8,8,8,8,8,8,8,8,8,1,1,0,0,0,2,2,2,1,0,1,0,0,0,0,0,0,0,0,0,0,0,0,0,0,0,0,3,3,3,3,1,1,0,0,0,0,0,0,0,0,0,0,0,0,0,0,0,0,0,0,0,1,0,0,0,0,0,0,0,0,0,1,0,0,1,0,1,1,0,0,0,0,0,0,0,0,1,1,0,0,0,0,1,1,0,0,1,1,0,0,0,0,0,2,3,2,1,0,0,0,0,0,0,0,0,0,0,0,1,1,1,0,0,0,0,0,0,0,0,1,1,0,0,0,1,1,0,0,0],\"xaxis\":\"x\",\"yaxis\":\"y\",\"type\":\"histogram\"}],                        {\"template\":{\"data\":{\"barpolar\":[{\"marker\":{\"line\":{\"color\":\"white\",\"width\":0.5},\"pattern\":{\"fillmode\":\"overlay\",\"size\":10,\"solidity\":0.2}},\"type\":\"barpolar\"}],\"bar\":[{\"error_x\":{\"color\":\"#2a3f5f\"},\"error_y\":{\"color\":\"#2a3f5f\"},\"marker\":{\"line\":{\"color\":\"white\",\"width\":0.5},\"pattern\":{\"fillmode\":\"overlay\",\"size\":10,\"solidity\":0.2}},\"type\":\"bar\"}],\"carpet\":[{\"aaxis\":{\"endlinecolor\":\"#2a3f5f\",\"gridcolor\":\"#C8D4E3\",\"linecolor\":\"#C8D4E3\",\"minorgridcolor\":\"#C8D4E3\",\"startlinecolor\":\"#2a3f5f\"},\"baxis\":{\"endlinecolor\":\"#2a3f5f\",\"gridcolor\":\"#C8D4E3\",\"linecolor\":\"#C8D4E3\",\"minorgridcolor\":\"#C8D4E3\",\"startlinecolor\":\"#2a3f5f\"},\"type\":\"carpet\"}],\"choropleth\":[{\"colorbar\":{\"outlinewidth\":0,\"ticks\":\"\"},\"type\":\"choropleth\"}],\"contourcarpet\":[{\"colorbar\":{\"outlinewidth\":0,\"ticks\":\"\"},\"type\":\"contourcarpet\"}],\"contour\":[{\"colorbar\":{\"outlinewidth\":0,\"ticks\":\"\"},\"colorscale\":[[0.0,\"#0d0887\"],[0.1111111111111111,\"#46039f\"],[0.2222222222222222,\"#7201a8\"],[0.3333333333333333,\"#9c179e\"],[0.4444444444444444,\"#bd3786\"],[0.5555555555555556,\"#d8576b\"],[0.6666666666666666,\"#ed7953\"],[0.7777777777777778,\"#fb9f3a\"],[0.8888888888888888,\"#fdca26\"],[1.0,\"#f0f921\"]],\"type\":\"contour\"}],\"heatmapgl\":[{\"colorbar\":{\"outlinewidth\":0,\"ticks\":\"\"},\"colorscale\":[[0.0,\"#0d0887\"],[0.1111111111111111,\"#46039f\"],[0.2222222222222222,\"#7201a8\"],[0.3333333333333333,\"#9c179e\"],[0.4444444444444444,\"#bd3786\"],[0.5555555555555556,\"#d8576b\"],[0.6666666666666666,\"#ed7953\"],[0.7777777777777778,\"#fb9f3a\"],[0.8888888888888888,\"#fdca26\"],[1.0,\"#f0f921\"]],\"type\":\"heatmapgl\"}],\"heatmap\":[{\"colorbar\":{\"outlinewidth\":0,\"ticks\":\"\"},\"colorscale\":[[0.0,\"#0d0887\"],[0.1111111111111111,\"#46039f\"],[0.2222222222222222,\"#7201a8\"],[0.3333333333333333,\"#9c179e\"],[0.4444444444444444,\"#bd3786\"],[0.5555555555555556,\"#d8576b\"],[0.6666666666666666,\"#ed7953\"],[0.7777777777777778,\"#fb9f3a\"],[0.8888888888888888,\"#fdca26\"],[1.0,\"#f0f921\"]],\"type\":\"heatmap\"}],\"histogram2dcontour\":[{\"colorbar\":{\"outlinewidth\":0,\"ticks\":\"\"},\"colorscale\":[[0.0,\"#0d0887\"],[0.1111111111111111,\"#46039f\"],[0.2222222222222222,\"#7201a8\"],[0.3333333333333333,\"#9c179e\"],[0.4444444444444444,\"#bd3786\"],[0.5555555555555556,\"#d8576b\"],[0.6666666666666666,\"#ed7953\"],[0.7777777777777778,\"#fb9f3a\"],[0.8888888888888888,\"#fdca26\"],[1.0,\"#f0f921\"]],\"type\":\"histogram2dcontour\"}],\"histogram2d\":[{\"colorbar\":{\"outlinewidth\":0,\"ticks\":\"\"},\"colorscale\":[[0.0,\"#0d0887\"],[0.1111111111111111,\"#46039f\"],[0.2222222222222222,\"#7201a8\"],[0.3333333333333333,\"#9c179e\"],[0.4444444444444444,\"#bd3786\"],[0.5555555555555556,\"#d8576b\"],[0.6666666666666666,\"#ed7953\"],[0.7777777777777778,\"#fb9f3a\"],[0.8888888888888888,\"#fdca26\"],[1.0,\"#f0f921\"]],\"type\":\"histogram2d\"}],\"histogram\":[{\"marker\":{\"pattern\":{\"fillmode\":\"overlay\",\"size\":10,\"solidity\":0.2}},\"type\":\"histogram\"}],\"mesh3d\":[{\"colorbar\":{\"outlinewidth\":0,\"ticks\":\"\"},\"type\":\"mesh3d\"}],\"parcoords\":[{\"line\":{\"colorbar\":{\"outlinewidth\":0,\"ticks\":\"\"}},\"type\":\"parcoords\"}],\"pie\":[{\"automargin\":true,\"type\":\"pie\"}],\"scatter3d\":[{\"line\":{\"colorbar\":{\"outlinewidth\":0,\"ticks\":\"\"}},\"marker\":{\"colorbar\":{\"outlinewidth\":0,\"ticks\":\"\"}},\"type\":\"scatter3d\"}],\"scattercarpet\":[{\"marker\":{\"colorbar\":{\"outlinewidth\":0,\"ticks\":\"\"}},\"type\":\"scattercarpet\"}],\"scattergeo\":[{\"marker\":{\"colorbar\":{\"outlinewidth\":0,\"ticks\":\"\"}},\"type\":\"scattergeo\"}],\"scattergl\":[{\"marker\":{\"colorbar\":{\"outlinewidth\":0,\"ticks\":\"\"}},\"type\":\"scattergl\"}],\"scattermapbox\":[{\"marker\":{\"colorbar\":{\"outlinewidth\":0,\"ticks\":\"\"}},\"type\":\"scattermapbox\"}],\"scatterpolargl\":[{\"marker\":{\"colorbar\":{\"outlinewidth\":0,\"ticks\":\"\"}},\"type\":\"scatterpolargl\"}],\"scatterpolar\":[{\"marker\":{\"colorbar\":{\"outlinewidth\":0,\"ticks\":\"\"}},\"type\":\"scatterpolar\"}],\"scatter\":[{\"fillpattern\":{\"fillmode\":\"overlay\",\"size\":10,\"solidity\":0.2},\"type\":\"scatter\"}],\"scatterternary\":[{\"marker\":{\"colorbar\":{\"outlinewidth\":0,\"ticks\":\"\"}},\"type\":\"scatterternary\"}],\"surface\":[{\"colorbar\":{\"outlinewidth\":0,\"ticks\":\"\"},\"colorscale\":[[0.0,\"#0d0887\"],[0.1111111111111111,\"#46039f\"],[0.2222222222222222,\"#7201a8\"],[0.3333333333333333,\"#9c179e\"],[0.4444444444444444,\"#bd3786\"],[0.5555555555555556,\"#d8576b\"],[0.6666666666666666,\"#ed7953\"],[0.7777777777777778,\"#fb9f3a\"],[0.8888888888888888,\"#fdca26\"],[1.0,\"#f0f921\"]],\"type\":\"surface\"}],\"table\":[{\"cells\":{\"fill\":{\"color\":\"#EBF0F8\"},\"line\":{\"color\":\"white\"}},\"header\":{\"fill\":{\"color\":\"#C8D4E3\"},\"line\":{\"color\":\"white\"}},\"type\":\"table\"}]},\"layout\":{\"annotationdefaults\":{\"arrowcolor\":\"#2a3f5f\",\"arrowhead\":0,\"arrowwidth\":1},\"autotypenumbers\":\"strict\",\"coloraxis\":{\"colorbar\":{\"outlinewidth\":0,\"ticks\":\"\"}},\"colorscale\":{\"diverging\":[[0,\"#8e0152\"],[0.1,\"#c51b7d\"],[0.2,\"#de77ae\"],[0.3,\"#f1b6da\"],[0.4,\"#fde0ef\"],[0.5,\"#f7f7f7\"],[0.6,\"#e6f5d0\"],[0.7,\"#b8e186\"],[0.8,\"#7fbc41\"],[0.9,\"#4d9221\"],[1,\"#276419\"]],\"sequential\":[[0.0,\"#0d0887\"],[0.1111111111111111,\"#46039f\"],[0.2222222222222222,\"#7201a8\"],[0.3333333333333333,\"#9c179e\"],[0.4444444444444444,\"#bd3786\"],[0.5555555555555556,\"#d8576b\"],[0.6666666666666666,\"#ed7953\"],[0.7777777777777778,\"#fb9f3a\"],[0.8888888888888888,\"#fdca26\"],[1.0,\"#f0f921\"]],\"sequentialminus\":[[0.0,\"#0d0887\"],[0.1111111111111111,\"#46039f\"],[0.2222222222222222,\"#7201a8\"],[0.3333333333333333,\"#9c179e\"],[0.4444444444444444,\"#bd3786\"],[0.5555555555555556,\"#d8576b\"],[0.6666666666666666,\"#ed7953\"],[0.7777777777777778,\"#fb9f3a\"],[0.8888888888888888,\"#fdca26\"],[1.0,\"#f0f921\"]]},\"colorway\":[\"#636efa\",\"#EF553B\",\"#00cc96\",\"#ab63fa\",\"#FFA15A\",\"#19d3f3\",\"#FF6692\",\"#B6E880\",\"#FF97FF\",\"#FECB52\"],\"font\":{\"color\":\"#2a3f5f\"},\"geo\":{\"bgcolor\":\"white\",\"lakecolor\":\"white\",\"landcolor\":\"white\",\"showlakes\":true,\"showland\":true,\"subunitcolor\":\"#C8D4E3\"},\"hoverlabel\":{\"align\":\"left\"},\"hovermode\":\"closest\",\"mapbox\":{\"style\":\"light\"},\"paper_bgcolor\":\"white\",\"plot_bgcolor\":\"white\",\"polar\":{\"angularaxis\":{\"gridcolor\":\"#EBF0F8\",\"linecolor\":\"#EBF0F8\",\"ticks\":\"\"},\"bgcolor\":\"white\",\"radialaxis\":{\"gridcolor\":\"#EBF0F8\",\"linecolor\":\"#EBF0F8\",\"ticks\":\"\"}},\"scene\":{\"xaxis\":{\"backgroundcolor\":\"white\",\"gridcolor\":\"#DFE8F3\",\"gridwidth\":2,\"linecolor\":\"#EBF0F8\",\"showbackground\":true,\"ticks\":\"\",\"zerolinecolor\":\"#EBF0F8\"},\"yaxis\":{\"backgroundcolor\":\"white\",\"gridcolor\":\"#DFE8F3\",\"gridwidth\":2,\"linecolor\":\"#EBF0F8\",\"showbackground\":true,\"ticks\":\"\",\"zerolinecolor\":\"#EBF0F8\"},\"zaxis\":{\"backgroundcolor\":\"white\",\"gridcolor\":\"#DFE8F3\",\"gridwidth\":2,\"linecolor\":\"#EBF0F8\",\"showbackground\":true,\"ticks\":\"\",\"zerolinecolor\":\"#EBF0F8\"}},\"shapedefaults\":{\"line\":{\"color\":\"#2a3f5f\"}},\"ternary\":{\"aaxis\":{\"gridcolor\":\"#DFE8F3\",\"linecolor\":\"#A2B1C6\",\"ticks\":\"\"},\"baxis\":{\"gridcolor\":\"#DFE8F3\",\"linecolor\":\"#A2B1C6\",\"ticks\":\"\"},\"bgcolor\":\"white\",\"caxis\":{\"gridcolor\":\"#DFE8F3\",\"linecolor\":\"#A2B1C6\",\"ticks\":\"\"}},\"title\":{\"x\":0.05},\"xaxis\":{\"automargin\":true,\"gridcolor\":\"#EBF0F8\",\"linecolor\":\"#EBF0F8\",\"ticks\":\"\",\"title\":{\"standoff\":15},\"zerolinecolor\":\"#EBF0F8\",\"zerolinewidth\":2},\"yaxis\":{\"automargin\":true,\"gridcolor\":\"#EBF0F8\",\"linecolor\":\"#EBF0F8\",\"ticks\":\"\",\"title\":{\"standoff\":15},\"zerolinecolor\":\"#EBF0F8\",\"zerolinewidth\":2}}},\"xaxis\":{\"anchor\":\"y\",\"domain\":[0.0,1.0],\"title\":{\"text\":\"Nombre de Frères\\u002fSœurs ou Conjoints à Bord\"}},\"yaxis\":{\"anchor\":\"x\",\"domain\":[0.0,1.0],\"title\":{\"text\":\"Nombre de Passagers\"}},\"legend\":{\"tracegroupgap\":0},\"title\":{\"text\":\"Distribution du Nombre de Frères\\u002fSœurs ou Conjoints à Bord\"},\"barmode\":\"relative\"},                        {\"responsive\": true}                    ).then(function(){\n                            \nvar gd = document.getElementById('1f0dc635-1a05-4745-bc8d-3596643d9bcf');\nvar x = new MutationObserver(function (mutations, observer) {{\n        var display = window.getComputedStyle(gd).display;\n        if (!display || display === 'none') {{\n            console.log([gd, 'removed!']);\n            Plotly.purge(gd);\n            observer.disconnect();\n        }}\n}});\n\n// Listen for the removal of the full notebook cells\nvar notebookContainer = gd.closest('#notebook-container');\nif (notebookContainer) {{\n    x.observe(notebookContainer, {childList: true});\n}}\n\n// Listen for the clearing of the current output cell\nvar outputEl = gd.closest('.output');\nif (outputEl) {{\n    x.observe(outputEl, {childList: true});\n}}\n\n                        })                };                });            </script>        </div>"
          },
          "metadata": {}
        }
      ],
      "id": "5545b8c2"
    },
    {
      "cell_type": "markdown",
      "source": [
        "### 5. Distribution de la variable Parch - Children/Parents"
      ],
      "metadata": {
        "id": "ec371c10"
      },
      "id": "ec371c10"
    },
    {
      "cell_type": "code",
      "source": [
        "fig = px.histogram(df, x='parch', title=' Distribution de nombre Parents/Fils à Bord',\n",
        "                   labels={'parch': 'Nombre Parents/Fils à Bord'},\n",
        "                   color_discrete_sequence=['#FFA07A'])\n",
        "\n",
        "fig.update_layout(\n",
        "    xaxis_title=\"Nombre Parents/Fils à Bord\",\n",
        "    yaxis_title=\"Nombre de Passagers\",\n",
        "    template='plotly_white'\n",
        ")"
      ],
      "metadata": {
        "id": "620e57a3",
        "execution": {
          "iopub.status.busy": "2024-10-07T18:30:15.485886Z",
          "iopub.execute_input": "2024-10-07T18:30:15.486231Z",
          "iopub.status.idle": "2024-10-07T18:30:15.571877Z",
          "shell.execute_reply.started": "2024-10-07T18:30:15.486197Z",
          "shell.execute_reply": "2024-10-07T18:30:15.57093Z"
        },
        "trusted": true,
        "outputId": "4437d4b6-18a9-4381-d6ee-38f1af643980"
      },
      "execution_count": null,
      "outputs": [
        {
          "output_type": "display_data",
          "data": {
            "text/html": "<div>                            <div id=\"35bede1d-61db-45b2-a60c-c7cf77ccd3d2\" class=\"plotly-graph-div\" style=\"height:525px; width:100%;\"></div>            <script type=\"text/javascript\">                require([\"plotly\"], function(Plotly) {                    window.PLOTLYENV=window.PLOTLYENV || {};                                    if (document.getElementById(\"35bede1d-61db-45b2-a60c-c7cf77ccd3d2\")) {                    Plotly.newPlot(                        \"35bede1d-61db-45b2-a60c-c7cf77ccd3d2\",                        [{\"alignmentgroup\":\"True\",\"bingroup\":\"x\",\"hovertemplate\":\"Nombre Parents\\u002fFils à Bord=%{x}\\u003cbr\\u003ecount=%{y}\\u003cextra\\u003e\\u003c\\u002fextra\\u003e\",\"legendgroup\":\"\",\"marker\":{\"color\":\"#FFA07A\",\"pattern\":{\"shape\":\"\"}},\"name\":\"\",\"offsetgroup\":\"\",\"orientation\":\"v\",\"showlegend\":false,\"x\":[0,2,2,2,2,0,0,0,0,0,0,0,0,0,0,0,1,1,0,0,1,1,0,0,0,0,0,0,0,0,0,0,0,0,0,0,1,0,0,0,0,0,0,0,0,0,0,0,0,1,1,0,0,0,2,2,2,2,0,0,0,0,0,0,0,0,0,0,0,1,0,0,0,0,0,0,1,1,2,0,0,1,2,1,0,0,0,0,0,0,2,0,0,1,2,1,0,1,0,0,0,0,1,0,0,0,0,0,0,0,0,2,2,2,2,4,4,0,0,0,0,0,2,1,1,0,0,0,0,0,1,1,0,0,0,0,0,0,1,1,1,1,0,0,0,0,0,0,0,0,0,0,0,0,1,1,0,0,0,1,1,0,0,0,0,0,0,0,0,0,0,0,0,0,0,0,0,0,0,0,0,0,0,0,0,0,0,1,1,0,0,0,0,1,0,0,0,0,0,0,0,0,0,0,0,0,0,0,0,0,0,0,1,0,0,2,2,0,0,0,1,1,0,0,0,0,0,0,0,0,0,0,0,1,0,0,0,0,1,0,0,0,0,0,0,0,0,0,0,2,2,2,3,3,0,0,0,0,0,0,0,0,0,0,0,0,0,0,0,0,0,0,0,2,1,1,0,0,0,0,0,0,0,0,0,0,0,0,0,2,1,1,0,0,1,2,1,0,0,0,0,0,0,0,0,0,1,1,0,2,1,1,1,2,1,0,1,1,0,0,0,0,0,0,0,0,0,0,0,0,0,0,0,0,0,0,0,0,0,1,1,1,3,0,0,0,0,0,0,0,2,1,1,0,0,0,0,0,0,2,1,1,0,0,0,0,0,0,0,0,1,2,0,0,0,0,0,2,1,1,0,0,0,0,0,1,0,2,0,0,0,0,0,0,0,1,1,0,2,1,1,0,0,0,0,0,0,0,0,0,0,0,0,0,0,0,0,0,0,0,0,0,0,0,0,0,0,1,2,0,1,1,0,0,2,1,1,2,2,2,2,0,0,0,0,1,1,1,0,3,0,0,0,0,0,0,0,0,0,0,1,0,0,0,0,0,0,0,0,0,0,0,0,0,0,1,1,0,2,2,2,2,0,0,0,0,0,0,0,0,0,0,2,1,1,0,0,0,0,0,0,1,1,0,0,0,0,0,0,0,0,0,0,0,1,1,2,0,1,0,0,0,0,0,0,0,0,0,0,1,0,0,0,1,0,1,0,0,0,0,1,1,2,0,0,0,0,0,1,1,3,0,0,0,0,0,0,1,2,0,0,0,0,0,0,0,0,0,0,0,0,0,0,0,0,0,0,0,0,0,0,0,0,0,0,0,0,1,1,2,2,2,2,2,0,0,0,0,0,0,0,2,1,1,0,0,0,0,0,0,0,1,1,0,0,0,0,0,0,0,0,0,2,2,2,2,2,2,2,5,0,0,5,0,0,0,0,0,0,2,2,2,2,2,5,0,5,0,0,0,0,0,0,0,0,0,0,1,1,1,3,0,0,0,0,1,1,0,0,0,0,0,0,0,0,0,0,0,1,1,0,2,2,1,1,0,0,0,0,0,0,0,0,0,0,0,0,0,0,0,0,0,0,0,0,0,0,0,0,0,0,0,0,0,0,0,0,0,0,0,0,0,0,0,0,0,0,0,0,0,0,0,0,1,1,2,0,0,1,1,0,0,0,0,0,0,0,2,1,1,0,0,0,0,0,0,0,0,0,0,0,0,2,2,2,2,0,0,0,0,0,0,0,0,0,0,0,0,0,0,0,0,0,0,0,0,0,0,0,0,2,1,1,0,0,0,0,0,0,0,0,0,0,0,0,0,2,2,0,2,3,3,0,0,0,0,0,0,0,0,2,1,0,1,0,2,2,2,2,2,2,6,6,0,0,0,0,0,0,0,0,0,0,0,0,0,0,0,0,0,0,0,0,0,0,0,0,0,0,0,0,0,0,0,0,0,1,1,0,0,0,0,0,0,0,0,0,0,0,0,0,0,0,0,0,0,0,0,0,0,0,0,0,0,1,1,0,0,0,2,2,2,2,2,0,0,0,0,0,0,0,0,0,0,0,0,1,1,0,0,0,0,0,0,0,0,0,0,0,0,0,0,0,0,2,1,1,1,1,2,0,0,0,0,0,0,0,0,0,0,0,0,0,0,1,1,1,1,4,0,0,0,0,0,0,0,0,0,0,0,0,0,0,0,0,0,0,0,0,0,0,0,0,0,0,0,0,0,0,0,0,0,0,0,0,0,0,0,0,0,0,0,0,0,0,0,0,0,0,0,0,0,0,0,0,0,0,0,0,0,0,0,0,0,0,1,1,0,0,0,0,0,0,0,1,1,2,0,0,0,0,0,0,0,0,0,0,0,2,1,1,0,0,0,0,0,0,0,0,0,0,0,0,0,0,0,0,0,0,0,0,0,0,0,0,0,0,0,0,0,0,0,1,0,1,0,0,0,0,0,0,0,0,0,0,0,1,1,1,1,4,1,1,1,1,1,5,0,0,0,0,1,1,2,0,0,0,0,0,0,0,1,1,2,0,0,0,0,0,0,0,0,0,0,0,0,0,0,0,0,0,1,1,1,1,1,5,0,0,0,0,0,0,0,0,0,1,1,2,0,0,0,0,0,0,0,0,0,0,0,2,2,2,2,2,2,2,2,2,9,9,0,0,0,0,0,0,1,2,1,0,0,0,0,0,0,0,0,0,0,0,0,0,0,0,0,2,2,2,2,4,4,0,0,0,0,0,0,0,0,0,0,0,0,0,0,0,0,0,0,1,1,0,0,0,0,0,0,0,0,1,0,0,0,1,0,0,0,0,0,0,0,0,0,0,0,1,1,2,0,0,0,1,1,2,2,1,1,0,0,0,0,0,0,0,0,0,0,0,0,0,0,0,0,0,0,0,0,0,0,0,0,0,0,0,0,0,0,0,0,0,0,0,0,0,0,0,0,0],\"xaxis\":\"x\",\"yaxis\":\"y\",\"type\":\"histogram\"}],                        {\"template\":{\"data\":{\"barpolar\":[{\"marker\":{\"line\":{\"color\":\"white\",\"width\":0.5},\"pattern\":{\"fillmode\":\"overlay\",\"size\":10,\"solidity\":0.2}},\"type\":\"barpolar\"}],\"bar\":[{\"error_x\":{\"color\":\"#2a3f5f\"},\"error_y\":{\"color\":\"#2a3f5f\"},\"marker\":{\"line\":{\"color\":\"white\",\"width\":0.5},\"pattern\":{\"fillmode\":\"overlay\",\"size\":10,\"solidity\":0.2}},\"type\":\"bar\"}],\"carpet\":[{\"aaxis\":{\"endlinecolor\":\"#2a3f5f\",\"gridcolor\":\"#C8D4E3\",\"linecolor\":\"#C8D4E3\",\"minorgridcolor\":\"#C8D4E3\",\"startlinecolor\":\"#2a3f5f\"},\"baxis\":{\"endlinecolor\":\"#2a3f5f\",\"gridcolor\":\"#C8D4E3\",\"linecolor\":\"#C8D4E3\",\"minorgridcolor\":\"#C8D4E3\",\"startlinecolor\":\"#2a3f5f\"},\"type\":\"carpet\"}],\"choropleth\":[{\"colorbar\":{\"outlinewidth\":0,\"ticks\":\"\"},\"type\":\"choropleth\"}],\"contourcarpet\":[{\"colorbar\":{\"outlinewidth\":0,\"ticks\":\"\"},\"type\":\"contourcarpet\"}],\"contour\":[{\"colorbar\":{\"outlinewidth\":0,\"ticks\":\"\"},\"colorscale\":[[0.0,\"#0d0887\"],[0.1111111111111111,\"#46039f\"],[0.2222222222222222,\"#7201a8\"],[0.3333333333333333,\"#9c179e\"],[0.4444444444444444,\"#bd3786\"],[0.5555555555555556,\"#d8576b\"],[0.6666666666666666,\"#ed7953\"],[0.7777777777777778,\"#fb9f3a\"],[0.8888888888888888,\"#fdca26\"],[1.0,\"#f0f921\"]],\"type\":\"contour\"}],\"heatmapgl\":[{\"colorbar\":{\"outlinewidth\":0,\"ticks\":\"\"},\"colorscale\":[[0.0,\"#0d0887\"],[0.1111111111111111,\"#46039f\"],[0.2222222222222222,\"#7201a8\"],[0.3333333333333333,\"#9c179e\"],[0.4444444444444444,\"#bd3786\"],[0.5555555555555556,\"#d8576b\"],[0.6666666666666666,\"#ed7953\"],[0.7777777777777778,\"#fb9f3a\"],[0.8888888888888888,\"#fdca26\"],[1.0,\"#f0f921\"]],\"type\":\"heatmapgl\"}],\"heatmap\":[{\"colorbar\":{\"outlinewidth\":0,\"ticks\":\"\"},\"colorscale\":[[0.0,\"#0d0887\"],[0.1111111111111111,\"#46039f\"],[0.2222222222222222,\"#7201a8\"],[0.3333333333333333,\"#9c179e\"],[0.4444444444444444,\"#bd3786\"],[0.5555555555555556,\"#d8576b\"],[0.6666666666666666,\"#ed7953\"],[0.7777777777777778,\"#fb9f3a\"],[0.8888888888888888,\"#fdca26\"],[1.0,\"#f0f921\"]],\"type\":\"heatmap\"}],\"histogram2dcontour\":[{\"colorbar\":{\"outlinewidth\":0,\"ticks\":\"\"},\"colorscale\":[[0.0,\"#0d0887\"],[0.1111111111111111,\"#46039f\"],[0.2222222222222222,\"#7201a8\"],[0.3333333333333333,\"#9c179e\"],[0.4444444444444444,\"#bd3786\"],[0.5555555555555556,\"#d8576b\"],[0.6666666666666666,\"#ed7953\"],[0.7777777777777778,\"#fb9f3a\"],[0.8888888888888888,\"#fdca26\"],[1.0,\"#f0f921\"]],\"type\":\"histogram2dcontour\"}],\"histogram2d\":[{\"colorbar\":{\"outlinewidth\":0,\"ticks\":\"\"},\"colorscale\":[[0.0,\"#0d0887\"],[0.1111111111111111,\"#46039f\"],[0.2222222222222222,\"#7201a8\"],[0.3333333333333333,\"#9c179e\"],[0.4444444444444444,\"#bd3786\"],[0.5555555555555556,\"#d8576b\"],[0.6666666666666666,\"#ed7953\"],[0.7777777777777778,\"#fb9f3a\"],[0.8888888888888888,\"#fdca26\"],[1.0,\"#f0f921\"]],\"type\":\"histogram2d\"}],\"histogram\":[{\"marker\":{\"pattern\":{\"fillmode\":\"overlay\",\"size\":10,\"solidity\":0.2}},\"type\":\"histogram\"}],\"mesh3d\":[{\"colorbar\":{\"outlinewidth\":0,\"ticks\":\"\"},\"type\":\"mesh3d\"}],\"parcoords\":[{\"line\":{\"colorbar\":{\"outlinewidth\":0,\"ticks\":\"\"}},\"type\":\"parcoords\"}],\"pie\":[{\"automargin\":true,\"type\":\"pie\"}],\"scatter3d\":[{\"line\":{\"colorbar\":{\"outlinewidth\":0,\"ticks\":\"\"}},\"marker\":{\"colorbar\":{\"outlinewidth\":0,\"ticks\":\"\"}},\"type\":\"scatter3d\"}],\"scattercarpet\":[{\"marker\":{\"colorbar\":{\"outlinewidth\":0,\"ticks\":\"\"}},\"type\":\"scattercarpet\"}],\"scattergeo\":[{\"marker\":{\"colorbar\":{\"outlinewidth\":0,\"ticks\":\"\"}},\"type\":\"scattergeo\"}],\"scattergl\":[{\"marker\":{\"colorbar\":{\"outlinewidth\":0,\"ticks\":\"\"}},\"type\":\"scattergl\"}],\"scattermapbox\":[{\"marker\":{\"colorbar\":{\"outlinewidth\":0,\"ticks\":\"\"}},\"type\":\"scattermapbox\"}],\"scatterpolargl\":[{\"marker\":{\"colorbar\":{\"outlinewidth\":0,\"ticks\":\"\"}},\"type\":\"scatterpolargl\"}],\"scatterpolar\":[{\"marker\":{\"colorbar\":{\"outlinewidth\":0,\"ticks\":\"\"}},\"type\":\"scatterpolar\"}],\"scatter\":[{\"fillpattern\":{\"fillmode\":\"overlay\",\"size\":10,\"solidity\":0.2},\"type\":\"scatter\"}],\"scatterternary\":[{\"marker\":{\"colorbar\":{\"outlinewidth\":0,\"ticks\":\"\"}},\"type\":\"scatterternary\"}],\"surface\":[{\"colorbar\":{\"outlinewidth\":0,\"ticks\":\"\"},\"colorscale\":[[0.0,\"#0d0887\"],[0.1111111111111111,\"#46039f\"],[0.2222222222222222,\"#7201a8\"],[0.3333333333333333,\"#9c179e\"],[0.4444444444444444,\"#bd3786\"],[0.5555555555555556,\"#d8576b\"],[0.6666666666666666,\"#ed7953\"],[0.7777777777777778,\"#fb9f3a\"],[0.8888888888888888,\"#fdca26\"],[1.0,\"#f0f921\"]],\"type\":\"surface\"}],\"table\":[{\"cells\":{\"fill\":{\"color\":\"#EBF0F8\"},\"line\":{\"color\":\"white\"}},\"header\":{\"fill\":{\"color\":\"#C8D4E3\"},\"line\":{\"color\":\"white\"}},\"type\":\"table\"}]},\"layout\":{\"annotationdefaults\":{\"arrowcolor\":\"#2a3f5f\",\"arrowhead\":0,\"arrowwidth\":1},\"autotypenumbers\":\"strict\",\"coloraxis\":{\"colorbar\":{\"outlinewidth\":0,\"ticks\":\"\"}},\"colorscale\":{\"diverging\":[[0,\"#8e0152\"],[0.1,\"#c51b7d\"],[0.2,\"#de77ae\"],[0.3,\"#f1b6da\"],[0.4,\"#fde0ef\"],[0.5,\"#f7f7f7\"],[0.6,\"#e6f5d0\"],[0.7,\"#b8e186\"],[0.8,\"#7fbc41\"],[0.9,\"#4d9221\"],[1,\"#276419\"]],\"sequential\":[[0.0,\"#0d0887\"],[0.1111111111111111,\"#46039f\"],[0.2222222222222222,\"#7201a8\"],[0.3333333333333333,\"#9c179e\"],[0.4444444444444444,\"#bd3786\"],[0.5555555555555556,\"#d8576b\"],[0.6666666666666666,\"#ed7953\"],[0.7777777777777778,\"#fb9f3a\"],[0.8888888888888888,\"#fdca26\"],[1.0,\"#f0f921\"]],\"sequentialminus\":[[0.0,\"#0d0887\"],[0.1111111111111111,\"#46039f\"],[0.2222222222222222,\"#7201a8\"],[0.3333333333333333,\"#9c179e\"],[0.4444444444444444,\"#bd3786\"],[0.5555555555555556,\"#d8576b\"],[0.6666666666666666,\"#ed7953\"],[0.7777777777777778,\"#fb9f3a\"],[0.8888888888888888,\"#fdca26\"],[1.0,\"#f0f921\"]]},\"colorway\":[\"#636efa\",\"#EF553B\",\"#00cc96\",\"#ab63fa\",\"#FFA15A\",\"#19d3f3\",\"#FF6692\",\"#B6E880\",\"#FF97FF\",\"#FECB52\"],\"font\":{\"color\":\"#2a3f5f\"},\"geo\":{\"bgcolor\":\"white\",\"lakecolor\":\"white\",\"landcolor\":\"white\",\"showlakes\":true,\"showland\":true,\"subunitcolor\":\"#C8D4E3\"},\"hoverlabel\":{\"align\":\"left\"},\"hovermode\":\"closest\",\"mapbox\":{\"style\":\"light\"},\"paper_bgcolor\":\"white\",\"plot_bgcolor\":\"white\",\"polar\":{\"angularaxis\":{\"gridcolor\":\"#EBF0F8\",\"linecolor\":\"#EBF0F8\",\"ticks\":\"\"},\"bgcolor\":\"white\",\"radialaxis\":{\"gridcolor\":\"#EBF0F8\",\"linecolor\":\"#EBF0F8\",\"ticks\":\"\"}},\"scene\":{\"xaxis\":{\"backgroundcolor\":\"white\",\"gridcolor\":\"#DFE8F3\",\"gridwidth\":2,\"linecolor\":\"#EBF0F8\",\"showbackground\":true,\"ticks\":\"\",\"zerolinecolor\":\"#EBF0F8\"},\"yaxis\":{\"backgroundcolor\":\"white\",\"gridcolor\":\"#DFE8F3\",\"gridwidth\":2,\"linecolor\":\"#EBF0F8\",\"showbackground\":true,\"ticks\":\"\",\"zerolinecolor\":\"#EBF0F8\"},\"zaxis\":{\"backgroundcolor\":\"white\",\"gridcolor\":\"#DFE8F3\",\"gridwidth\":2,\"linecolor\":\"#EBF0F8\",\"showbackground\":true,\"ticks\":\"\",\"zerolinecolor\":\"#EBF0F8\"}},\"shapedefaults\":{\"line\":{\"color\":\"#2a3f5f\"}},\"ternary\":{\"aaxis\":{\"gridcolor\":\"#DFE8F3\",\"linecolor\":\"#A2B1C6\",\"ticks\":\"\"},\"baxis\":{\"gridcolor\":\"#DFE8F3\",\"linecolor\":\"#A2B1C6\",\"ticks\":\"\"},\"bgcolor\":\"white\",\"caxis\":{\"gridcolor\":\"#DFE8F3\",\"linecolor\":\"#A2B1C6\",\"ticks\":\"\"}},\"title\":{\"x\":0.05},\"xaxis\":{\"automargin\":true,\"gridcolor\":\"#EBF0F8\",\"linecolor\":\"#EBF0F8\",\"ticks\":\"\",\"title\":{\"standoff\":15},\"zerolinecolor\":\"#EBF0F8\",\"zerolinewidth\":2},\"yaxis\":{\"automargin\":true,\"gridcolor\":\"#EBF0F8\",\"linecolor\":\"#EBF0F8\",\"ticks\":\"\",\"title\":{\"standoff\":15},\"zerolinecolor\":\"#EBF0F8\",\"zerolinewidth\":2}}},\"xaxis\":{\"anchor\":\"y\",\"domain\":[0.0,1.0],\"title\":{\"text\":\"Nombre Parents\\u002fFils à Bord\"}},\"yaxis\":{\"anchor\":\"x\",\"domain\":[0.0,1.0],\"title\":{\"text\":\"Nombre de Passagers\"}},\"legend\":{\"tracegroupgap\":0},\"title\":{\"text\":\" Distribution de nombre Parents\\u002fFils à Bord\"},\"barmode\":\"relative\"},                        {\"responsive\": true}                    ).then(function(){\n                            \nvar gd = document.getElementById('35bede1d-61db-45b2-a60c-c7cf77ccd3d2');\nvar x = new MutationObserver(function (mutations, observer) {{\n        var display = window.getComputedStyle(gd).display;\n        if (!display || display === 'none') {{\n            console.log([gd, 'removed!']);\n            Plotly.purge(gd);\n            observer.disconnect();\n        }}\n}});\n\n// Listen for the removal of the full notebook cells\nvar notebookContainer = gd.closest('#notebook-container');\nif (notebookContainer) {{\n    x.observe(notebookContainer, {childList: true});\n}}\n\n// Listen for the clearing of the current output cell\nvar outputEl = gd.closest('.output');\nif (outputEl) {{\n    x.observe(outputEl, {childList: true});\n}}\n\n                        })                };                });            </script>        </div>"
          },
          "metadata": {}
        }
      ],
      "id": "620e57a3"
    },
    {
      "cell_type": "markdown",
      "source": [
        "<table>\n",
        "    <tr>\n",
        "        <td style='width:5%;'>\n",
        "            <img src='img/natural-language-processing-guide.svg'/>\n",
        "        </td>\n",
        "        <td style='width:90%;text-align:left;'>\n",
        "            <div style='font-family:Inter,sans-serif;font-size: 16px;font-weight: 600;line-height: 24px;'>\n",
        "                Etape 2: Transformation\n",
        "            </div>\n",
        "            <span>Transformation des valeur qualitatives.</span>\n",
        "        </td>\n",
        "        <td ></td>\n",
        "    </tr>\n",
        "</table>"
      ],
      "metadata": {
        "id": "c54197a3"
      },
      "id": "c54197a3"
    },
    {
      "cell_type": "markdown",
      "source": [
        "### 1. Convertir les variables qualitatives en quantitatives"
      ],
      "metadata": {
        "id": "da5705c3"
      },
      "id": "da5705c3"
    },
    {
      "cell_type": "code",
      "source": [
        "df['sex'] = df['sex'].map({'male':0, 'female':1})\n",
        "df['embarked'] = df['embarked'].map({'C':0, 'Q':1, 'S':2})"
      ],
      "metadata": {
        "id": "0ae66083",
        "execution": {
          "iopub.status.busy": "2024-10-07T18:30:15.573072Z",
          "iopub.execute_input": "2024-10-07T18:30:15.573459Z",
          "iopub.status.idle": "2024-10-07T18:30:15.58075Z",
          "shell.execute_reply.started": "2024-10-07T18:30:15.573426Z",
          "shell.execute_reply": "2024-10-07T18:30:15.579714Z"
        },
        "trusted": true
      },
      "execution_count": null,
      "outputs": [],
      "id": "0ae66083"
    },
    {
      "cell_type": "markdown",
      "source": [
        "*Garder seulement le titre de chaque passager (les caractères qui précèdent le .)*"
      ],
      "metadata": {
        "id": "d57546a6"
      },
      "id": "d57546a6"
    },
    {
      "cell_type": "code",
      "source": [
        "tt = df.name.str.extract('( [A-Za-z]+)\\.', expand=False)"
      ],
      "metadata": {
        "id": "2e6b84d7",
        "execution": {
          "iopub.status.busy": "2024-10-07T18:30:15.581933Z",
          "iopub.execute_input": "2024-10-07T18:30:15.582293Z",
          "iopub.status.idle": "2024-10-07T18:30:15.593081Z",
          "shell.execute_reply.started": "2024-10-07T18:30:15.58226Z",
          "shell.execute_reply": "2024-10-07T18:30:15.592065Z"
        },
        "trusted": true
      },
      "execution_count": null,
      "outputs": [],
      "id": "2e6b84d7"
    },
    {
      "cell_type": "code",
      "source": [
        "df['title'] = df.name.str.extract(' ([A-Za-z]+)\\.', expand=False)\n"
      ],
      "metadata": {
        "id": "fc554982",
        "execution": {
          "iopub.status.busy": "2024-10-07T18:30:15.594459Z",
          "iopub.execute_input": "2024-10-07T18:30:15.595245Z",
          "iopub.status.idle": "2024-10-07T18:30:15.604992Z",
          "shell.execute_reply.started": "2024-10-07T18:30:15.595208Z",
          "shell.execute_reply": "2024-10-07T18:30:15.604172Z"
        },
        "trusted": true
      },
      "execution_count": null,
      "outputs": [],
      "id": "fc554982"
    },
    {
      "cell_type": "code",
      "source": [
        "df.head()"
      ],
      "metadata": {
        "id": "4911d0b6",
        "execution": {
          "iopub.status.busy": "2024-10-07T18:30:15.606061Z",
          "iopub.execute_input": "2024-10-07T18:30:15.606432Z",
          "iopub.status.idle": "2024-10-07T18:30:15.626317Z",
          "shell.execute_reply.started": "2024-10-07T18:30:15.606389Z",
          "shell.execute_reply": "2024-10-07T18:30:15.625395Z"
        },
        "trusted": true,
        "outputId": "dfaf5b34-aa29-4a2d-9afa-9a3a6150d469"
      },
      "execution_count": null,
      "outputs": [
        {
          "execution_count": 20,
          "output_type": "execute_result",
          "data": {
            "text/plain": "   pclass  survived                                             name  sex  \\\n0       1         1                    Allen, Miss. Elisabeth Walton    1   \n1       1         1                   Allison, Master. Hudson Trevor    0   \n2       1         0                     Allison, Miss. Helen Loraine    1   \n3       1         0             Allison, Mr. Hudson Joshua Creighton    0   \n4       1         0  Allison, Mrs. Hudson J C (Bessie Waldo Daniels)    1   \n\n       age  sibsp  parch  ticket      fare    cabin  embarked   title  \n0  29.0000      0      0   24160  211.3375       B5       2.0    Miss  \n1   0.9167      1      2  113781  151.5500  C22 C26       2.0  Master  \n2   2.0000      1      2  113781  151.5500  C22 C26       2.0    Miss  \n3  30.0000      1      2  113781  151.5500  C22 C26       2.0      Mr  \n4  25.0000      1      2  113781  151.5500  C22 C26       2.0     Mrs  ",
            "text/html": "<div>\n<style scoped>\n    .dataframe tbody tr th:only-of-type {\n        vertical-align: middle;\n    }\n\n    .dataframe tbody tr th {\n        vertical-align: top;\n    }\n\n    .dataframe thead th {\n        text-align: right;\n    }\n</style>\n<table border=\"1\" class=\"dataframe\">\n  <thead>\n    <tr style=\"text-align: right;\">\n      <th></th>\n      <th>pclass</th>\n      <th>survived</th>\n      <th>name</th>\n      <th>sex</th>\n      <th>age</th>\n      <th>sibsp</th>\n      <th>parch</th>\n      <th>ticket</th>\n      <th>fare</th>\n      <th>cabin</th>\n      <th>embarked</th>\n      <th>title</th>\n    </tr>\n  </thead>\n  <tbody>\n    <tr>\n      <th>0</th>\n      <td>1</td>\n      <td>1</td>\n      <td>Allen, Miss. Elisabeth Walton</td>\n      <td>1</td>\n      <td>29.0000</td>\n      <td>0</td>\n      <td>0</td>\n      <td>24160</td>\n      <td>211.3375</td>\n      <td>B5</td>\n      <td>2.0</td>\n      <td>Miss</td>\n    </tr>\n    <tr>\n      <th>1</th>\n      <td>1</td>\n      <td>1</td>\n      <td>Allison, Master. Hudson Trevor</td>\n      <td>0</td>\n      <td>0.9167</td>\n      <td>1</td>\n      <td>2</td>\n      <td>113781</td>\n      <td>151.5500</td>\n      <td>C22 C26</td>\n      <td>2.0</td>\n      <td>Master</td>\n    </tr>\n    <tr>\n      <th>2</th>\n      <td>1</td>\n      <td>0</td>\n      <td>Allison, Miss. Helen Loraine</td>\n      <td>1</td>\n      <td>2.0000</td>\n      <td>1</td>\n      <td>2</td>\n      <td>113781</td>\n      <td>151.5500</td>\n      <td>C22 C26</td>\n      <td>2.0</td>\n      <td>Miss</td>\n    </tr>\n    <tr>\n      <th>3</th>\n      <td>1</td>\n      <td>0</td>\n      <td>Allison, Mr. Hudson Joshua Creighton</td>\n      <td>0</td>\n      <td>30.0000</td>\n      <td>1</td>\n      <td>2</td>\n      <td>113781</td>\n      <td>151.5500</td>\n      <td>C22 C26</td>\n      <td>2.0</td>\n      <td>Mr</td>\n    </tr>\n    <tr>\n      <th>4</th>\n      <td>1</td>\n      <td>0</td>\n      <td>Allison, Mrs. Hudson J C (Bessie Waldo Daniels)</td>\n      <td>1</td>\n      <td>25.0000</td>\n      <td>1</td>\n      <td>2</td>\n      <td>113781</td>\n      <td>151.5500</td>\n      <td>C22 C26</td>\n      <td>2.0</td>\n      <td>Mrs</td>\n    </tr>\n  </tbody>\n</table>\n</div>"
          },
          "metadata": {}
        }
      ],
      "id": "4911d0b6"
    },
    {
      "cell_type": "code",
      "source": [
        "# supprimer la colonne \"name\"\n",
        "df=df.drop('name',axis=1)"
      ],
      "metadata": {
        "id": "9d73fbf9",
        "execution": {
          "iopub.status.busy": "2024-10-07T18:30:15.627853Z",
          "iopub.execute_input": "2024-10-07T18:30:15.628167Z",
          "iopub.status.idle": "2024-10-07T18:30:15.636883Z",
          "shell.execute_reply.started": "2024-10-07T18:30:15.628135Z",
          "shell.execute_reply": "2024-10-07T18:30:15.63607Z"
        },
        "trusted": true
      },
      "execution_count": null,
      "outputs": [],
      "id": "9d73fbf9"
    },
    {
      "cell_type": "code",
      "source": [],
      "metadata": {
        "id": "80ad09a7"
      },
      "execution_count": null,
      "outputs": [],
      "id": "80ad09a7"
    },
    {
      "cell_type": "code",
      "source": [
        "df.title.value_counts().plot(kind='bar')"
      ],
      "metadata": {
        "id": "475be65b",
        "execution": {
          "iopub.status.busy": "2024-10-07T18:30:15.637948Z",
          "iopub.execute_input": "2024-10-07T18:30:15.638265Z",
          "iopub.status.idle": "2024-10-07T18:30:16.133602Z",
          "shell.execute_reply.started": "2024-10-07T18:30:15.638233Z",
          "shell.execute_reply": "2024-10-07T18:30:16.132615Z"
        },
        "trusted": true,
        "outputId": "e7ecc079-e1c0-445a-a50d-2a3fadd4d983"
      },
      "execution_count": null,
      "outputs": [
        {
          "execution_count": 22,
          "output_type": "execute_result",
          "data": {
            "text/plain": "<Axes: xlabel='title'>"
          },
          "metadata": {}
        },
        {
          "output_type": "display_data",
          "data": {
            "text/plain": "<Figure size 640x480 with 1 Axes>",
            "image/png": "[encoded data removed]"
          },
          "metadata": {}
        }
      ],
      "id": "475be65b"
    },
    {
      "cell_type": "code",
      "source": [
        "df['title'] = df['title'].replace(['Dr', 'Rev', 'Col', 'Major', 'Countess', 'Sir', 'Jonkheer', 'Lady', 'Capt', 'Don', 'Dona'], 'Others')\n",
        "df['title'] = df['title'].replace('Ms', 'Miss')\n",
        "df['title'] = df['title'].replace('Mme', 'Mrs')\n",
        "df['title'] = df['title'].replace('Mlle', 'Miss')"
      ],
      "metadata": {
        "id": "127ad5ce",
        "execution": {
          "iopub.status.busy": "2024-10-07T18:30:16.135043Z",
          "iopub.execute_input": "2024-10-07T18:30:16.135468Z",
          "iopub.status.idle": "2024-10-07T18:30:16.148283Z",
          "shell.execute_reply.started": "2024-10-07T18:30:16.135422Z",
          "shell.execute_reply": "2024-10-07T18:30:16.147193Z"
        },
        "trusted": true
      },
      "execution_count": null,
      "outputs": [],
      "id": "127ad5ce"
    },
    {
      "cell_type": "code",
      "source": [
        "plt = df.title.value_counts().sort_index().plot(kind='bar')\n",
        "plt.set_xlabel('Title')\n",
        "plt.set_ylabel('Passenger count')"
      ],
      "metadata": {
        "id": "26e25204",
        "execution": {
          "iopub.status.busy": "2024-10-07T18:30:16.15002Z",
          "iopub.execute_input": "2024-10-07T18:30:16.150322Z",
          "iopub.status.idle": "2024-10-07T18:30:16.461535Z",
          "shell.execute_reply.started": "2024-10-07T18:30:16.150291Z",
          "shell.execute_reply": "2024-10-07T18:30:16.460618Z"
        },
        "trusted": true,
        "outputId": "b1b92f16-961c-4410-c5cd-bc941a60436c"
      },
      "execution_count": null,
      "outputs": [
        {
          "execution_count": 24,
          "output_type": "execute_result",
          "data": {
            "text/plain": "Text(0, 0.5, 'Passenger count')"
          },
          "metadata": {}
        },
        {
          "output_type": "display_data",
          "data": {
            "text/plain": "<Figure size 640x480 with 1 Axes>",
            "image/png": "[encoded data removed]"
          },
          "metadata": {}
        }
      ],
      "id": "26e25204"
    },
    {
      "cell_type": "code",
      "source": [
        "plt = df[['title', 'survived']].groupby('title').mean().survived.plot(kind='bar')\n",
        "plt.set_xlabel('Title')\n",
        "plt.set_ylabel('Survival Probability')"
      ],
      "metadata": {
        "id": "af26fc84",
        "execution": {
          "iopub.status.busy": "2024-10-07T18:30:16.462518Z",
          "iopub.execute_input": "2024-10-07T18:30:16.462826Z",
          "iopub.status.idle": "2024-10-07T18:30:16.720082Z",
          "shell.execute_reply.started": "2024-10-07T18:30:16.462795Z",
          "shell.execute_reply": "2024-10-07T18:30:16.719097Z"
        },
        "trusted": true,
        "outputId": "3b843e17-8d19-40ca-9dcc-46fa13176596"
      },
      "execution_count": null,
      "outputs": [
        {
          "execution_count": 25,
          "output_type": "execute_result",
          "data": {
            "text/plain": "Text(0, 0.5, 'Survival Probability')"
          },
          "metadata": {}
        },
        {
          "output_type": "display_data",
          "data": {
            "text/plain": "<Figure size 640x480 with 1 Axes>",
            "image/png": "[encoded data removed]"
          },
          "metadata": {}
        }
      ],
      "id": "af26fc84"
    },
    {
      "cell_type": "markdown",
      "source": [
        "### 2. Convertir la variable \"title\" en variable quantitative\n",
        "\n",
        "> Add blockquote\n",
        "\n"
      ],
      "metadata": {
        "id": "b6e16d92"
      },
      "id": "b6e16d92"
    },
    {
      "cell_type": "code",
      "source": [
        "l = list(df['title'].values)\n",
        "\n",
        "unique_titles = list(set(l))\n",
        "n=len(unique_titles)\n",
        "m={}\n",
        "k=0\n",
        "for i in unique_titles:\n",
        "  m[i]=k\n",
        "  k+=1\n"
      ],
      "metadata": {
        "id": "66168c3d",
        "execution": {
          "iopub.status.busy": "2024-10-07T18:30:16.721925Z",
          "iopub.execute_input": "2024-10-07T18:30:16.722402Z",
          "iopub.status.idle": "2024-10-07T18:30:16.727718Z",
          "shell.execute_reply.started": "2024-10-07T18:30:16.722333Z",
          "shell.execute_reply": "2024-10-07T18:30:16.726833Z"
        },
        "trusted": true
      },
      "execution_count": null,
      "outputs": [],
      "id": "66168c3d"
    },
    {
      "cell_type": "code",
      "source": [
        "df['title']=df['title'].map(m)"
      ],
      "metadata": {
        "id": "17boQ9aQHHcD",
        "execution": {
          "iopub.status.busy": "2024-10-07T18:30:16.729077Z",
          "iopub.execute_input": "2024-10-07T18:30:16.729529Z",
          "iopub.status.idle": "2024-10-07T18:30:16.739286Z",
          "shell.execute_reply.started": "2024-10-07T18:30:16.729484Z",
          "shell.execute_reply": "2024-10-07T18:30:16.738395Z"
        },
        "trusted": true
      },
      "execution_count": null,
      "outputs": [],
      "id": "17boQ9aQHHcD"
    },
    {
      "cell_type": "code",
      "source": [
        "df[:5]"
      ],
      "metadata": {
        "id": "ERtBA7HdHJAk",
        "execution": {
          "iopub.status.busy": "2024-10-07T18:30:16.740501Z",
          "iopub.execute_input": "2024-10-07T18:30:16.740808Z",
          "iopub.status.idle": "2024-10-07T18:30:16.761371Z",
          "shell.execute_reply.started": "2024-10-07T18:30:16.740776Z",
          "shell.execute_reply": "2024-10-07T18:30:16.76022Z"
        },
        "trusted": true,
        "outputId": "19743175-9ba4-4629-ab6c-9ed6affca145"
      },
      "execution_count": null,
      "outputs": [
        {
          "execution_count": 28,
          "output_type": "execute_result",
          "data": {
            "text/plain": "   pclass  survived  sex      age  sibsp  parch  ticket      fare    cabin  \\\n0       1         1    1  29.0000      0      0   24160  211.3375       B5   \n1       1         1    0   0.9167      1      2  113781  151.5500  C22 C26   \n2       1         0    1   2.0000      1      2  113781  151.5500  C22 C26   \n3       1         0    0  30.0000      1      2  113781  151.5500  C22 C26   \n4       1         0    1  25.0000      1      2  113781  151.5500  C22 C26   \n\n   embarked  title  \n0       2.0      0  \n1       2.0      2  \n2       2.0      0  \n3       2.0      4  \n4       2.0      1  ",
            "text/html": "<div>\n<style scoped>\n    .dataframe tbody tr th:only-of-type {\n        vertical-align: middle;\n    }\n\n    .dataframe tbody tr th {\n        vertical-align: top;\n    }\n\n    .dataframe thead th {\n        text-align: right;\n    }\n</style>\n<table border=\"1\" class=\"dataframe\">\n  <thead>\n    <tr style=\"text-align: right;\">\n      <th></th>\n      <th>pclass</th>\n      <th>survived</th>\n      <th>sex</th>\n      <th>age</th>\n      <th>sibsp</th>\n      <th>parch</th>\n      <th>ticket</th>\n      <th>fare</th>\n      <th>cabin</th>\n      <th>embarked</th>\n      <th>title</th>\n    </tr>\n  </thead>\n  <tbody>\n    <tr>\n      <th>0</th>\n      <td>1</td>\n      <td>1</td>\n      <td>1</td>\n      <td>29.0000</td>\n      <td>0</td>\n      <td>0</td>\n      <td>24160</td>\n      <td>211.3375</td>\n      <td>B5</td>\n      <td>2.0</td>\n      <td>0</td>\n    </tr>\n    <tr>\n      <th>1</th>\n      <td>1</td>\n      <td>1</td>\n      <td>0</td>\n      <td>0.9167</td>\n      <td>1</td>\n      <td>2</td>\n      <td>113781</td>\n      <td>151.5500</td>\n      <td>C22 C26</td>\n      <td>2.0</td>\n      <td>2</td>\n    </tr>\n    <tr>\n      <th>2</th>\n      <td>1</td>\n      <td>0</td>\n      <td>1</td>\n      <td>2.0000</td>\n      <td>1</td>\n      <td>2</td>\n      <td>113781</td>\n      <td>151.5500</td>\n      <td>C22 C26</td>\n      <td>2.0</td>\n      <td>0</td>\n    </tr>\n    <tr>\n      <th>3</th>\n      <td>1</td>\n      <td>0</td>\n      <td>0</td>\n      <td>30.0000</td>\n      <td>1</td>\n      <td>2</td>\n      <td>113781</td>\n      <td>151.5500</td>\n      <td>C22 C26</td>\n      <td>2.0</td>\n      <td>4</td>\n    </tr>\n    <tr>\n      <th>4</th>\n      <td>1</td>\n      <td>0</td>\n      <td>1</td>\n      <td>25.0000</td>\n      <td>1</td>\n      <td>2</td>\n      <td>113781</td>\n      <td>151.5500</td>\n      <td>C22 C26</td>\n      <td>2.0</td>\n      <td>1</td>\n    </tr>\n  </tbody>\n</table>\n</div>"
          },
          "metadata": {}
        }
      ],
      "id": "ERtBA7HdHJAk"
    },
    {
      "cell_type": "code",
      "source": [
        "# one hot encode title feature\n",
        "from sklearn.preprocessing import OneHotEncoder\n",
        "\n",
        "# Créer l'objet OneHotEncoder\n",
        "encoder = OneHotEncoder(drop='first', sparse_output=False)\n",
        "\n",
        "# Appliquer l'encodage One-Hot sur la colonne 'title'\n",
        "title_encoded = encoder.fit_transform(df[['title']])\n",
        "\n",
        "# Créer un DataFrame avec les nouvelles colonnes encodées\n",
        "title_encoded_df = pd.DataFrame(title_encoded, columns=encoder.get_feature_names_out(['title']))\n",
        "\n",
        "# Ajouter ces nouvelles colonnes au DataFrame original\n",
        "title_encoded_df.head()"
      ],
      "metadata": {
        "id": "o9S6iEmrYx85",
        "execution": {
          "iopub.status.busy": "2024-10-07T18:30:16.762809Z",
          "iopub.execute_input": "2024-10-07T18:30:16.76377Z",
          "iopub.status.idle": "2024-10-07T18:30:16.971313Z",
          "shell.execute_reply.started": "2024-10-07T18:30:16.76373Z",
          "shell.execute_reply": "2024-10-07T18:30:16.970312Z"
        },
        "trusted": true,
        "outputId": "90626418-47a6-4702-9855-3a656f9dbd4b"
      },
      "execution_count": null,
      "outputs": [
        {
          "execution_count": 29,
          "output_type": "execute_result",
          "data": {
            "text/plain": "   title_1  title_2  title_3  title_4\n0      0.0      0.0      0.0      0.0\n1      0.0      1.0      0.0      0.0\n2      0.0      0.0      0.0      0.0\n3      0.0      0.0      0.0      1.0\n4      1.0      0.0      0.0      0.0",
            "text/html": "<div>\n<style scoped>\n    .dataframe tbody tr th:only-of-type {\n        vertical-align: middle;\n    }\n\n    .dataframe tbody tr th {\n        vertical-align: top;\n    }\n\n    .dataframe thead th {\n        text-align: right;\n    }\n</style>\n<table border=\"1\" class=\"dataframe\">\n  <thead>\n    <tr style=\"text-align: right;\">\n      <th></th>\n      <th>title_1</th>\n      <th>title_2</th>\n      <th>title_3</th>\n      <th>title_4</th>\n    </tr>\n  </thead>\n  <tbody>\n    <tr>\n      <th>0</th>\n      <td>0.0</td>\n      <td>0.0</td>\n      <td>0.0</td>\n      <td>0.0</td>\n    </tr>\n    <tr>\n      <th>1</th>\n      <td>0.0</td>\n      <td>1.0</td>\n      <td>0.0</td>\n      <td>0.0</td>\n    </tr>\n    <tr>\n      <th>2</th>\n      <td>0.0</td>\n      <td>0.0</td>\n      <td>0.0</td>\n      <td>0.0</td>\n    </tr>\n    <tr>\n      <th>3</th>\n      <td>0.0</td>\n      <td>0.0</td>\n      <td>0.0</td>\n      <td>1.0</td>\n    </tr>\n    <tr>\n      <th>4</th>\n      <td>1.0</td>\n      <td>0.0</td>\n      <td>0.0</td>\n      <td>0.0</td>\n    </tr>\n  </tbody>\n</table>\n</div>"
          },
          "metadata": {}
        }
      ],
      "id": "o9S6iEmrYx85"
    },
    {
      "cell_type": "code",
      "source": [
        "df = pd.concat([df, title_encoded_df], axis=1)\n",
        "\n",
        "\n",
        "# Afficher les premières lignes du nouveau DataFrame pour vérifier\n",
        "df.head()"
      ],
      "metadata": {
        "id": "uPU0EZoQY3Pm",
        "execution": {
          "iopub.status.busy": "2024-10-07T18:30:16.972706Z",
          "iopub.execute_input": "2024-10-07T18:30:16.973394Z",
          "iopub.status.idle": "2024-10-07T18:30:16.995889Z",
          "shell.execute_reply.started": "2024-10-07T18:30:16.973321Z",
          "shell.execute_reply": "2024-10-07T18:30:16.994911Z"
        },
        "trusted": true,
        "outputId": "07cf8163-e47e-45f1-f8dc-1f797ec01903"
      },
      "execution_count": null,
      "outputs": [
        {
          "execution_count": 30,
          "output_type": "execute_result",
          "data": {
            "text/plain": "   pclass  survived  sex      age  sibsp  parch  ticket      fare    cabin  \\\n0       1         1    1  29.0000      0      0   24160  211.3375       B5   \n1       1         1    0   0.9167      1      2  113781  151.5500  C22 C26   \n2       1         0    1   2.0000      1      2  113781  151.5500  C22 C26   \n3       1         0    0  30.0000      1      2  113781  151.5500  C22 C26   \n4       1         0    1  25.0000      1      2  113781  151.5500  C22 C26   \n\n   embarked  title  title_1  title_2  title_3  title_4  \n0       2.0      0      0.0      0.0      0.0      0.0  \n1       2.0      2      0.0      1.0      0.0      0.0  \n2       2.0      0      0.0      0.0      0.0      0.0  \n3       2.0      4      0.0      0.0      0.0      1.0  \n4       2.0      1      1.0      0.0      0.0      0.0  ",
            "text/html": "<div>\n<style scoped>\n    .dataframe tbody tr th:only-of-type {\n        vertical-align: middle;\n    }\n\n    .dataframe tbody tr th {\n        vertical-align: top;\n    }\n\n    .dataframe thead th {\n        text-align: right;\n    }\n</style>\n<table border=\"1\" class=\"dataframe\">\n  <thead>\n    <tr style=\"text-align: right;\">\n      <th></th>\n      <th>pclass</th>\n      <th>survived</th>\n      <th>sex</th>\n      <th>age</th>\n      <th>sibsp</th>\n      <th>parch</th>\n      <th>ticket</th>\n      <th>fare</th>\n      <th>cabin</th>\n      <th>embarked</th>\n      <th>title</th>\n      <th>title_1</th>\n      <th>title_2</th>\n      <th>title_3</th>\n      <th>title_4</th>\n    </tr>\n  </thead>\n  <tbody>\n    <tr>\n      <th>0</th>\n      <td>1</td>\n      <td>1</td>\n      <td>1</td>\n      <td>29.0000</td>\n      <td>0</td>\n      <td>0</td>\n      <td>24160</td>\n      <td>211.3375</td>\n      <td>B5</td>\n      <td>2.0</td>\n      <td>0</td>\n      <td>0.0</td>\n      <td>0.0</td>\n      <td>0.0</td>\n      <td>0.0</td>\n    </tr>\n    <tr>\n      <th>1</th>\n      <td>1</td>\n      <td>1</td>\n      <td>0</td>\n      <td>0.9167</td>\n      <td>1</td>\n      <td>2</td>\n      <td>113781</td>\n      <td>151.5500</td>\n      <td>C22 C26</td>\n      <td>2.0</td>\n      <td>2</td>\n      <td>0.0</td>\n      <td>1.0</td>\n      <td>0.0</td>\n      <td>0.0</td>\n    </tr>\n    <tr>\n      <th>2</th>\n      <td>1</td>\n      <td>0</td>\n      <td>1</td>\n      <td>2.0000</td>\n      <td>1</td>\n      <td>2</td>\n      <td>113781</td>\n      <td>151.5500</td>\n      <td>C22 C26</td>\n      <td>2.0</td>\n      <td>0</td>\n      <td>0.0</td>\n      <td>0.0</td>\n      <td>0.0</td>\n      <td>0.0</td>\n    </tr>\n    <tr>\n      <th>3</th>\n      <td>1</td>\n      <td>0</td>\n      <td>0</td>\n      <td>30.0000</td>\n      <td>1</td>\n      <td>2</td>\n      <td>113781</td>\n      <td>151.5500</td>\n      <td>C22 C26</td>\n      <td>2.0</td>\n      <td>4</td>\n      <td>0.0</td>\n      <td>0.0</td>\n      <td>0.0</td>\n      <td>1.0</td>\n    </tr>\n    <tr>\n      <th>4</th>\n      <td>1</td>\n      <td>0</td>\n      <td>1</td>\n      <td>25.0000</td>\n      <td>1</td>\n      <td>2</td>\n      <td>113781</td>\n      <td>151.5500</td>\n      <td>C22 C26</td>\n      <td>2.0</td>\n      <td>1</td>\n      <td>1.0</td>\n      <td>0.0</td>\n      <td>0.0</td>\n      <td>0.0</td>\n    </tr>\n  </tbody>\n</table>\n</div>"
          },
          "metadata": {}
        }
      ],
      "id": "uPU0EZoQY3Pm"
    },
    {
      "cell_type": "code",
      "source": [
        "df=df.drop('title',axis=1)"
      ],
      "metadata": {
        "id": "yk9ZHcDTZNVT",
        "execution": {
          "iopub.status.busy": "2024-10-07T18:30:16.997215Z",
          "iopub.execute_input": "2024-10-07T18:30:16.997628Z",
          "iopub.status.idle": "2024-10-07T18:30:17.003259Z",
          "shell.execute_reply.started": "2024-10-07T18:30:16.997583Z",
          "shell.execute_reply": "2024-10-07T18:30:17.002274Z"
        },
        "trusted": true
      },
      "execution_count": null,
      "outputs": [],
      "id": "yk9ZHcDTZNVT"
    },
    {
      "cell_type": "markdown",
      "source": [
        "<table>\n",
        "    <tr>\n",
        "        <td style='width:5%;'>\n",
        "            <img src='img/intro-to-game-ai-and-reinforcement-learning.svg'/>\n",
        "        </td>\n",
        "        <td style='width:90%;text-align:left;'>\n",
        "            <div style='font-family:Inter,sans-serif;font-size: 16px;font-weight: 600;line-height: 24px;'>\n",
        "                Etape 3: Données manquantes\n",
        "            </div>\n",
        "            <span>Les techniques d'imputation des valeurs manquantes.</span>\n",
        "        </td>\n",
        "        <td ></td>\n",
        "    </tr>\n",
        "</table>"
      ],
      "metadata": {
        "id": "216307ce"
      },
      "id": "216307ce"
    },
    {
      "cell_type": "markdown",
      "source": [
        "### 1. Vérifier que la colonne age contient des valeurs manquantes:</br>\n",
        "<span style='font-size: 13px;'>On peut calculer le nombre de valeurs manquantes au niveau de chaque attribut: ça nous aide à comparer le nombre de valeurs manquante par rapport à la taille du jeu de données</span>"
      ],
      "metadata": {
        "id": "900883e6"
      },
      "id": "900883e6"
    },
    {
      "cell_type": "code",
      "source": [
        "df.info()"
      ],
      "metadata": {
        "scrolled": true,
        "id": "a1009e09",
        "execution": {
          "iopub.status.busy": "2024-10-07T18:30:17.004706Z",
          "iopub.execute_input": "2024-10-07T18:30:17.005027Z",
          "iopub.status.idle": "2024-10-07T18:30:17.02187Z",
          "shell.execute_reply.started": "2024-10-07T18:30:17.004995Z",
          "shell.execute_reply": "2024-10-07T18:30:17.02088Z"
        },
        "trusted": true,
        "outputId": "f079a06b-239c-4ea6-ccb6-d944623734a2"
      },
      "execution_count": null,
      "outputs": [
        {
          "name": "stdout",
          "text": "<class 'pandas.core.frame.DataFrame'>\nRangeIndex: 1309 entries, 0 to 1308\nData columns (total 14 columns):\n #   Column    Non-Null Count  Dtype  \n---  ------    --------------  -----  \n 0   pclass    1309 non-null   int64  \n 1   survived  1309 non-null   int64  \n 2   sex       1309 non-null   int64  \n 3   age       1046 non-null   float64\n 4   sibsp     1309 non-null   int64  \n 5   parch     1309 non-null   int64  \n 6   ticket    1309 non-null   object \n 7   fare      1308 non-null   float64\n 8   cabin     295 non-null    object \n 9   embarked  1307 non-null   float64\n 10  title_1   1309 non-null   float64\n 11  title_2   1309 non-null   float64\n 12  title_3   1309 non-null   float64\n 13  title_4   1309 non-null   float64\ndtypes: float64(7), int64(5), object(2)\nmemory usage: 143.3+ KB\n",
          "output_type": "stream"
        }
      ],
      "id": "a1009e09"
    },
    {
      "cell_type": "code",
      "source": [
        "# utiliser la méthode isnull()\n",
        "nbr_null_values = df['age'].isnull().sum()\n",
        "print(\"Le nombre de valeurs manquante au niveau de l'attribut age: \",nbr_null_values)\n",
        "print(\"Le nombre total de valeurs:\",len(df))"
      ],
      "metadata": {
        "id": "255be548",
        "execution": {
          "iopub.status.busy": "2024-10-07T18:30:17.023034Z",
          "iopub.execute_input": "2024-10-07T18:30:17.023334Z",
          "iopub.status.idle": "2024-10-07T18:30:17.033968Z",
          "shell.execute_reply.started": "2024-10-07T18:30:17.023292Z",
          "shell.execute_reply": "2024-10-07T18:30:17.033001Z"
        },
        "trusted": true,
        "outputId": "359867e5-ca75-4773-ca09-b46587c6f072"
      },
      "execution_count": null,
      "outputs": [
        {
          "name": "stdout",
          "text": "Le nombre de valeurs manquante au niveau de l'attribut age:  263\nLe nombre total de valeurs: 1309\n",
          "output_type": "stream"
        }
      ],
      "id": "255be548"
    },
    {
      "cell_type": "markdown",
      "source": [
        "## Stratégie d'imputation:<br>\n",
        "### 1. La colonne cabin contient 1014 valeurs manquante d'un totale de 1309 valeurs ==> supprimer la colonne"
      ],
      "metadata": {
        "id": "e40750ad"
      },
      "id": "e40750ad"
    },
    {
      "cell_type": "markdown",
      "source": [
        "Utiliser la méthode drop()\n",
        "syntaxe1 : data_frame = data_frame.drop([\"nom_colonne\", axis=1])\n",
        "syntaxe2 : data_frame = data_frame.drop(columns=['nom_colonne'])"
      ],
      "metadata": {
        "id": "66d68aca"
      },
      "id": "66d68aca"
    },
    {
      "cell_type": "code",
      "source": [
        "df = df.drop(columns=['cabin'])"
      ],
      "metadata": {
        "id": "85ca63ac",
        "execution": {
          "iopub.status.busy": "2024-10-07T18:30:17.035444Z",
          "iopub.execute_input": "2024-10-07T18:30:17.036177Z",
          "iopub.status.idle": "2024-10-07T18:30:17.045099Z",
          "shell.execute_reply.started": "2024-10-07T18:30:17.036128Z",
          "shell.execute_reply": "2024-10-07T18:30:17.044232Z"
        },
        "trusted": true
      },
      "execution_count": null,
      "outputs": [],
      "id": "85ca63ac"
    },
    {
      "cell_type": "markdown",
      "source": [
        "### 2. Remplacer les valeurs manquantes de la colonne embarked par la valeur la plus redendante\n",
        "* la méthode fillna() remplace les valeurs NaN par ce q'on lui demande*"
      ],
      "metadata": {
        "id": "76235901"
      },
      "id": "76235901"
    },
    {
      "cell_type": "code",
      "source": [
        "most_frequent_embarked = df['embarked'].value_counts().idxmax()\n",
        "df['embarked'] = df['embarked'].fillna(most_frequent_embarked)"
      ],
      "metadata": {
        "id": "4d2c5e6a",
        "execution": {
          "iopub.status.busy": "2024-10-07T18:30:17.046491Z",
          "iopub.execute_input": "2024-10-07T18:30:17.046842Z",
          "iopub.status.idle": "2024-10-07T18:30:17.057957Z",
          "shell.execute_reply.started": "2024-10-07T18:30:17.046793Z",
          "shell.execute_reply": "2024-10-07T18:30:17.057032Z"
        },
        "trusted": true
      },
      "execution_count": null,
      "outputs": [],
      "id": "4d2c5e6a"
    },
    {
      "cell_type": "code",
      "source": [
        "df.info()"
      ],
      "metadata": {
        "id": "9mTPz3vKJhI-",
        "execution": {
          "iopub.status.busy": "2024-10-07T18:30:17.05931Z",
          "iopub.execute_input": "2024-10-07T18:30:17.059709Z",
          "iopub.status.idle": "2024-10-07T18:30:17.073202Z",
          "shell.execute_reply.started": "2024-10-07T18:30:17.059672Z",
          "shell.execute_reply": "2024-10-07T18:30:17.072254Z"
        },
        "trusted": true,
        "outputId": "9b8c3377-f505-47f4-8a6b-99bc1296f5e8"
      },
      "execution_count": null,
      "outputs": [
        {
          "name": "stdout",
          "text": "<class 'pandas.core.frame.DataFrame'>\nRangeIndex: 1309 entries, 0 to 1308\nData columns (total 13 columns):\n #   Column    Non-Null Count  Dtype  \n---  ------    --------------  -----  \n 0   pclass    1309 non-null   int64  \n 1   survived  1309 non-null   int64  \n 2   sex       1309 non-null   int64  \n 3   age       1046 non-null   float64\n 4   sibsp     1309 non-null   int64  \n 5   parch     1309 non-null   int64  \n 6   ticket    1309 non-null   object \n 7   fare      1308 non-null   float64\n 8   embarked  1309 non-null   float64\n 9   title_1   1309 non-null   float64\n 10  title_2   1309 non-null   float64\n 11  title_3   1309 non-null   float64\n 12  title_4   1309 non-null   float64\ndtypes: float64(7), int64(5), object(1)\nmemory usage: 133.1+ KB\n",
          "output_type": "stream"
        }
      ],
      "id": "9mTPz3vKJhI-"
    },
    {
      "cell_type": "markdown",
      "source": [
        "### 3. Remplacer les valeurs manquantes de la colonne fare par la valeur moyenne"
      ],
      "metadata": {
        "id": "8a4cf3c5"
      },
      "id": "8a4cf3c5"
    },
    {
      "cell_type": "code",
      "source": [
        "df['fare']=df['fare'].fillna(df['fare'].mean())"
      ],
      "metadata": {
        "id": "0ec7a480",
        "execution": {
          "iopub.status.busy": "2024-10-07T18:30:17.074342Z",
          "iopub.execute_input": "2024-10-07T18:30:17.074683Z",
          "iopub.status.idle": "2024-10-07T18:30:17.082986Z",
          "shell.execute_reply.started": "2024-10-07T18:30:17.07465Z",
          "shell.execute_reply": "2024-10-07T18:30:17.082071Z"
        },
        "trusted": true
      },
      "execution_count": null,
      "outputs": [],
      "id": "0ec7a480"
    },
    {
      "cell_type": "markdown",
      "source": [
        "### 4. Remplacer les valeurs manquantes de la colonne age par la valeur médiane"
      ],
      "metadata": {
        "id": "6c323aaf"
      },
      "id": "6c323aaf"
    },
    {
      "cell_type": "code",
      "source": [
        "df['age']=df['age'].fillna(df['age'].median())"
      ],
      "metadata": {
        "id": "54bfffef",
        "execution": {
          "iopub.status.busy": "2024-10-07T18:30:17.084065Z",
          "iopub.execute_input": "2024-10-07T18:30:17.084378Z",
          "iopub.status.idle": "2024-10-07T18:30:17.096103Z",
          "shell.execute_reply.started": "2024-10-07T18:30:17.084322Z",
          "shell.execute_reply": "2024-10-07T18:30:17.095142Z"
        },
        "trusted": true
      },
      "execution_count": null,
      "outputs": [],
      "id": "54bfffef"
    },
    {
      "cell_type": "markdown",
      "source": [
        "### 5. Afficher la matrice de corrélation ('pclass', 'sex', 'age', 'sibsp', 'parch', 'ticket', 'embarked', 'fare')"
      ],
      "metadata": {
        "id": "12dd1c37"
      },
      "id": "12dd1c37"
    },
    {
      "cell_type": "code",
      "source": [
        "columns_of_interest = ['pclass', 'sex', 'age', 'sibsp', 'parch', 'fare']\n",
        "\n",
        "# Calculer la matrice de corrélation\n",
        "correlation_matrix = df[columns_of_interest].corr()\n",
        "\n",
        "# Convertir la matrice de corrélation en DataFrame pour Plotly\n",
        "corr_df = pd.DataFrame(correlation_matrix)\n",
        "\n",
        "# Créer un heatmap avec Plotly\n",
        "fig = px.imshow(corr_df,\n",
        "                color_continuous_scale='RdBu',\n",
        "                title='Matrice de Corrélation',\n",
        "                labels=dict(x='Variables', y='Variables', color='Corrélation'),\n",
        "                x=columns_of_interest,\n",
        "                y=columns_of_interest)\n",
        "\n",
        "# Afficher le graphique\n",
        "fig.show()"
      ],
      "metadata": {
        "id": "4b4c421e",
        "execution": {
          "iopub.status.busy": "2024-10-07T18:30:17.097152Z",
          "iopub.execute_input": "2024-10-07T18:30:17.097499Z",
          "iopub.status.idle": "2024-10-07T18:30:17.200021Z",
          "shell.execute_reply.started": "2024-10-07T18:30:17.097464Z",
          "shell.execute_reply": "2024-10-07T18:30:17.199125Z"
        },
        "trusted": true,
        "outputId": "d68aeac8-ca0a-4be1-d680-903d272f6b9c"
      },
      "execution_count": null,
      "outputs": [
        {
          "output_type": "display_data",
          "data": {
            "text/html": "<div>                            <div id=\"cd8e5a8a-b63a-4d3f-a8f1-e3227e0de1ce\" class=\"plotly-graph-div\" style=\"height:525px; width:100%;\"></div>            <script type=\"text/javascript\">                require([\"plotly\"], function(Plotly) {                    window.PLOTLYENV=window.PLOTLYENV || {};                                    if (document.getElementById(\"cd8e5a8a-b63a-4d3f-a8f1-e3227e0de1ce\")) {                    Plotly.newPlot(                        \"cd8e5a8a-b63a-4d3f-a8f1-e3227e0de1ce\",                        [{\"coloraxis\":\"coloraxis\",\"name\":\"0\",\"x\":[\"pclass\",\"sex\",\"age\",\"sibsp\",\"parch\",\"fare\"],\"y\":[\"pclass\",\"sex\",\"age\",\"sibsp\",\"parch\",\"fare\"],\"z\":[[1.0,-0.12461672469969229,-0.37790777449481056,0.06083200757490756,0.01832220200978667,-0.5584773475043959],[-0.12461672469969229,1.0,-0.053663931989729276,0.10960903940948259,0.21312546120677814,0.1854837735271272],[-0.37790777449481056,-0.053663931989729276,1.0,-0.18997209744456003,-0.12585088152519996,0.17885924898842434],[0.06083200757490756,0.10960903940948259,-0.18997209744456003,1.0,0.3735871906264931,0.16022419622115974],[0.01832220200978667,0.21312546120677814,-0.12585088152519996,0.3735871906264931,1.0,0.2215218879995723],[-0.5584773475043959,0.1854837735271272,0.17885924898842434,0.16022419622115974,0.2215218879995723,1.0]],\"type\":\"heatmap\",\"xaxis\":\"x\",\"yaxis\":\"y\",\"hovertemplate\":\"Variables: %{x}\\u003cbr\\u003eVariables: %{y}\\u003cbr\\u003eCorrélation: %{z}\\u003cextra\\u003e\\u003c\\u002fextra\\u003e\"}],                        {\"template\":{\"data\":{\"histogram2dcontour\":[{\"type\":\"histogram2dcontour\",\"colorbar\":{\"outlinewidth\":0,\"ticks\":\"\"},\"colorscale\":[[0.0,\"#0d0887\"],[0.1111111111111111,\"#46039f\"],[0.2222222222222222,\"#7201a8\"],[0.3333333333333333,\"#9c179e\"],[0.4444444444444444,\"#bd3786\"],[0.5555555555555556,\"#d8576b\"],[0.6666666666666666,\"#ed7953\"],[0.7777777777777778,\"#fb9f3a\"],[0.8888888888888888,\"#fdca26\"],[1.0,\"#f0f921\"]]}],\"choropleth\":[{\"type\":\"choropleth\",\"colorbar\":{\"outlinewidth\":0,\"ticks\":\"\"}}],\"histogram2d\":[{\"type\":\"histogram2d\",\"colorbar\":{\"outlinewidth\":0,\"ticks\":\"\"},\"colorscale\":[[0.0,\"#0d0887\"],[0.1111111111111111,\"#46039f\"],[0.2222222222222222,\"#7201a8\"],[0.3333333333333333,\"#9c179e\"],[0.4444444444444444,\"#bd3786\"],[0.5555555555555556,\"#d8576b\"],[0.6666666666666666,\"#ed7953\"],[0.7777777777777778,\"#fb9f3a\"],[0.8888888888888888,\"#fdca26\"],[1.0,\"#f0f921\"]]}],\"heatmap\":[{\"type\":\"heatmap\",\"colorbar\":{\"outlinewidth\":0,\"ticks\":\"\"},\"colorscale\":[[0.0,\"#0d0887\"],[0.1111111111111111,\"#46039f\"],[0.2222222222222222,\"#7201a8\"],[0.3333333333333333,\"#9c179e\"],[0.4444444444444444,\"#bd3786\"],[0.5555555555555556,\"#d8576b\"],[0.6666666666666666,\"#ed7953\"],[0.7777777777777778,\"#fb9f3a\"],[0.8888888888888888,\"#fdca26\"],[1.0,\"#f0f921\"]]}],\"heatmapgl\":[{\"type\":\"heatmapgl\",\"colorbar\":{\"outlinewidth\":0,\"ticks\":\"\"},\"colorscale\":[[0.0,\"#0d0887\"],[0.1111111111111111,\"#46039f\"],[0.2222222222222222,\"#7201a8\"],[0.3333333333333333,\"#9c179e\"],[0.4444444444444444,\"#bd3786\"],[0.5555555555555556,\"#d8576b\"],[0.6666666666666666,\"#ed7953\"],[0.7777777777777778,\"#fb9f3a\"],[0.8888888888888888,\"#fdca26\"],[1.0,\"#f0f921\"]]}],\"contourcarpet\":[{\"type\":\"contourcarpet\",\"colorbar\":{\"outlinewidth\":0,\"ticks\":\"\"}}],\"contour\":[{\"type\":\"contour\",\"colorbar\":{\"outlinewidth\":0,\"ticks\":\"\"},\"colorscale\":[[0.0,\"#0d0887\"],[0.1111111111111111,\"#46039f\"],[0.2222222222222222,\"#7201a8\"],[0.3333333333333333,\"#9c179e\"],[0.4444444444444444,\"#bd3786\"],[0.5555555555555556,\"#d8576b\"],[0.6666666666666666,\"#ed7953\"],[0.7777777777777778,\"#fb9f3a\"],[0.8888888888888888,\"#fdca26\"],[1.0,\"#f0f921\"]]}],\"surface\":[{\"type\":\"surface\",\"colorbar\":{\"outlinewidth\":0,\"ticks\":\"\"},\"colorscale\":[[0.0,\"#0d0887\"],[0.1111111111111111,\"#46039f\"],[0.2222222222222222,\"#7201a8\"],[0.3333333333333333,\"#9c179e\"],[0.4444444444444444,\"#bd3786\"],[0.5555555555555556,\"#d8576b\"],[0.6666666666666666,\"#ed7953\"],[0.7777777777777778,\"#fb9f3a\"],[0.8888888888888888,\"#fdca26\"],[1.0,\"#f0f921\"]]}],\"mesh3d\":[{\"type\":\"mesh3d\",\"colorbar\":{\"outlinewidth\":0,\"ticks\":\"\"}}],\"scatter\":[{\"fillpattern\":{\"fillmode\":\"overlay\",\"size\":10,\"solidity\":0.2},\"type\":\"scatter\"}],\"parcoords\":[{\"type\":\"parcoords\",\"line\":{\"colorbar\":{\"outlinewidth\":0,\"ticks\":\"\"}}}],\"scatterpolargl\":[{\"type\":\"scatterpolargl\",\"marker\":{\"colorbar\":{\"outlinewidth\":0,\"ticks\":\"\"}}}],\"bar\":[{\"error_x\":{\"color\":\"#2a3f5f\"},\"error_y\":{\"color\":\"#2a3f5f\"},\"marker\":{\"line\":{\"color\":\"#E5ECF6\",\"width\":0.5},\"pattern\":{\"fillmode\":\"overlay\",\"size\":10,\"solidity\":0.2}},\"type\":\"bar\"}],\"scattergeo\":[{\"type\":\"scattergeo\",\"marker\":{\"colorbar\":{\"outlinewidth\":0,\"ticks\":\"\"}}}],\"scatterpolar\":[{\"type\":\"scatterpolar\",\"marker\":{\"colorbar\":{\"outlinewidth\":0,\"ticks\":\"\"}}}],\"histogram\":[{\"marker\":{\"pattern\":{\"fillmode\":\"overlay\",\"size\":10,\"solidity\":0.2}},\"type\":\"histogram\"}],\"scattergl\":[{\"type\":\"scattergl\",\"marker\":{\"colorbar\":{\"outlinewidth\":0,\"ticks\":\"\"}}}],\"scatter3d\":[{\"type\":\"scatter3d\",\"line\":{\"colorbar\":{\"outlinewidth\":0,\"ticks\":\"\"}},\"marker\":{\"colorbar\":{\"outlinewidth\":0,\"ticks\":\"\"}}}],\"scattermapbox\":[{\"type\":\"scattermapbox\",\"marker\":{\"colorbar\":{\"outlinewidth\":0,\"ticks\":\"\"}}}],\"scatterternary\":[{\"type\":\"scatterternary\",\"marker\":{\"colorbar\":{\"outlinewidth\":0,\"ticks\":\"\"}}}],\"scattercarpet\":[{\"type\":\"scattercarpet\",\"marker\":{\"colorbar\":{\"outlinewidth\":0,\"ticks\":\"\"}}}],\"carpet\":[{\"aaxis\":{\"endlinecolor\":\"#2a3f5f\",\"gridcolor\":\"white\",\"linecolor\":\"white\",\"minorgridcolor\":\"white\",\"startlinecolor\":\"#2a3f5f\"},\"baxis\":{\"endlinecolor\":\"#2a3f5f\",\"gridcolor\":\"white\",\"linecolor\":\"white\",\"minorgridcolor\":\"white\",\"startlinecolor\":\"#2a3f5f\"},\"type\":\"carpet\"}],\"table\":[{\"cells\":{\"fill\":{\"color\":\"#EBF0F8\"},\"line\":{\"color\":\"white\"}},\"header\":{\"fill\":{\"color\":\"#C8D4E3\"},\"line\":{\"color\":\"white\"}},\"type\":\"table\"}],\"barpolar\":[{\"marker\":{\"line\":{\"color\":\"#E5ECF6\",\"width\":0.5},\"pattern\":{\"fillmode\":\"overlay\",\"size\":10,\"solidity\":0.2}},\"type\":\"barpolar\"}],\"pie\":[{\"automargin\":true,\"type\":\"pie\"}]},\"layout\":{\"autotypenumbers\":\"strict\",\"colorway\":[\"#636efa\",\"#EF553B\",\"#00cc96\",\"#ab63fa\",\"#FFA15A\",\"#19d3f3\",\"#FF6692\",\"#B6E880\",\"#FF97FF\",\"#FECB52\"],\"font\":{\"color\":\"#2a3f5f\"},\"hovermode\":\"closest\",\"hoverlabel\":{\"align\":\"left\"},\"paper_bgcolor\":\"white\",\"plot_bgcolor\":\"#E5ECF6\",\"polar\":{\"bgcolor\":\"#E5ECF6\",\"angularaxis\":{\"gridcolor\":\"white\",\"linecolor\":\"white\",\"ticks\":\"\"},\"radialaxis\":{\"gridcolor\":\"white\",\"linecolor\":\"white\",\"ticks\":\"\"}},\"ternary\":{\"bgcolor\":\"#E5ECF6\",\"aaxis\":{\"gridcolor\":\"white\",\"linecolor\":\"white\",\"ticks\":\"\"},\"baxis\":{\"gridcolor\":\"white\",\"linecolor\":\"white\",\"ticks\":\"\"},\"caxis\":{\"gridcolor\":\"white\",\"linecolor\":\"white\",\"ticks\":\"\"}},\"coloraxis\":{\"colorbar\":{\"outlinewidth\":0,\"ticks\":\"\"}},\"colorscale\":{\"sequential\":[[0.0,\"#0d0887\"],[0.1111111111111111,\"#46039f\"],[0.2222222222222222,\"#7201a8\"],[0.3333333333333333,\"#9c179e\"],[0.4444444444444444,\"#bd3786\"],[0.5555555555555556,\"#d8576b\"],[0.6666666666666666,\"#ed7953\"],[0.7777777777777778,\"#fb9f3a\"],[0.8888888888888888,\"#fdca26\"],[1.0,\"#f0f921\"]],\"sequentialminus\":[[0.0,\"#0d0887\"],[0.1111111111111111,\"#46039f\"],[0.2222222222222222,\"#7201a8\"],[0.3333333333333333,\"#9c179e\"],[0.4444444444444444,\"#bd3786\"],[0.5555555555555556,\"#d8576b\"],[0.6666666666666666,\"#ed7953\"],[0.7777777777777778,\"#fb9f3a\"],[0.8888888888888888,\"#fdca26\"],[1.0,\"#f0f921\"]],\"diverging\":[[0,\"#8e0152\"],[0.1,\"#c51b7d\"],[0.2,\"#de77ae\"],[0.3,\"#f1b6da\"],[0.4,\"#fde0ef\"],[0.5,\"#f7f7f7\"],[0.6,\"#e6f5d0\"],[0.7,\"#b8e186\"],[0.8,\"#7fbc41\"],[0.9,\"#4d9221\"],[1,\"#276419\"]]},\"xaxis\":{\"gridcolor\":\"white\",\"linecolor\":\"white\",\"ticks\":\"\",\"title\":{\"standoff\":15},\"zerolinecolor\":\"white\",\"automargin\":true,\"zerolinewidth\":2},\"yaxis\":{\"gridcolor\":\"white\",\"linecolor\":\"white\",\"ticks\":\"\",\"title\":{\"standoff\":15},\"zerolinecolor\":\"white\",\"automargin\":true,\"zerolinewidth\":2},\"scene\":{\"xaxis\":{\"backgroundcolor\":\"#E5ECF6\",\"gridcolor\":\"white\",\"linecolor\":\"white\",\"showbackground\":true,\"ticks\":\"\",\"zerolinecolor\":\"white\",\"gridwidth\":2},\"yaxis\":{\"backgroundcolor\":\"#E5ECF6\",\"gridcolor\":\"white\",\"linecolor\":\"white\",\"showbackground\":true,\"ticks\":\"\",\"zerolinecolor\":\"white\",\"gridwidth\":2},\"zaxis\":{\"backgroundcolor\":\"#E5ECF6\",\"gridcolor\":\"white\",\"linecolor\":\"white\",\"showbackground\":true,\"ticks\":\"\",\"zerolinecolor\":\"white\",\"gridwidth\":2}},\"shapedefaults\":{\"line\":{\"color\":\"#2a3f5f\"}},\"annotationdefaults\":{\"arrowcolor\":\"#2a3f5f\",\"arrowhead\":0,\"arrowwidth\":1},\"geo\":{\"bgcolor\":\"white\",\"landcolor\":\"#E5ECF6\",\"subunitcolor\":\"white\",\"showland\":true,\"showlakes\":true,\"lakecolor\":\"white\"},\"title\":{\"x\":0.05},\"mapbox\":{\"style\":\"light\"}}},\"xaxis\":{\"anchor\":\"y\",\"domain\":[0.0,1.0],\"scaleanchor\":\"y\",\"constrain\":\"domain\",\"title\":{\"text\":\"Variables\"}},\"yaxis\":{\"anchor\":\"x\",\"domain\":[0.0,1.0],\"autorange\":\"reversed\",\"constrain\":\"domain\",\"title\":{\"text\":\"Variables\"}},\"coloraxis\":{\"colorbar\":{\"title\":{\"text\":\"Corrélation\"}},\"colorscale\":[[0.0,\"rgb(103,0,31)\"],[0.1,\"rgb(178,24,43)\"],[0.2,\"rgb(214,96,77)\"],[0.3,\"rgb(244,165,130)\"],[0.4,\"rgb(253,219,199)\"],[0.5,\"rgb(247,247,247)\"],[0.6,\"rgb(209,229,240)\"],[0.7,\"rgb(146,197,222)\"],[0.8,\"rgb(67,147,195)\"],[0.9,\"rgb(33,102,172)\"],[1.0,\"rgb(5,48,97)\"]]},\"title\":{\"text\":\"Matrice de Corrélation\"}},                        {\"responsive\": true}                    ).then(function(){\n                            \nvar gd = document.getElementById('cd8e5a8a-b63a-4d3f-a8f1-e3227e0de1ce');\nvar x = new MutationObserver(function (mutations, observer) {{\n        var display = window.getComputedStyle(gd).display;\n        if (!display || display === 'none') {{\n            console.log([gd, 'removed!']);\n            Plotly.purge(gd);\n            observer.disconnect();\n        }}\n}});\n\n// Listen for the removal of the full notebook cells\nvar notebookContainer = gd.closest('#notebook-container');\nif (notebookContainer) {{\n    x.observe(notebookContainer, {childList: true});\n}}\n\n// Listen for the clearing of the current output cell\nvar outputEl = gd.closest('.output');\nif (outputEl) {{\n    x.observe(outputEl, {childList: true});\n}}\n\n                        })                };                });            </script>        </div>"
          },
          "metadata": {}
        }
      ],
      "id": "4b4c421e"
    },
    {
      "cell_type": "markdown",
      "source": [
        "<table>\n",
        "    <tr>\n",
        "        <td style='width:5%;'>\n",
        "            <img src='img/feature-engineering.svg'/>\n",
        "        </td>\n",
        "        <td style='width:90%;text-align:left;'>\n",
        "            <div style='font-family:Inter,sans-serif;font-size: 16px;font-weight: 600;line-height: 24px;'>\n",
        "                Etape 4: Ingénierie des attributs\n",
        "            </div>\n",
        "            <span>Génerer des attributs à travers des combinaisons entre les caractéristiques.</span>\n",
        "        </td>\n",
        "        <td ></td>\n",
        "    </tr>\n",
        "</table>"
      ],
      "metadata": {
        "id": "b78a869a"
      },
      "id": "b78a869a"
    },
    {
      "cell_type": "code",
      "source": [
        "df['familysize'] = df.sibsp + df.parch + 1"
      ],
      "metadata": {
        "id": "edec8d74",
        "execution": {
          "iopub.status.busy": "2024-10-07T18:30:17.201264Z",
          "iopub.execute_input": "2024-10-07T18:30:17.201599Z",
          "iopub.status.idle": "2024-10-07T18:30:17.20754Z",
          "shell.execute_reply.started": "2024-10-07T18:30:17.201567Z",
          "shell.execute_reply": "2024-10-07T18:30:17.206417Z"
        },
        "trusted": true
      },
      "execution_count": null,
      "outputs": [],
      "id": "edec8d74"
    },
    {
      "cell_type": "markdown",
      "source": [
        "# Modélisation\n"
      ],
      "metadata": {
        "id": "6b2a11fe"
      },
      "id": "6b2a11fe"
    },
    {
      "cell_type": "markdown",
      "source": [
        "## 1. Splitting dataset into train and test sets 80%  :20%\n",
        "\n",
        "---\n",
        "\n"
      ],
      "metadata": {
        "id": "cf013f1c"
      },
      "id": "cf013f1c"
    },
    {
      "cell_type": "code",
      "source": [],
      "metadata": {
        "id": "tanrIuKMVgKE"
      },
      "execution_count": null,
      "outputs": [],
      "id": "tanrIuKMVgKE"
    },
    {
      "cell_type": "code",
      "source": [
        "from sklearn.model_selection import train_test_split\n",
        "\n",
        "# Supposons que df soit votre DataFrame principal et que 'target' soit la colonne cible\n",
        "X = df.drop(['survived','ticket'], axis=1)  # Sélectionne toutes les colonnes sauf la cible\n",
        "\n",
        "\n"
      ],
      "metadata": {
        "id": "TWGchGA1T10h",
        "execution": {
          "iopub.status.busy": "2024-10-07T18:30:17.215024Z",
          "iopub.execute_input": "2024-10-07T18:30:17.215501Z",
          "iopub.status.idle": "2024-10-07T18:30:17.308844Z",
          "shell.execute_reply.started": "2024-10-07T18:30:17.215454Z",
          "shell.execute_reply": "2024-10-07T18:30:17.308032Z"
        },
        "trusted": true
      },
      "execution_count": null,
      "outputs": [],
      "id": "TWGchGA1T10h"
    },
    {
      "cell_type": "code",
      "source": [
        "y = df['survived']  # Colonne cible\n",
        "\n",
        "# Diviser le jeu de données en ensembles d'entraînement (80%) et de test (20%)\n",
        "X_train, X_test, y_train, y_test = train_test_split(X, y, test_size=0.2, random_state=42)\n",
        "\n",
        "# Afficher les tailles des ensembles d'entraînement et de test\n",
        "print(f\"Taille de X_train: {X_train.shape}\")\n",
        "print(f\"Taille de X_test: {X_test.shape}\")\n",
        "print(f\"Taille de y_train: {y_train.shape}\")\n",
        "print(f\"Taille de y_test: {y_test.shape}\")"
      ],
      "metadata": {
        "id": "YOpbGC3_cex5",
        "execution": {
          "iopub.status.busy": "2024-10-07T18:30:17.310013Z",
          "iopub.execute_input": "2024-10-07T18:30:17.310333Z",
          "iopub.status.idle": "2024-10-07T18:30:17.321267Z",
          "shell.execute_reply.started": "2024-10-07T18:30:17.310299Z",
          "shell.execute_reply": "2024-10-07T18:30:17.320249Z"
        },
        "trusted": true,
        "outputId": "35d74b30-f7de-4db9-c77f-ae27cefc070b"
      },
      "execution_count": null,
      "outputs": [
        {
          "name": "stdout",
          "text": "Taille de X_train: (1047, 12)\nTaille de X_test: (262, 12)\nTaille de y_train: (1047,)\nTaille de y_test: (262,)\n",
          "output_type": "stream"
        }
      ],
      "id": "YOpbGC3_cex5"
    },
    {
      "cell_type": "markdown",
      "source": [
        "## 2. Feature scaling"
      ],
      "metadata": {
        "id": "c3960ba9"
      },
      "id": "c3960ba9"
    },
    {
      "cell_type": "code",
      "source": [
        "df.info()"
      ],
      "metadata": {
        "id": "LO2kAULNXgAW",
        "execution": {
          "iopub.status.busy": "2024-10-07T18:30:17.322589Z",
          "iopub.execute_input": "2024-10-07T18:30:17.32295Z",
          "iopub.status.idle": "2024-10-07T18:30:17.335934Z",
          "shell.execute_reply.started": "2024-10-07T18:30:17.322915Z",
          "shell.execute_reply": "2024-10-07T18:30:17.335033Z"
        },
        "trusted": true,
        "outputId": "156d7819-585c-43a1-aebc-d8e68f686a67"
      },
      "execution_count": null,
      "outputs": [
        {
          "name": "stdout",
          "text": "<class 'pandas.core.frame.DataFrame'>\nRangeIndex: 1309 entries, 0 to 1308\nData columns (total 14 columns):\n #   Column      Non-Null Count  Dtype  \n---  ------      --------------  -----  \n 0   pclass      1309 non-null   int64  \n 1   survived    1309 non-null   int64  \n 2   sex         1309 non-null   int64  \n 3   age         1309 non-null   float64\n 4   sibsp       1309 non-null   int64  \n 5   parch       1309 non-null   int64  \n 6   ticket      1309 non-null   object \n 7   fare        1309 non-null   float64\n 8   embarked    1309 non-null   float64\n 9   title_1     1309 non-null   float64\n 10  title_2     1309 non-null   float64\n 11  title_3     1309 non-null   float64\n 12  title_4     1309 non-null   float64\n 13  familysize  1309 non-null   int64  \ndtypes: float64(7), int64(6), object(1)\nmemory usage: 143.3+ KB\n",
          "output_type": "stream"
        }
      ],
      "id": "LO2kAULNXgAW"
    },
    {
      "cell_type": "code",
      "source": [
        "# Affiche le nombre de valeurs NaN par colonne\n",
        "print(df.isnull().sum())"
      ],
      "metadata": {
        "id": "fMb-7cYucy-e",
        "execution": {
          "iopub.status.busy": "2024-10-07T18:30:17.337054Z",
          "iopub.execute_input": "2024-10-07T18:30:17.337414Z",
          "iopub.status.idle": "2024-10-07T18:30:17.347966Z",
          "shell.execute_reply.started": "2024-10-07T18:30:17.337346Z",
          "shell.execute_reply": "2024-10-07T18:30:17.346895Z"
        },
        "trusted": true,
        "outputId": "eddc82c8-8977-4e74-c4de-051418af334f"
      },
      "execution_count": null,
      "outputs": [
        {
          "name": "stdout",
          "text": "pclass        0\nsurvived      0\nsex           0\nage           0\nsibsp         0\nparch         0\nticket        0\nfare          0\nembarked      0\ntitle_1       0\ntitle_2       0\ntitle_3       0\ntitle_4       0\nfamilysize    0\ndtype: int64\n",
          "output_type": "stream"
        }
      ],
      "id": "fMb-7cYucy-e"
    },
    {
      "cell_type": "code",
      "source": [
        "from sklearn.impute import SimpleImputer\n",
        "\n",
        "imputer = SimpleImputer(strategy='mean')\n",
        "\n",
        "X_train = imputer.fit_transform(X_train)\n",
        "X_test=imputer.transform(X_test)"
      ],
      "metadata": {
        "id": "hBfSuT0wfF_A",
        "execution": {
          "iopub.status.busy": "2024-10-07T18:30:17.349123Z",
          "iopub.execute_input": "2024-10-07T18:30:17.349447Z",
          "iopub.status.idle": "2024-10-07T18:30:17.500206Z",
          "shell.execute_reply.started": "2024-10-07T18:30:17.349411Z",
          "shell.execute_reply": "2024-10-07T18:30:17.49941Z"
        },
        "trusted": true
      },
      "execution_count": null,
      "outputs": [],
      "id": "hBfSuT0wfF_A"
    },
    {
      "cell_type": "code",
      "source": [
        "from sklearn.preprocessing import StandardScaler, MinMaxScaler\n",
        "\n",
        "#Standardisation\n",
        "scaler = StandardScaler()\n",
        "\n",
        "# Appliquer la standardisation sur l'ensemble d'entraînement\n",
        "X_train_scaled = scaler.fit_transform(X_train)\n",
        "\n",
        "# Appliquer la même transformation sur l'ensemble de test\n",
        "X_test_scaled = scaler.transform(X_test)\n",
        "\n",
        "print(\"Aperçu des données standardisées :\")\n",
        "print(f\"X_train_scaled:\\n{X_train_scaled[:5]}\")\n",
        "print(f\"X_test_scaled:\\n{X_test_scaled[:5]}\")"
      ],
      "metadata": {
        "id": "ysZRIL3YUigm",
        "execution": {
          "iopub.status.busy": "2024-10-07T18:30:17.501253Z",
          "iopub.execute_input": "2024-10-07T18:30:17.501566Z",
          "iopub.status.idle": "2024-10-07T18:30:17.512026Z",
          "shell.execute_reply.started": "2024-10-07T18:30:17.501534Z",
          "shell.execute_reply": "2024-10-07T18:30:17.511055Z"
        },
        "trusted": true,
        "outputId": "1216a9ed-1044-416b-80dc-e0e898fdd8cc"
      },
      "execution_count": null,
      "outputs": [
        {
          "name": "stdout",
          "text": "Aperçu des données standardisées :\nX_train_scaled:\n[[ 0.84035898 -0.73927586 -0.9565684  -0.4959643  -0.44243194 -0.49557686\n   0.61403205 -0.41527389 -0.22394296 -0.15957829  0.85641328 -0.57116167]\n [-0.35509734 -0.73927586  0.52955095 -0.4959643  -0.44243194 -0.44526407\n   0.61403205 -0.41527389 -0.22394296 -0.15957829  0.85641328 -0.57116167]\n [-1.55055366  1.35267503 -0.8783516  -0.4959643   1.79537599  0.89070441\n   0.61403205 -0.41527389 -0.22394296 -0.15957829 -1.16766055  0.67598383]\n [-1.55055366 -0.73927586  1.38993584  0.45683317 -0.44243194  3.74762906\n  -1.86817473 -0.41527389 -0.22394296  6.26651664 -1.16766055  0.05241108]\n [-1.55055366 -0.73927586 -0.09618352 -0.4959643  -0.44243194  0.17103954\n   0.61403205 -0.41527389 -0.22394296 -0.15957829  0.85641328 -0.57116167]]\nX_test_scaled:\n[[ 0.84035898 -0.73927586  0.45133414 -0.4959643  -0.44243194 -0.51046861\n   0.61403205 -0.41527389 -0.22394296 -0.15957829  0.85641328 -0.57116167]\n [ 0.84035898 -0.73927586 -0.72191798  0.45683317  0.67647203 -0.34399515\n  -1.86817473 -0.41527389 -0.22394296 -0.15957829  0.85641328  0.67598383]\n [ 0.84035898 -0.73927586 -0.09618352 -0.4959643  -0.44243194 -0.49557686\n   0.61403205 -0.41527389 -0.22394296 -0.15957829  0.85641328 -0.57116167]\n [ 0.84035898 -0.73927586 -0.09618352 -0.4959643  -0.44243194 -0.49259774\n   0.61403205 -0.41527389 -0.22394296 -0.15957829  0.85641328 -0.57116167]\n [ 0.84035898 -0.73927586 -0.09618352 -0.4959643  -0.44243194 -0.49839369\n  -0.62707134 -0.41527389 -0.22394296 -0.15957829  0.85641328 -0.57116167]]\n",
          "output_type": "stream"
        }
      ],
      "id": "ysZRIL3YUigm"
    },
    {
      "cell_type": "markdown",
      "source": [
        "## 3. k Nearest Neighbors"
      ],
      "metadata": {
        "id": "436e0c44"
      },
      "id": "436e0c44"
    },
    {
      "cell_type": "markdown",
      "source": [
        "#### 3.1.Entrainer et tester le modèle"
      ],
      "metadata": {
        "id": "77459550"
      },
      "id": "77459550"
    },
    {
      "cell_type": "code",
      "source": [
        "from sklearn.neighbors import KNeighborsClassifier\n",
        "from sklearn.metrics import classification_report, confusion_matrix, accuracy_score\n",
        "\n",
        "knn = KNeighborsClassifier(n_neighbors=5)\n",
        "knn.fit(X_train_scaled, y_train)\n",
        "\n",
        "y_pred = knn.predict(X_test_scaled)\n"
      ],
      "metadata": {
        "id": "7e9efe70",
        "execution": {
          "iopub.status.busy": "2024-10-07T18:30:17.513519Z",
          "iopub.execute_input": "2024-10-07T18:30:17.514303Z",
          "iopub.status.idle": "2024-10-07T18:30:17.546551Z",
          "shell.execute_reply.started": "2024-10-07T18:30:17.514267Z",
          "shell.execute_reply": "2024-10-07T18:30:17.545593Z"
        },
        "trusted": true
      },
      "execution_count": null,
      "outputs": [],
      "id": "7e9efe70"
    },
    {
      "cell_type": "markdown",
      "source": [
        "#### 3.2. Afficher la matrice de confusion et les métriques"
      ],
      "metadata": {
        "id": "1ddd7b2e"
      },
      "id": "1ddd7b2e"
    },
    {
      "cell_type": "code",
      "source": [
        "from sklearn.metrics import accuracy_score, classification_report, confusion_matrix\n",
        "\n",
        "\n",
        "accuracy = accuracy_score(y_test, y_pred)\n",
        "print(f\"Accuracy: {accuracy}\")\n",
        "\n",
        "report = classification_report(y_test, y_pred)\n",
        "print(\"Classification Report:\\n\", report)\n",
        "\n",
        "conf_matrix = confusion_matrix(y_test, y_pred)\n",
        "print(\"Confusion Matrix:\\n\", conf_matrix)\n"
      ],
      "metadata": {
        "id": "VMx8cOx5iFjt",
        "execution": {
          "iopub.status.busy": "2024-10-07T18:30:17.54767Z",
          "iopub.execute_input": "2024-10-07T18:30:17.547991Z",
          "iopub.status.idle": "2024-10-07T18:30:17.566568Z",
          "shell.execute_reply.started": "2024-10-07T18:30:17.547958Z",
          "shell.execute_reply": "2024-10-07T18:30:17.565599Z"
        },
        "trusted": true,
        "outputId": "5627fc11-8533-4308-9c91-6cd52e4fd252"
      },
      "execution_count": null,
      "outputs": [
        {
          "name": "stdout",
          "text": "Accuracy: 0.7709923664122137\nClassification Report:\n               precision    recall  f1-score   support\n\n           0       0.75      0.88      0.81       144\n           1       0.81      0.64      0.72       118\n\n    accuracy                           0.77       262\n   macro avg       0.78      0.76      0.76       262\nweighted avg       0.78      0.77      0.77       262\n\nConfusion Matrix:\n [[126  18]\n [ 42  76]]\n",
          "output_type": "stream"
        }
      ],
      "id": "VMx8cOx5iFjt"
    },
    {
      "cell_type": "code",
      "source": [
        "Image('metrics.png')"
      ],
      "metadata": {
        "id": "b78453d6",
        "execution": {
          "iopub.status.busy": "2024-10-07T18:30:17.567806Z",
          "iopub.execute_input": "2024-10-07T18:30:17.568115Z",
          "iopub.status.idle": "2024-10-07T18:30:18.193338Z",
          "shell.execute_reply.started": "2024-10-07T18:30:17.568082Z",
          "shell.execute_reply": "2024-10-07T18:30:18.192403Z"
        },
        "trusted": true,
        "outputId": "5d7d4baf-7c01-4a19-e165-4c0656048232"
      },
      "execution_count": null,
      "outputs": [
        {
          "traceback": [
            "\u001b[0;31m---------------------------------------------------------------------------\u001b[0m",
            "\u001b[0;31mTypeError\u001b[0m                                 Traceback (most recent call last)",
            "File \u001b[0;32m/opt/conda/lib/python3.10/site-packages/IPython/core/display.py:1045\u001b[0m, in \u001b[0;36mImage._data_and_metadata\u001b[0;34m(self, always_both)\u001b[0m\n\u001b[1;32m   1044\u001b[0m \u001b[38;5;28;01mtry\u001b[39;00m:\n\u001b[0;32m-> 1045\u001b[0m     b64_data \u001b[38;5;241m=\u001b[39m \u001b[43mb2a_base64\u001b[49m\u001b[43m(\u001b[49m\u001b[38;5;28;43mself\u001b[39;49m\u001b[38;5;241;43m.\u001b[39;49m\u001b[43mdata\u001b[49m\u001b[43m,\u001b[49m\u001b[43m \u001b[49m\u001b[43mnewline\u001b[49m\u001b[38;5;241;43m=\u001b[39;49m\u001b[38;5;28;43;01mFalse\u001b[39;49;00m\u001b[43m)\u001b[49m\u001b[38;5;241m.\u001b[39mdecode(\u001b[38;5;124m\"\u001b[39m\u001b[38;5;124mascii\u001b[39m\u001b[38;5;124m\"\u001b[39m)\n\u001b[1;32m   1046\u001b[0m \u001b[38;5;28;01mexcept\u001b[39;00m \u001b[38;5;167;01mTypeError\u001b[39;00m \u001b[38;5;28;01mas\u001b[39;00m e:\n",
            "\u001b[0;31mTypeError\u001b[0m: a bytes-like object is required, not 'str'",
            "\nThe above exception was the direct cause of the following exception:\n",
            "\u001b[0;31mFileNotFoundError\u001b[0m                         Traceback (most recent call last)",
            "File \u001b[0;32m/opt/conda/lib/python3.10/site-packages/IPython/core/formatters.py:974\u001b[0m, in \u001b[0;36mMimeBundleFormatter.__call__\u001b[0;34m(self, obj, include, exclude)\u001b[0m\n\u001b[1;32m    971\u001b[0m     method \u001b[38;5;241m=\u001b[39m get_real_method(obj, \u001b[38;5;28mself\u001b[39m\u001b[38;5;241m.\u001b[39mprint_method)\n\u001b[1;32m    973\u001b[0m     \u001b[38;5;28;01mif\u001b[39;00m method \u001b[38;5;129;01mis\u001b[39;00m \u001b[38;5;129;01mnot\u001b[39;00m \u001b[38;5;28;01mNone\u001b[39;00m:\n\u001b[0;32m--> 974\u001b[0m         \u001b[38;5;28;01mreturn\u001b[39;00m \u001b[43mmethod\u001b[49m\u001b[43m(\u001b[49m\u001b[43minclude\u001b[49m\u001b[38;5;241;43m=\u001b[39;49m\u001b[43minclude\u001b[49m\u001b[43m,\u001b[49m\u001b[43m \u001b[49m\u001b[43mexclude\u001b[49m\u001b[38;5;241;43m=\u001b[39;49m\u001b[43mexclude\u001b[49m\u001b[43m)\u001b[49m\n\u001b[1;32m    975\u001b[0m     \u001b[38;5;28;01mreturn\u001b[39;00m \u001b[38;5;28;01mNone\u001b[39;00m\n\u001b[1;32m    976\u001b[0m \u001b[38;5;28;01melse\u001b[39;00m:\n",
            "File \u001b[0;32m/opt/conda/lib/python3.10/site-packages/IPython/core/display.py:1035\u001b[0m, in \u001b[0;36mImage._repr_mimebundle_\u001b[0;34m(self, include, exclude)\u001b[0m\n\u001b[1;32m   1033\u001b[0m \u001b[38;5;28;01mif\u001b[39;00m \u001b[38;5;28mself\u001b[39m\u001b[38;5;241m.\u001b[39membed:\n\u001b[1;32m   1034\u001b[0m     mimetype \u001b[38;5;241m=\u001b[39m \u001b[38;5;28mself\u001b[39m\u001b[38;5;241m.\u001b[39m_mimetype\n\u001b[0;32m-> 1035\u001b[0m     data, metadata \u001b[38;5;241m=\u001b[39m \u001b[38;5;28;43mself\u001b[39;49m\u001b[38;5;241;43m.\u001b[39;49m\u001b[43m_data_and_metadata\u001b[49m\u001b[43m(\u001b[49m\u001b[43malways_both\u001b[49m\u001b[38;5;241;43m=\u001b[39;49m\u001b[38;5;28;43;01mTrue\u001b[39;49;00m\u001b[43m)\u001b[49m\n\u001b[1;32m   1036\u001b[0m     \u001b[38;5;28;01mif\u001b[39;00m metadata:\n\u001b[1;32m   1037\u001b[0m         metadata \u001b[38;5;241m=\u001b[39m {mimetype: metadata}\n",
            "File \u001b[0;32m/opt/conda/lib/python3.10/site-packages/IPython/core/display.py:1047\u001b[0m, in \u001b[0;36mImage._data_and_metadata\u001b[0;34m(self, always_both)\u001b[0m\n\u001b[1;32m   1045\u001b[0m     b64_data \u001b[38;5;241m=\u001b[39m b2a_base64(\u001b[38;5;28mself\u001b[39m\u001b[38;5;241m.\u001b[39mdata, newline\u001b[38;5;241m=\u001b[39m\u001b[38;5;28;01mFalse\u001b[39;00m)\u001b[38;5;241m.\u001b[39mdecode(\u001b[38;5;124m\"\u001b[39m\u001b[38;5;124mascii\u001b[39m\u001b[38;5;124m\"\u001b[39m)\n\u001b[1;32m   1046\u001b[0m \u001b[38;5;28;01mexcept\u001b[39;00m \u001b[38;5;167;01mTypeError\u001b[39;00m \u001b[38;5;28;01mas\u001b[39;00m e:\n\u001b[0;32m-> 1047\u001b[0m     \u001b[38;5;28;01mraise\u001b[39;00m \u001b[38;5;167;01mFileNotFoundError\u001b[39;00m(\n\u001b[1;32m   1048\u001b[0m         \u001b[38;5;124m\"\u001b[39m\u001b[38;5;124mNo such file or directory: \u001b[39m\u001b[38;5;124m'\u001b[39m\u001b[38;5;132;01m%s\u001b[39;00m\u001b[38;5;124m'\u001b[39m\u001b[38;5;124m\"\u001b[39m \u001b[38;5;241m%\u001b[39m (\u001b[38;5;28mself\u001b[39m\u001b[38;5;241m.\u001b[39mdata)) \u001b[38;5;28;01mfrom\u001b[39;00m \u001b[38;5;21;01me\u001b[39;00m\n\u001b[1;32m   1049\u001b[0m md \u001b[38;5;241m=\u001b[39m {}\n\u001b[1;32m   1050\u001b[0m \u001b[38;5;28;01mif\u001b[39;00m \u001b[38;5;28mself\u001b[39m\u001b[38;5;241m.\u001b[39mmetadata:\n",
            "\u001b[0;31mFileNotFoundError\u001b[0m: No such file or directory: 'metrics.png'"
          ],
          "ename": "FileNotFoundError",
          "evalue": "No such file or directory: 'metrics.png'",
          "output_type": "error"
        },
        {
          "traceback": [
            "\u001b[0;31m---------------------------------------------------------------------------\u001b[0m",
            "\u001b[0;31mTypeError\u001b[0m                                 Traceback (most recent call last)",
            "File \u001b[0;32m/opt/conda/lib/python3.10/site-packages/IPython/core/display.py:1045\u001b[0m, in \u001b[0;36mImage._data_and_metadata\u001b[0;34m(self, always_both)\u001b[0m\n\u001b[1;32m   1044\u001b[0m \u001b[38;5;28;01mtry\u001b[39;00m:\n\u001b[0;32m-> 1045\u001b[0m     b64_data \u001b[38;5;241m=\u001b[39m \u001b[43mb2a_base64\u001b[49m\u001b[43m(\u001b[49m\u001b[38;5;28;43mself\u001b[39;49m\u001b[38;5;241;43m.\u001b[39;49m\u001b[43mdata\u001b[49m\u001b[43m,\u001b[49m\u001b[43m \u001b[49m\u001b[43mnewline\u001b[49m\u001b[38;5;241;43m=\u001b[39;49m\u001b[38;5;28;43;01mFalse\u001b[39;49;00m\u001b[43m)\u001b[49m\u001b[38;5;241m.\u001b[39mdecode(\u001b[38;5;124m\"\u001b[39m\u001b[38;5;124mascii\u001b[39m\u001b[38;5;124m\"\u001b[39m)\n\u001b[1;32m   1046\u001b[0m \u001b[38;5;28;01mexcept\u001b[39;00m \u001b[38;5;167;01mTypeError\u001b[39;00m \u001b[38;5;28;01mas\u001b[39;00m e:\n",
            "\u001b[0;31mTypeError\u001b[0m: a bytes-like object is required, not 'str'",
            "\nThe above exception was the direct cause of the following exception:\n",
            "\u001b[0;31mFileNotFoundError\u001b[0m                         Traceback (most recent call last)",
            "File \u001b[0;32m/opt/conda/lib/python3.10/site-packages/IPython/core/formatters.py:344\u001b[0m, in \u001b[0;36mBaseFormatter.__call__\u001b[0;34m(self, obj)\u001b[0m\n\u001b[1;32m    342\u001b[0m     method \u001b[38;5;241m=\u001b[39m get_real_method(obj, \u001b[38;5;28mself\u001b[39m\u001b[38;5;241m.\u001b[39mprint_method)\n\u001b[1;32m    343\u001b[0m     \u001b[38;5;28;01mif\u001b[39;00m method \u001b[38;5;129;01mis\u001b[39;00m \u001b[38;5;129;01mnot\u001b[39;00m \u001b[38;5;28;01mNone\u001b[39;00m:\n\u001b[0;32m--> 344\u001b[0m         \u001b[38;5;28;01mreturn\u001b[39;00m \u001b[43mmethod\u001b[49m\u001b[43m(\u001b[49m\u001b[43m)\u001b[49m\n\u001b[1;32m    345\u001b[0m     \u001b[38;5;28;01mreturn\u001b[39;00m \u001b[38;5;28;01mNone\u001b[39;00m\n\u001b[1;32m    346\u001b[0m \u001b[38;5;28;01melse\u001b[39;00m:\n",
            "File \u001b[0;32m/opt/conda/lib/python3.10/site-packages/IPython/core/display.py:1067\u001b[0m, in \u001b[0;36mImage._repr_png_\u001b[0;34m(self)\u001b[0m\n\u001b[1;32m   1065\u001b[0m \u001b[38;5;28;01mdef\u001b[39;00m \u001b[38;5;21m_repr_png_\u001b[39m(\u001b[38;5;28mself\u001b[39m):\n\u001b[1;32m   1066\u001b[0m     \u001b[38;5;28;01mif\u001b[39;00m \u001b[38;5;28mself\u001b[39m\u001b[38;5;241m.\u001b[39membed \u001b[38;5;129;01mand\u001b[39;00m \u001b[38;5;28mself\u001b[39m\u001b[38;5;241m.\u001b[39mformat \u001b[38;5;241m==\u001b[39m \u001b[38;5;28mself\u001b[39m\u001b[38;5;241m.\u001b[39m_FMT_PNG:\n\u001b[0;32m-> 1067\u001b[0m         \u001b[38;5;28;01mreturn\u001b[39;00m \u001b[38;5;28;43mself\u001b[39;49m\u001b[38;5;241;43m.\u001b[39;49m\u001b[43m_data_and_metadata\u001b[49m\u001b[43m(\u001b[49m\u001b[43m)\u001b[49m\n",
            "File \u001b[0;32m/opt/conda/lib/python3.10/site-packages/IPython/core/display.py:1047\u001b[0m, in \u001b[0;36mImage._data_and_metadata\u001b[0;34m(self, always_both)\u001b[0m\n\u001b[1;32m   1045\u001b[0m     b64_data \u001b[38;5;241m=\u001b[39m b2a_base64(\u001b[38;5;28mself\u001b[39m\u001b[38;5;241m.\u001b[39mdata, newline\u001b[38;5;241m=\u001b[39m\u001b[38;5;28;01mFalse\u001b[39;00m)\u001b[38;5;241m.\u001b[39mdecode(\u001b[38;5;124m\"\u001b[39m\u001b[38;5;124mascii\u001b[39m\u001b[38;5;124m\"\u001b[39m)\n\u001b[1;32m   1046\u001b[0m \u001b[38;5;28;01mexcept\u001b[39;00m \u001b[38;5;167;01mTypeError\u001b[39;00m \u001b[38;5;28;01mas\u001b[39;00m e:\n\u001b[0;32m-> 1047\u001b[0m     \u001b[38;5;28;01mraise\u001b[39;00m \u001b[38;5;167;01mFileNotFoundError\u001b[39;00m(\n\u001b[1;32m   1048\u001b[0m         \u001b[38;5;124m\"\u001b[39m\u001b[38;5;124mNo such file or directory: \u001b[39m\u001b[38;5;124m'\u001b[39m\u001b[38;5;132;01m%s\u001b[39;00m\u001b[38;5;124m'\u001b[39m\u001b[38;5;124m\"\u001b[39m \u001b[38;5;241m%\u001b[39m (\u001b[38;5;28mself\u001b[39m\u001b[38;5;241m.\u001b[39mdata)) \u001b[38;5;28;01mfrom\u001b[39;00m \u001b[38;5;21;01me\u001b[39;00m\n\u001b[1;32m   1049\u001b[0m md \u001b[38;5;241m=\u001b[39m {}\n\u001b[1;32m   1050\u001b[0m \u001b[38;5;28;01mif\u001b[39;00m \u001b[38;5;28mself\u001b[39m\u001b[38;5;241m.\u001b[39mmetadata:\n",
            "\u001b[0;31mFileNotFoundError\u001b[0m: No such file or directory: 'metrics.png'"
          ],
          "ename": "FileNotFoundError",
          "evalue": "No such file or directory: 'metrics.png'",
          "output_type": "error"
        },
        {
          "execution_count": 49,
          "output_type": "execute_result",
          "data": {
            "text/plain": "<IPython.core.display.Image object>"
          },
          "metadata": {}
        }
      ],
      "id": "b78453d6"
    },
    {
      "cell_type": "markdown",
      "source": [
        "#### 3.3 Appliquer GridSearch"
      ],
      "metadata": {
        "id": "f56d5918"
      },
      "id": "f56d5918"
    },
    {
      "cell_type": "code",
      "source": [
        "Image('grid.png')"
      ],
      "metadata": {
        "id": "12e58eda",
        "execution": {
          "iopub.status.busy": "2024-10-07T18:30:18.194709Z",
          "iopub.execute_input": "2024-10-07T18:30:18.195117Z",
          "iopub.status.idle": "2024-10-07T18:30:18.311244Z",
          "shell.execute_reply.started": "2024-10-07T18:30:18.195072Z",
          "shell.execute_reply": "2024-10-07T18:30:18.310317Z"
        },
        "trusted": true,
        "outputId": "3a845785-978e-4916-9315-f245fec4c331"
      },
      "execution_count": null,
      "outputs": [
        {
          "traceback": [
            "\u001b[0;31m---------------------------------------------------------------------------\u001b[0m",
            "\u001b[0;31mTypeError\u001b[0m                                 Traceback (most recent call last)",
            "File \u001b[0;32m/opt/conda/lib/python3.10/site-packages/IPython/core/display.py:1045\u001b[0m, in \u001b[0;36mImage._data_and_metadata\u001b[0;34m(self, always_both)\u001b[0m\n\u001b[1;32m   1044\u001b[0m \u001b[38;5;28;01mtry\u001b[39;00m:\n\u001b[0;32m-> 1045\u001b[0m     b64_data \u001b[38;5;241m=\u001b[39m \u001b[43mb2a_base64\u001b[49m\u001b[43m(\u001b[49m\u001b[38;5;28;43mself\u001b[39;49m\u001b[38;5;241;43m.\u001b[39;49m\u001b[43mdata\u001b[49m\u001b[43m,\u001b[49m\u001b[43m \u001b[49m\u001b[43mnewline\u001b[49m\u001b[38;5;241;43m=\u001b[39;49m\u001b[38;5;28;43;01mFalse\u001b[39;49;00m\u001b[43m)\u001b[49m\u001b[38;5;241m.\u001b[39mdecode(\u001b[38;5;124m\"\u001b[39m\u001b[38;5;124mascii\u001b[39m\u001b[38;5;124m\"\u001b[39m)\n\u001b[1;32m   1046\u001b[0m \u001b[38;5;28;01mexcept\u001b[39;00m \u001b[38;5;167;01mTypeError\u001b[39;00m \u001b[38;5;28;01mas\u001b[39;00m e:\n",
            "\u001b[0;31mTypeError\u001b[0m: a bytes-like object is required, not 'str'",
            "\nThe above exception was the direct cause of the following exception:\n",
            "\u001b[0;31mFileNotFoundError\u001b[0m                         Traceback (most recent call last)",
            "File \u001b[0;32m/opt/conda/lib/python3.10/site-packages/IPython/core/formatters.py:974\u001b[0m, in \u001b[0;36mMimeBundleFormatter.__call__\u001b[0;34m(self, obj, include, exclude)\u001b[0m\n\u001b[1;32m    971\u001b[0m     method \u001b[38;5;241m=\u001b[39m get_real_method(obj, \u001b[38;5;28mself\u001b[39m\u001b[38;5;241m.\u001b[39mprint_method)\n\u001b[1;32m    973\u001b[0m     \u001b[38;5;28;01mif\u001b[39;00m method \u001b[38;5;129;01mis\u001b[39;00m \u001b[38;5;129;01mnot\u001b[39;00m \u001b[38;5;28;01mNone\u001b[39;00m:\n\u001b[0;32m--> 974\u001b[0m         \u001b[38;5;28;01mreturn\u001b[39;00m \u001b[43mmethod\u001b[49m\u001b[43m(\u001b[49m\u001b[43minclude\u001b[49m\u001b[38;5;241;43m=\u001b[39;49m\u001b[43minclude\u001b[49m\u001b[43m,\u001b[49m\u001b[43m \u001b[49m\u001b[43mexclude\u001b[49m\u001b[38;5;241;43m=\u001b[39;49m\u001b[43mexclude\u001b[49m\u001b[43m)\u001b[49m\n\u001b[1;32m    975\u001b[0m     \u001b[38;5;28;01mreturn\u001b[39;00m \u001b[38;5;28;01mNone\u001b[39;00m\n\u001b[1;32m    976\u001b[0m \u001b[38;5;28;01melse\u001b[39;00m:\n",
            "File \u001b[0;32m/opt/conda/lib/python3.10/site-packages/IPython/core/display.py:1035\u001b[0m, in \u001b[0;36mImage._repr_mimebundle_\u001b[0;34m(self, include, exclude)\u001b[0m\n\u001b[1;32m   1033\u001b[0m \u001b[38;5;28;01mif\u001b[39;00m \u001b[38;5;28mself\u001b[39m\u001b[38;5;241m.\u001b[39membed:\n\u001b[1;32m   1034\u001b[0m     mimetype \u001b[38;5;241m=\u001b[39m \u001b[38;5;28mself\u001b[39m\u001b[38;5;241m.\u001b[39m_mimetype\n\u001b[0;32m-> 1035\u001b[0m     data, metadata \u001b[38;5;241m=\u001b[39m \u001b[38;5;28;43mself\u001b[39;49m\u001b[38;5;241;43m.\u001b[39;49m\u001b[43m_data_and_metadata\u001b[49m\u001b[43m(\u001b[49m\u001b[43malways_both\u001b[49m\u001b[38;5;241;43m=\u001b[39;49m\u001b[38;5;28;43;01mTrue\u001b[39;49;00m\u001b[43m)\u001b[49m\n\u001b[1;32m   1036\u001b[0m     \u001b[38;5;28;01mif\u001b[39;00m metadata:\n\u001b[1;32m   1037\u001b[0m         metadata \u001b[38;5;241m=\u001b[39m {mimetype: metadata}\n",
            "File \u001b[0;32m/opt/conda/lib/python3.10/site-packages/IPython/core/display.py:1047\u001b[0m, in \u001b[0;36mImage._data_and_metadata\u001b[0;34m(self, always_both)\u001b[0m\n\u001b[1;32m   1045\u001b[0m     b64_data \u001b[38;5;241m=\u001b[39m b2a_base64(\u001b[38;5;28mself\u001b[39m\u001b[38;5;241m.\u001b[39mdata, newline\u001b[38;5;241m=\u001b[39m\u001b[38;5;28;01mFalse\u001b[39;00m)\u001b[38;5;241m.\u001b[39mdecode(\u001b[38;5;124m\"\u001b[39m\u001b[38;5;124mascii\u001b[39m\u001b[38;5;124m\"\u001b[39m)\n\u001b[1;32m   1046\u001b[0m \u001b[38;5;28;01mexcept\u001b[39;00m \u001b[38;5;167;01mTypeError\u001b[39;00m \u001b[38;5;28;01mas\u001b[39;00m e:\n\u001b[0;32m-> 1047\u001b[0m     \u001b[38;5;28;01mraise\u001b[39;00m \u001b[38;5;167;01mFileNotFoundError\u001b[39;00m(\n\u001b[1;32m   1048\u001b[0m         \u001b[38;5;124m\"\u001b[39m\u001b[38;5;124mNo such file or directory: \u001b[39m\u001b[38;5;124m'\u001b[39m\u001b[38;5;132;01m%s\u001b[39;00m\u001b[38;5;124m'\u001b[39m\u001b[38;5;124m\"\u001b[39m \u001b[38;5;241m%\u001b[39m (\u001b[38;5;28mself\u001b[39m\u001b[38;5;241m.\u001b[39mdata)) \u001b[38;5;28;01mfrom\u001b[39;00m \u001b[38;5;21;01me\u001b[39;00m\n\u001b[1;32m   1049\u001b[0m md \u001b[38;5;241m=\u001b[39m {}\n\u001b[1;32m   1050\u001b[0m \u001b[38;5;28;01mif\u001b[39;00m \u001b[38;5;28mself\u001b[39m\u001b[38;5;241m.\u001b[39mmetadata:\n",
            "\u001b[0;31mFileNotFoundError\u001b[0m: No such file or directory: 'grid.png'"
          ],
          "ename": "FileNotFoundError",
          "evalue": "No such file or directory: 'grid.png'",
          "output_type": "error"
        },
        {
          "traceback": [
            "\u001b[0;31m---------------------------------------------------------------------------\u001b[0m",
            "\u001b[0;31mTypeError\u001b[0m                                 Traceback (most recent call last)",
            "File \u001b[0;32m/opt/conda/lib/python3.10/site-packages/IPython/core/display.py:1045\u001b[0m, in \u001b[0;36mImage._data_and_metadata\u001b[0;34m(self, always_both)\u001b[0m\n\u001b[1;32m   1044\u001b[0m \u001b[38;5;28;01mtry\u001b[39;00m:\n\u001b[0;32m-> 1045\u001b[0m     b64_data \u001b[38;5;241m=\u001b[39m \u001b[43mb2a_base64\u001b[49m\u001b[43m(\u001b[49m\u001b[38;5;28;43mself\u001b[39;49m\u001b[38;5;241;43m.\u001b[39;49m\u001b[43mdata\u001b[49m\u001b[43m,\u001b[49m\u001b[43m \u001b[49m\u001b[43mnewline\u001b[49m\u001b[38;5;241;43m=\u001b[39;49m\u001b[38;5;28;43;01mFalse\u001b[39;49;00m\u001b[43m)\u001b[49m\u001b[38;5;241m.\u001b[39mdecode(\u001b[38;5;124m\"\u001b[39m\u001b[38;5;124mascii\u001b[39m\u001b[38;5;124m\"\u001b[39m)\n\u001b[1;32m   1046\u001b[0m \u001b[38;5;28;01mexcept\u001b[39;00m \u001b[38;5;167;01mTypeError\u001b[39;00m \u001b[38;5;28;01mas\u001b[39;00m e:\n",
            "\u001b[0;31mTypeError\u001b[0m: a bytes-like object is required, not 'str'",
            "\nThe above exception was the direct cause of the following exception:\n",
            "\u001b[0;31mFileNotFoundError\u001b[0m                         Traceback (most recent call last)",
            "File \u001b[0;32m/opt/conda/lib/python3.10/site-packages/IPython/core/formatters.py:344\u001b[0m, in \u001b[0;36mBaseFormatter.__call__\u001b[0;34m(self, obj)\u001b[0m\n\u001b[1;32m    342\u001b[0m     method \u001b[38;5;241m=\u001b[39m get_real_method(obj, \u001b[38;5;28mself\u001b[39m\u001b[38;5;241m.\u001b[39mprint_method)\n\u001b[1;32m    343\u001b[0m     \u001b[38;5;28;01mif\u001b[39;00m method \u001b[38;5;129;01mis\u001b[39;00m \u001b[38;5;129;01mnot\u001b[39;00m \u001b[38;5;28;01mNone\u001b[39;00m:\n\u001b[0;32m--> 344\u001b[0m         \u001b[38;5;28;01mreturn\u001b[39;00m \u001b[43mmethod\u001b[49m\u001b[43m(\u001b[49m\u001b[43m)\u001b[49m\n\u001b[1;32m    345\u001b[0m     \u001b[38;5;28;01mreturn\u001b[39;00m \u001b[38;5;28;01mNone\u001b[39;00m\n\u001b[1;32m    346\u001b[0m \u001b[38;5;28;01melse\u001b[39;00m:\n",
            "File \u001b[0;32m/opt/conda/lib/python3.10/site-packages/IPython/core/display.py:1067\u001b[0m, in \u001b[0;36mImage._repr_png_\u001b[0;34m(self)\u001b[0m\n\u001b[1;32m   1065\u001b[0m \u001b[38;5;28;01mdef\u001b[39;00m \u001b[38;5;21m_repr_png_\u001b[39m(\u001b[38;5;28mself\u001b[39m):\n\u001b[1;32m   1066\u001b[0m     \u001b[38;5;28;01mif\u001b[39;00m \u001b[38;5;28mself\u001b[39m\u001b[38;5;241m.\u001b[39membed \u001b[38;5;129;01mand\u001b[39;00m \u001b[38;5;28mself\u001b[39m\u001b[38;5;241m.\u001b[39mformat \u001b[38;5;241m==\u001b[39m \u001b[38;5;28mself\u001b[39m\u001b[38;5;241m.\u001b[39m_FMT_PNG:\n\u001b[0;32m-> 1067\u001b[0m         \u001b[38;5;28;01mreturn\u001b[39;00m \u001b[38;5;28;43mself\u001b[39;49m\u001b[38;5;241;43m.\u001b[39;49m\u001b[43m_data_and_metadata\u001b[49m\u001b[43m(\u001b[49m\u001b[43m)\u001b[49m\n",
            "File \u001b[0;32m/opt/conda/lib/python3.10/site-packages/IPython/core/display.py:1047\u001b[0m, in \u001b[0;36mImage._data_and_metadata\u001b[0;34m(self, always_both)\u001b[0m\n\u001b[1;32m   1045\u001b[0m     b64_data \u001b[38;5;241m=\u001b[39m b2a_base64(\u001b[38;5;28mself\u001b[39m\u001b[38;5;241m.\u001b[39mdata, newline\u001b[38;5;241m=\u001b[39m\u001b[38;5;28;01mFalse\u001b[39;00m)\u001b[38;5;241m.\u001b[39mdecode(\u001b[38;5;124m\"\u001b[39m\u001b[38;5;124mascii\u001b[39m\u001b[38;5;124m\"\u001b[39m)\n\u001b[1;32m   1046\u001b[0m \u001b[38;5;28;01mexcept\u001b[39;00m \u001b[38;5;167;01mTypeError\u001b[39;00m \u001b[38;5;28;01mas\u001b[39;00m e:\n\u001b[0;32m-> 1047\u001b[0m     \u001b[38;5;28;01mraise\u001b[39;00m \u001b[38;5;167;01mFileNotFoundError\u001b[39;00m(\n\u001b[1;32m   1048\u001b[0m         \u001b[38;5;124m\"\u001b[39m\u001b[38;5;124mNo such file or directory: \u001b[39m\u001b[38;5;124m'\u001b[39m\u001b[38;5;132;01m%s\u001b[39;00m\u001b[38;5;124m'\u001b[39m\u001b[38;5;124m\"\u001b[39m \u001b[38;5;241m%\u001b[39m (\u001b[38;5;28mself\u001b[39m\u001b[38;5;241m.\u001b[39mdata)) \u001b[38;5;28;01mfrom\u001b[39;00m \u001b[38;5;21;01me\u001b[39;00m\n\u001b[1;32m   1049\u001b[0m md \u001b[38;5;241m=\u001b[39m {}\n\u001b[1;32m   1050\u001b[0m \u001b[38;5;28;01mif\u001b[39;00m \u001b[38;5;28mself\u001b[39m\u001b[38;5;241m.\u001b[39mmetadata:\n",
            "\u001b[0;31mFileNotFoundError\u001b[0m: No such file or directory: 'grid.png'"
          ],
          "ename": "FileNotFoundError",
          "evalue": "No such file or directory: 'grid.png'",
          "output_type": "error"
        },
        {
          "execution_count": 50,
          "output_type": "execute_result",
          "data": {
            "text/plain": "<IPython.core.display.Image object>"
          },
          "metadata": {}
        }
      ],
      "id": "12e58eda"
    },
    {
      "cell_type": "code",
      "source": [
        "from sklearn.pipeline import Pipeline\n",
        "pipeline = Pipeline([\n",
        "    ('scaler', StandardScaler()),\n",
        "    ('knn', KNeighborsClassifier())\n",
        "])\n",
        "param_grid = {\n",
        "    'knn__n_neighbors': [3, 5, 7, 9, 11, 13, 15],\n",
        "    'knn__weights': ['uniform', 'distance'],\n",
        "    'knn__metric': ['euclidean', 'manhattan', 'minkowski', 'chebyshev'],\n",
        "}\n",
        "\n"
      ],
      "metadata": {
        "id": "-J4wMcFCdsXB",
        "execution": {
          "iopub.status.busy": "2024-10-07T18:33:17.804899Z",
          "iopub.execute_input": "2024-10-07T18:33:17.80597Z",
          "iopub.status.idle": "2024-10-07T18:33:17.811823Z",
          "shell.execute_reply.started": "2024-10-07T18:33:17.805925Z",
          "shell.execute_reply": "2024-10-07T18:33:17.810923Z"
        },
        "trusted": true
      },
      "execution_count": null,
      "outputs": [],
      "id": "-J4wMcFCdsXB"
    },
    {
      "cell_type": "code",
      "source": [
        "from sklearn.model_selection import GridSearchCV\n",
        "grid_search = GridSearchCV(estimator=pipeline, param_grid=param_grid, cv=5, scoring='accuracy', n_jobs=-1)"
      ],
      "metadata": {
        "id": "8hbOWY1FeAWg",
        "execution": {
          "iopub.status.busy": "2024-10-07T18:33:20.365098Z",
          "iopub.execute_input": "2024-10-07T18:33:20.365509Z",
          "iopub.status.idle": "2024-10-07T18:33:20.370701Z",
          "shell.execute_reply.started": "2024-10-07T18:33:20.36547Z",
          "shell.execute_reply": "2024-10-07T18:33:20.369648Z"
        },
        "trusted": true
      },
      "execution_count": null,
      "outputs": [],
      "id": "8hbOWY1FeAWg"
    },
    {
      "cell_type": "code",
      "source": [
        "grid_search.fit(X_train, y_train)"
      ],
      "metadata": {
        "id": "gE-hvL29eml0",
        "execution": {
          "iopub.status.busy": "2024-10-07T18:33:22.079116Z",
          "iopub.execute_input": "2024-10-07T18:33:22.079562Z",
          "iopub.status.idle": "2024-10-07T18:33:25.464586Z",
          "shell.execute_reply.started": "2024-10-07T18:33:22.07952Z",
          "shell.execute_reply": "2024-10-07T18:33:25.463433Z"
        },
        "trusted": true,
        "outputId": "844808e7-7828-48e1-b156-171330628138"
      },
      "execution_count": null,
      "outputs": [
        {
          "execution_count": 56,
          "output_type": "execute_result",
          "data": {
            "text/plain": "GridSearchCV(cv=5,\n             estimator=Pipeline(steps=[('scaler', StandardScaler()),\n                                       ('knn', KNeighborsClassifier())]),\n             n_jobs=-1,\n             param_grid={'knn__metric': ['euclidean', 'manhattan', 'minkowski',\n                                         'chebyshev'],\n                         'knn__n_neighbors': [3, 5, 7, 9, 11, 13, 15],\n                         'knn__weights': ['uniform', 'distance']},\n             scoring='accuracy')",
            "text/html": "<style>#sk-container-id-1 {color: black;background-color: white;}#sk-container-id-1 pre{padding: 0;}#sk-container-id-1 div.sk-toggleable {background-color: white;}#sk-container-id-1 label.sk-toggleable__label {cursor: pointer;display: block;width: 100%;margin-bottom: 0;padding: 0.3em;box-sizing: border-box;text-align: center;}#sk-container-id-1 label.sk-toggleable__label-arrow:before {content: \"▸\";float: left;margin-right: 0.25em;color: #696969;}#sk-container-id-1 label.sk-toggleable__label-arrow:hover:before {color: black;}#sk-container-id-1 div.sk-estimator:hover label.sk-toggleable__label-arrow:before {color: black;}#sk-container-id-1 div.sk-toggleable__content {max-height: 0;max-width: 0;overflow: hidden;text-align: left;background-color: #f0f8ff;}#sk-container-id-1 div.sk-toggleable__content pre {margin: 0.2em;color: black;border-radius: 0.25em;background-color: #f0f8ff;}#sk-container-id-1 input.sk-toggleable__control:checked~div.sk-toggleable__content {max-height: 200px;max-width: 100%;overflow: auto;}#sk-container-id-1 input.sk-toggleable__control:checked~label.sk-toggleable__label-arrow:before {content: \"▾\";}#sk-container-id-1 div.sk-estimator input.sk-toggleable__control:checked~label.sk-toggleable__label {background-color: #d4ebff;}#sk-container-id-1 div.sk-label input.sk-toggleable__control:checked~label.sk-toggleable__label {background-color: #d4ebff;}#sk-container-id-1 input.sk-hidden--visually {border: 0;clip: rect(1px 1px 1px 1px);clip: rect(1px, 1px, 1px, 1px);height: 1px;margin: -1px;overflow: hidden;padding: 0;position: absolute;width: 1px;}#sk-container-id-1 div.sk-estimator {font-family: monospace;background-color: #f0f8ff;border: 1px dotted black;border-radius: 0.25em;box-sizing: border-box;margin-bottom: 0.5em;}#sk-container-id-1 div.sk-estimator:hover {background-color: #d4ebff;}#sk-container-id-1 div.sk-parallel-item::after {content: \"\";width: 100%;border-bottom: 1px solid gray;flex-grow: 1;}#sk-container-id-1 div.sk-label:hover label.sk-toggleable__label {background-color: #d4ebff;}#sk-container-id-1 div.sk-serial::before {content: \"\";position: absolute;border-left: 1px solid gray;box-sizing: border-box;top: 0;bottom: 0;left: 50%;z-index: 0;}#sk-container-id-1 div.sk-serial {display: flex;flex-direction: column;align-items: center;background-color: white;padding-right: 0.2em;padding-left: 0.2em;position: relative;}#sk-container-id-1 div.sk-item {position: relative;z-index: 1;}#sk-container-id-1 div.sk-parallel {display: flex;align-items: stretch;justify-content: center;background-color: white;position: relative;}#sk-container-id-1 div.sk-item::before, #sk-container-id-1 div.sk-parallel-item::before {content: \"\";position: absolute;border-left: 1px solid gray;box-sizing: border-box;top: 0;bottom: 0;left: 50%;z-index: -1;}#sk-container-id-1 div.sk-parallel-item {display: flex;flex-direction: column;z-index: 1;position: relative;background-color: white;}#sk-container-id-1 div.sk-parallel-item:first-child::after {align-self: flex-end;width: 50%;}#sk-container-id-1 div.sk-parallel-item:last-child::after {align-self: flex-start;width: 50%;}#sk-container-id-1 div.sk-parallel-item:only-child::after {width: 0;}#sk-container-id-1 div.sk-dashed-wrapped {border: 1px dashed gray;margin: 0 0.4em 0.5em 0.4em;box-sizing: border-box;padding-bottom: 0.4em;background-color: white;}#sk-container-id-1 div.sk-label label {font-family: monospace;font-weight: bold;display: inline-block;line-height: 1.2em;}#sk-container-id-1 div.sk-label-container {text-align: center;}#sk-container-id-1 div.sk-container {/* jupyter's `normalize.less` sets `[hidden] { display: none; }` but bootstrap.min.css set `[hidden] { display: none !important; }` so we also need the `!important` here to be able to override the default hidden behavior on the sphinx rendered scikit-learn.org. See: https://github.com/scikit-learn/scikit-learn/issues/21755 */display: inline-block !important;position: relative;}#sk-container-id-1 div.sk-text-repr-fallback {display: none;}</style><div id=\"sk-container-id-1\" class=\"sk-top-container\"><div class=\"sk-text-repr-fallback\"><pre>GridSearchCV(cv=5,\n             estimator=Pipeline(steps=[(&#x27;scaler&#x27;, StandardScaler()),\n                                       (&#x27;knn&#x27;, KNeighborsClassifier())]),\n             n_jobs=-1,\n             param_grid={&#x27;knn__metric&#x27;: [&#x27;euclidean&#x27;, &#x27;manhattan&#x27;, &#x27;minkowski&#x27;,\n                                         &#x27;chebyshev&#x27;],\n                         &#x27;knn__n_neighbors&#x27;: [3, 5, 7, 9, 11, 13, 15],\n                         &#x27;knn__weights&#x27;: [&#x27;uniform&#x27;, &#x27;distance&#x27;]},\n             scoring=&#x27;accuracy&#x27;)</pre><b>In a Jupyter environment, please rerun this cell to show the HTML representation or trust the notebook. <br />On GitHub, the HTML representation is unable to render, please try loading this page with nbviewer.org.</b></div><div class=\"sk-container\" hidden><div class=\"sk-item sk-dashed-wrapped\"><div class=\"sk-label-container\"><div class=\"sk-label sk-toggleable\"><input class=\"sk-toggleable__control sk-hidden--visually\" id=\"sk-estimator-id-1\" type=\"checkbox\" ><label for=\"sk-estimator-id-1\" class=\"sk-toggleable__label sk-toggleable__label-arrow\">GridSearchCV</label><div class=\"sk-toggleable__content\"><pre>GridSearchCV(cv=5,\n             estimator=Pipeline(steps=[(&#x27;scaler&#x27;, StandardScaler()),\n                                       (&#x27;knn&#x27;, KNeighborsClassifier())]),\n             n_jobs=-1,\n             param_grid={&#x27;knn__metric&#x27;: [&#x27;euclidean&#x27;, &#x27;manhattan&#x27;, &#x27;minkowski&#x27;,\n                                         &#x27;chebyshev&#x27;],\n                         &#x27;knn__n_neighbors&#x27;: [3, 5, 7, 9, 11, 13, 15],\n                         &#x27;knn__weights&#x27;: [&#x27;uniform&#x27;, &#x27;distance&#x27;]},\n             scoring=&#x27;accuracy&#x27;)</pre></div></div></div><div class=\"sk-parallel\"><div class=\"sk-parallel-item\"><div class=\"sk-item\"><div class=\"sk-label-container\"><div class=\"sk-label sk-toggleable\"><input class=\"sk-toggleable__control sk-hidden--visually\" id=\"sk-estimator-id-2\" type=\"checkbox\" ><label for=\"sk-estimator-id-2\" class=\"sk-toggleable__label sk-toggleable__label-arrow\">estimator: Pipeline</label><div class=\"sk-toggleable__content\"><pre>Pipeline(steps=[(&#x27;scaler&#x27;, StandardScaler()), (&#x27;knn&#x27;, KNeighborsClassifier())])</pre></div></div></div><div class=\"sk-serial\"><div class=\"sk-item\"><div class=\"sk-serial\"><div class=\"sk-item\"><div class=\"sk-estimator sk-toggleable\"><input class=\"sk-toggleable__control sk-hidden--visually\" id=\"sk-estimator-id-3\" type=\"checkbox\" ><label for=\"sk-estimator-id-3\" class=\"sk-toggleable__label sk-toggleable__label-arrow\">StandardScaler</label><div class=\"sk-toggleable__content\"><pre>StandardScaler()</pre></div></div></div><div class=\"sk-item\"><div class=\"sk-estimator sk-toggleable\"><input class=\"sk-toggleable__control sk-hidden--visually\" id=\"sk-estimator-id-4\" type=\"checkbox\" ><label for=\"sk-estimator-id-4\" class=\"sk-toggleable__label sk-toggleable__label-arrow\">KNeighborsClassifier</label><div class=\"sk-toggleable__content\"><pre>KNeighborsClassifier()</pre></div></div></div></div></div></div></div></div></div></div></div></div>"
          },
          "metadata": {}
        }
      ],
      "id": "gE-hvL29eml0"
    },
    {
      "cell_type": "code",
      "source": [
        "print(\"Best parameters found: \", grid_search.best_params_)\n",
        "print(\"Best cross-validation accuracy score: \", grid_search.best_score_)"
      ],
      "metadata": {
        "id": "lmHcNJ-5fmrT",
        "execution": {
          "iopub.status.busy": "2024-10-07T18:33:30.504377Z",
          "iopub.execute_input": "2024-10-07T18:33:30.505433Z",
          "iopub.status.idle": "2024-10-07T18:33:30.510935Z",
          "shell.execute_reply.started": "2024-10-07T18:33:30.505385Z",
          "shell.execute_reply": "2024-10-07T18:33:30.509854Z"
        },
        "trusted": true,
        "outputId": "a8a27b89-5a20-47eb-c8ba-b501301e4156"
      },
      "execution_count": null,
      "outputs": [
        {
          "name": "stdout",
          "text": "Best parameters found:  {'knn__metric': 'euclidean', 'knn__n_neighbors': 13, 'knn__weights': 'uniform'}\nBest cross-validation accuracy score:  0.8175393028024607\n",
          "output_type": "stream"
        }
      ],
      "id": "lmHcNJ-5fmrT"
    },
    {
      "cell_type": "code",
      "source": [
        "knn = KNeighborsClassifier(n_neighbors=19,algorithm='auto',leaf_size=10,p=3,metric='minkowski',weights='uniform')\n",
        "knn.fit(X_train_scaled, y_train)\n",
        "\n",
        "y_pred = knn.predict(X_test_scaled)\n",
        "accuracy = accuracy_score(y_test, y_pred)\n",
        "print(f\"Accuracy: {accuracy}\")\n",
        "\n",
        "report = classification_report(y_test, y_pred)\n",
        "print(\"Classification Report:\\n\", report)\n",
        "\n",
        "conf_matrix = confusion_matrix(y_test, y_pred)\n",
        "print(\"Confusion Matrix:\\n\", conf_matrix)"
      ],
      "metadata": {
        "id": "d-Ns_gRYK2By",
        "execution": {
          "iopub.status.busy": "2024-10-07T18:33:32.764217Z",
          "iopub.execute_input": "2024-10-07T18:33:32.764646Z",
          "iopub.status.idle": "2024-10-07T18:33:32.844028Z",
          "shell.execute_reply.started": "2024-10-07T18:33:32.764608Z",
          "shell.execute_reply": "2024-10-07T18:33:32.842913Z"
        },
        "trusted": true,
        "outputId": "6e942804-8461-4b28-bf94-ddf01b7e9204"
      },
      "execution_count": null,
      "outputs": [
        {
          "name": "stdout",
          "text": "Accuracy: 0.7786259541984732\nClassification Report:\n               precision    recall  f1-score   support\n\n           0       0.75      0.90      0.82       144\n           1       0.84      0.63      0.72       118\n\n    accuracy                           0.78       262\n   macro avg       0.79      0.76      0.77       262\nweighted avg       0.79      0.78      0.77       262\n\nConfusion Matrix:\n [[130  14]\n [ 44  74]]\n",
          "output_type": "stream"
        }
      ],
      "id": "d-Ns_gRYK2By"
    },
    {
      "cell_type": "code",
      "source": [
        "X_train[0].shape"
      ],
      "metadata": {
        "id": "6J4qdGG3Imsm",
        "execution": {
          "iopub.status.busy": "2024-10-07T18:33:03.247313Z",
          "iopub.status.idle": "2024-10-07T18:33:03.247813Z",
          "shell.execute_reply.started": "2024-10-07T18:33:03.247568Z",
          "shell.execute_reply": "2024-10-07T18:33:03.247592Z"
        },
        "trusted": true
      },
      "execution_count": null,
      "outputs": [],
      "id": "6J4qdGG3Imsm"
    },
    {
      "cell_type": "markdown",
      "source": [
        "## 4. Decison Tree"
      ],
      "metadata": {
        "id": "87e4d19a"
      },
      "id": "87e4d19a"
    },
    {
      "cell_type": "markdown",
      "source": [],
      "metadata": {
        "id": "jwoDHdDETNr8"
      },
      "id": "jwoDHdDETNr8"
    },
    {
      "cell_type": "markdown",
      "source": [
        "#### 4.1 Appliquer GridSearch"
      ],
      "metadata": {
        "id": "mULvV5iFTOMf"
      },
      "id": "mULvV5iFTOMf"
    },
    {
      "cell_type": "code",
      "source": [
        "from sklearn.tree import DecisionTreeClassifier\n",
        "pipeline = Pipeline([\n",
        "    ('scaler', StandardScaler()),\n",
        "    ('clf', DecisionTreeClassifier())\n",
        "])\n",
        "\n",
        "param_grid = {\n",
        "    'clf__max_depth': [3, 5, 7, 9],\n",
        "    'clf__criterion': ['gini', 'entropy'],\n",
        "    'clf__min_samples_split': [2, 4, 6, 8, 10],\n",
        "}\n",
        "\n",
        "grid_search = GridSearchCV(estimator=pipeline, param_grid=param_grid, cv=5, scoring='accuracy', n_jobs=-1)\n",
        "grid_search.fit(X_train, y_train)"
      ],
      "metadata": {
        "id": "K8-e94BmdywR",
        "execution": {
          "iopub.status.busy": "2024-10-07T18:34:12.505293Z",
          "iopub.execute_input": "2024-10-07T18:34:12.506207Z",
          "iopub.status.idle": "2024-10-07T18:34:12.969249Z",
          "shell.execute_reply.started": "2024-10-07T18:34:12.506165Z",
          "shell.execute_reply": "2024-10-07T18:34:12.968304Z"
        },
        "trusted": true,
        "outputId": "3a220eab-b8bd-46b5-d176-5f321556185c"
      },
      "execution_count": null,
      "outputs": [
        {
          "execution_count": 59,
          "output_type": "execute_result",
          "data": {
            "text/plain": "GridSearchCV(cv=5,\n             estimator=Pipeline(steps=[('scaler', StandardScaler()),\n                                       ('clf', DecisionTreeClassifier())]),\n             n_jobs=-1,\n             param_grid={'clf__criterion': ['gini', 'entropy'],\n                         'clf__max_depth': [3, 5, 7, 9],\n                         'clf__min_samples_split': [2, 4, 6, 8, 10]},\n             scoring='accuracy')",
            "text/html": "<style>#sk-container-id-2 {color: black;background-color: white;}#sk-container-id-2 pre{padding: 0;}#sk-container-id-2 div.sk-toggleable {background-color: white;}#sk-container-id-2 label.sk-toggleable__label {cursor: pointer;display: block;width: 100%;margin-bottom: 0;padding: 0.3em;box-sizing: border-box;text-align: center;}#sk-container-id-2 label.sk-toggleable__label-arrow:before {content: \"▸\";float: left;margin-right: 0.25em;color: #696969;}#sk-container-id-2 label.sk-toggleable__label-arrow:hover:before {color: black;}#sk-container-id-2 div.sk-estimator:hover label.sk-toggleable__label-arrow:before {color: black;}#sk-container-id-2 div.sk-toggleable__content {max-height: 0;max-width: 0;overflow: hidden;text-align: left;background-color: #f0f8ff;}#sk-container-id-2 div.sk-toggleable__content pre {margin: 0.2em;color: black;border-radius: 0.25em;background-color: #f0f8ff;}#sk-container-id-2 input.sk-toggleable__control:checked~div.sk-toggleable__content {max-height: 200px;max-width: 100%;overflow: auto;}#sk-container-id-2 input.sk-toggleable__control:checked~label.sk-toggleable__label-arrow:before {content: \"▾\";}#sk-container-id-2 div.sk-estimator input.sk-toggleable__control:checked~label.sk-toggleable__label {background-color: #d4ebff;}#sk-container-id-2 div.sk-label input.sk-toggleable__control:checked~label.sk-toggleable__label {background-color: #d4ebff;}#sk-container-id-2 input.sk-hidden--visually {border: 0;clip: rect(1px 1px 1px 1px);clip: rect(1px, 1px, 1px, 1px);height: 1px;margin: -1px;overflow: hidden;padding: 0;position: absolute;width: 1px;}#sk-container-id-2 div.sk-estimator {font-family: monospace;background-color: #f0f8ff;border: 1px dotted black;border-radius: 0.25em;box-sizing: border-box;margin-bottom: 0.5em;}#sk-container-id-2 div.sk-estimator:hover {background-color: #d4ebff;}#sk-container-id-2 div.sk-parallel-item::after {content: \"\";width: 100%;border-bottom: 1px solid gray;flex-grow: 1;}#sk-container-id-2 div.sk-label:hover label.sk-toggleable__label {background-color: #d4ebff;}#sk-container-id-2 div.sk-serial::before {content: \"\";position: absolute;border-left: 1px solid gray;box-sizing: border-box;top: 0;bottom: 0;left: 50%;z-index: 0;}#sk-container-id-2 div.sk-serial {display: flex;flex-direction: column;align-items: center;background-color: white;padding-right: 0.2em;padding-left: 0.2em;position: relative;}#sk-container-id-2 div.sk-item {position: relative;z-index: 1;}#sk-container-id-2 div.sk-parallel {display: flex;align-items: stretch;justify-content: center;background-color: white;position: relative;}#sk-container-id-2 div.sk-item::before, #sk-container-id-2 div.sk-parallel-item::before {content: \"\";position: absolute;border-left: 1px solid gray;box-sizing: border-box;top: 0;bottom: 0;left: 50%;z-index: -1;}#sk-container-id-2 div.sk-parallel-item {display: flex;flex-direction: column;z-index: 1;position: relative;background-color: white;}#sk-container-id-2 div.sk-parallel-item:first-child::after {align-self: flex-end;width: 50%;}#sk-container-id-2 div.sk-parallel-item:last-child::after {align-self: flex-start;width: 50%;}#sk-container-id-2 div.sk-parallel-item:only-child::after {width: 0;}#sk-container-id-2 div.sk-dashed-wrapped {border: 1px dashed gray;margin: 0 0.4em 0.5em 0.4em;box-sizing: border-box;padding-bottom: 0.4em;background-color: white;}#sk-container-id-2 div.sk-label label {font-family: monospace;font-weight: bold;display: inline-block;line-height: 1.2em;}#sk-container-id-2 div.sk-label-container {text-align: center;}#sk-container-id-2 div.sk-container {/* jupyter's `normalize.less` sets `[hidden] { display: none; }` but bootstrap.min.css set `[hidden] { display: none !important; }` so we also need the `!important` here to be able to override the default hidden behavior on the sphinx rendered scikit-learn.org. See: https://github.com/scikit-learn/scikit-learn/issues/21755 */display: inline-block !important;position: relative;}#sk-container-id-2 div.sk-text-repr-fallback {display: none;}</style><div id=\"sk-container-id-2\" class=\"sk-top-container\"><div class=\"sk-text-repr-fallback\"><pre>GridSearchCV(cv=5,\n             estimator=Pipeline(steps=[(&#x27;scaler&#x27;, StandardScaler()),\n                                       (&#x27;clf&#x27;, DecisionTreeClassifier())]),\n             n_jobs=-1,\n             param_grid={&#x27;clf__criterion&#x27;: [&#x27;gini&#x27;, &#x27;entropy&#x27;],\n                         &#x27;clf__max_depth&#x27;: [3, 5, 7, 9],\n                         &#x27;clf__min_samples_split&#x27;: [2, 4, 6, 8, 10]},\n             scoring=&#x27;accuracy&#x27;)</pre><b>In a Jupyter environment, please rerun this cell to show the HTML representation or trust the notebook. <br />On GitHub, the HTML representation is unable to render, please try loading this page with nbviewer.org.</b></div><div class=\"sk-container\" hidden><div class=\"sk-item sk-dashed-wrapped\"><div class=\"sk-label-container\"><div class=\"sk-label sk-toggleable\"><input class=\"sk-toggleable__control sk-hidden--visually\" id=\"sk-estimator-id-5\" type=\"checkbox\" ><label for=\"sk-estimator-id-5\" class=\"sk-toggleable__label sk-toggleable__label-arrow\">GridSearchCV</label><div class=\"sk-toggleable__content\"><pre>GridSearchCV(cv=5,\n             estimator=Pipeline(steps=[(&#x27;scaler&#x27;, StandardScaler()),\n                                       (&#x27;clf&#x27;, DecisionTreeClassifier())]),\n             n_jobs=-1,\n             param_grid={&#x27;clf__criterion&#x27;: [&#x27;gini&#x27;, &#x27;entropy&#x27;],\n                         &#x27;clf__max_depth&#x27;: [3, 5, 7, 9],\n                         &#x27;clf__min_samples_split&#x27;: [2, 4, 6, 8, 10]},\n             scoring=&#x27;accuracy&#x27;)</pre></div></div></div><div class=\"sk-parallel\"><div class=\"sk-parallel-item\"><div class=\"sk-item\"><div class=\"sk-label-container\"><div class=\"sk-label sk-toggleable\"><input class=\"sk-toggleable__control sk-hidden--visually\" id=\"sk-estimator-id-6\" type=\"checkbox\" ><label for=\"sk-estimator-id-6\" class=\"sk-toggleable__label sk-toggleable__label-arrow\">estimator: Pipeline</label><div class=\"sk-toggleable__content\"><pre>Pipeline(steps=[(&#x27;scaler&#x27;, StandardScaler()),\n                (&#x27;clf&#x27;, DecisionTreeClassifier())])</pre></div></div></div><div class=\"sk-serial\"><div class=\"sk-item\"><div class=\"sk-serial\"><div class=\"sk-item\"><div class=\"sk-estimator sk-toggleable\"><input class=\"sk-toggleable__control sk-hidden--visually\" id=\"sk-estimator-id-7\" type=\"checkbox\" ><label for=\"sk-estimator-id-7\" class=\"sk-toggleable__label sk-toggleable__label-arrow\">StandardScaler</label><div class=\"sk-toggleable__content\"><pre>StandardScaler()</pre></div></div></div><div class=\"sk-item\"><div class=\"sk-estimator sk-toggleable\"><input class=\"sk-toggleable__control sk-hidden--visually\" id=\"sk-estimator-id-8\" type=\"checkbox\" ><label for=\"sk-estimator-id-8\" class=\"sk-toggleable__label sk-toggleable__label-arrow\">DecisionTreeClassifier</label><div class=\"sk-toggleable__content\"><pre>DecisionTreeClassifier()</pre></div></div></div></div></div></div></div></div></div></div></div></div>"
          },
          "metadata": {}
        }
      ],
      "id": "K8-e94BmdywR"
    },
    {
      "cell_type": "code",
      "source": [
        "print(\"Best parameters found: \", grid_search.best_params_)\n",
        "print(\"Best cross-validation accuracy score: \", grid_search.best_score_)"
      ],
      "metadata": {
        "id": "bmesKDwzSH8H",
        "execution": {
          "iopub.status.busy": "2024-10-07T18:38:21.830518Z",
          "iopub.execute_input": "2024-10-07T18:38:21.831272Z",
          "iopub.status.idle": "2024-10-07T18:38:21.836964Z",
          "shell.execute_reply.started": "2024-10-07T18:38:21.83123Z",
          "shell.execute_reply": "2024-10-07T18:38:21.835814Z"
        },
        "trusted": true,
        "outputId": "0fedccd7-1871-41a0-ed58-1cb156663c26"
      },
      "execution_count": null,
      "outputs": [
        {
          "name": "stdout",
          "text": "Best parameters found:  {'clf__criterion': 'gini', 'clf__max_depth': 3, 'clf__min_samples_split': 6}\nBest cross-validation accuracy score:  0.8223103212576897\n",
          "output_type": "stream"
        }
      ],
      "id": "bmesKDwzSH8H"
    },
    {
      "cell_type": "markdown",
      "source": [],
      "metadata": {
        "id": "WmAy27cHTWNZ"
      },
      "id": "WmAy27cHTWNZ"
    },
    {
      "cell_type": "markdown",
      "source": [
        "#### 4.2 Entreiner et tester le modèle"
      ],
      "metadata": {
        "id": "319739a5"
      },
      "id": "319739a5"
    },
    {
      "cell_type": "code",
      "source": [
        "clf = grid_search.best_estimator_\n",
        "\n",
        "clf.fit(X_train_scaled, y_train)\n",
        "\n",
        "y_pred = clf.predict(X_test_scaled)\n",
        "\n",
        "\n"
      ],
      "metadata": {
        "id": "86XNVe9qSLVb",
        "execution": {
          "iopub.status.busy": "2024-10-07T18:38:24.275242Z",
          "iopub.execute_input": "2024-10-07T18:38:24.27645Z",
          "iopub.status.idle": "2024-10-07T18:38:24.285368Z",
          "shell.execute_reply.started": "2024-10-07T18:38:24.276395Z",
          "shell.execute_reply": "2024-10-07T18:38:24.284404Z"
        },
        "trusted": true
      },
      "execution_count": null,
      "outputs": [],
      "id": "86XNVe9qSLVb"
    },
    {
      "cell_type": "markdown",
      "source": [],
      "metadata": {
        "id": "zHN1PlMWTtaE"
      },
      "id": "zHN1PlMWTtaE"
    },
    {
      "cell_type": "markdown",
      "source": [
        "#### 4.3 Afficher les résultats"
      ],
      "metadata": {
        "id": "3b129222"
      },
      "id": "3b129222"
    },
    {
      "cell_type": "code",
      "source": [
        "accuracy = accuracy_score(y_test, y_pred)\n",
        "print(f\"Accuracy: {accuracy}\")\n",
        "\n",
        "report = classification_report(y_test, y_pred)\n",
        "print(\"Classification Report:\\n\", report)\n",
        "\n",
        "conf_matrix = confusion_matrix(y_test, y_pred)\n",
        "print(\"Confusion Matrix:\\n\", conf_matrix)"
      ],
      "metadata": {
        "id": "XJgZB4VFTCH2",
        "execution": {
          "iopub.status.busy": "2024-10-07T18:38:27.804059Z",
          "iopub.execute_input": "2024-10-07T18:38:27.804489Z",
          "iopub.status.idle": "2024-10-07T18:38:27.825017Z",
          "shell.execute_reply.started": "2024-10-07T18:38:27.804449Z",
          "shell.execute_reply": "2024-10-07T18:38:27.823711Z"
        },
        "trusted": true,
        "outputId": "3a1ad6fd-721a-4fd2-9aa0-fbcc88abd616"
      },
      "execution_count": null,
      "outputs": [
        {
          "name": "stdout",
          "text": "Accuracy: 0.7786259541984732\nClassification Report:\n               precision    recall  f1-score   support\n\n           0       0.77      0.86      0.81       144\n           1       0.80      0.68      0.73       118\n\n    accuracy                           0.78       262\n   macro avg       0.78      0.77      0.77       262\nweighted avg       0.78      0.78      0.78       262\n\nConfusion Matrix:\n [[124  20]\n [ 38  80]]\n",
          "output_type": "stream"
        }
      ],
      "id": "XJgZB4VFTCH2"
    },
    {
      "cell_type": "code",
      "source": [
        "Image('decision.png')"
      ],
      "metadata": {
        "id": "cc473efb",
        "execution": {
          "iopub.status.busy": "2024-10-07T18:33:03.256336Z",
          "iopub.status.idle": "2024-10-07T18:33:03.256823Z",
          "shell.execute_reply.started": "2024-10-07T18:33:03.25658Z",
          "shell.execute_reply": "2024-10-07T18:33:03.256604Z"
        },
        "trusted": true
      },
      "execution_count": null,
      "outputs": [],
      "id": "cc473efb"
    },
    {
      "cell_type": "markdown",
      "source": [
        "## 5. Random Forest"
      ],
      "metadata": {
        "id": "b6dab464"
      },
      "id": "b6dab464"
    },
    {
      "cell_type": "code",
      "source": [
        "\n",
        "from sklearn.ensemble import RandomForestClassifier\n",
        "from sklearn.pipeline import Pipeline\n",
        "from sklearn.preprocessing import StandardScaler\n",
        "from sklearn.model_selection import GridSearchCV\n",
        "\n",
        "pipeline = Pipeline([\n",
        "    ('scaler', StandardScaler()),\n",
        "    ('clf', RandomForestClassifier())\n",
        "])\n",
        "\n",
        "param_grid = {\n",
        "    'clf__n_estimators': [50,100,150],\n",
        "    'clf__max_depth': [3, 5, 7, 9, 11],\n",
        "    'clf__criterion': ['gini', 'entropy']\n",
        "}\n",
        "\n",
        "grid_search = GridSearchCV(estimator=pipeline, param_grid=param_grid, cv=5, scoring='accuracy', n_jobs=-1)\n",
        "grid_search.fit(X_train, y_train)"
      ],
      "metadata": {
        "id": "u3vAf3ycUkGA",
        "execution": {
          "iopub.status.busy": "2024-10-07T18:39:09.505046Z",
          "iopub.execute_input": "2024-10-07T18:39:09.505946Z",
          "iopub.status.idle": "2024-10-07T18:39:23.241466Z",
          "shell.execute_reply.started": "2024-10-07T18:39:09.505906Z",
          "shell.execute_reply": "2024-10-07T18:39:23.240483Z"
        },
        "trusted": true,
        "outputId": "d6f89d0e-5a20-4763-dfe6-e36c79d451ac"
      },
      "execution_count": null,
      "outputs": [
        {
          "execution_count": 63,
          "output_type": "execute_result",
          "data": {
            "text/plain": "GridSearchCV(cv=5,\n             estimator=Pipeline(steps=[('scaler', StandardScaler()),\n                                       ('clf', RandomForestClassifier())]),\n             n_jobs=-1,\n             param_grid={'clf__criterion': ['gini', 'entropy'],\n                         'clf__max_depth': [3, 5, 7, 9, 11],\n                         'clf__n_estimators': [50, 100, 150]},\n             scoring='accuracy')",
            "text/html": "<style>#sk-container-id-3 {color: black;background-color: white;}#sk-container-id-3 pre{padding: 0;}#sk-container-id-3 div.sk-toggleable {background-color: white;}#sk-container-id-3 label.sk-toggleable__label {cursor: pointer;display: block;width: 100%;margin-bottom: 0;padding: 0.3em;box-sizing: border-box;text-align: center;}#sk-container-id-3 label.sk-toggleable__label-arrow:before {content: \"▸\";float: left;margin-right: 0.25em;color: #696969;}#sk-container-id-3 label.sk-toggleable__label-arrow:hover:before {color: black;}#sk-container-id-3 div.sk-estimator:hover label.sk-toggleable__label-arrow:before {color: black;}#sk-container-id-3 div.sk-toggleable__content {max-height: 0;max-width: 0;overflow: hidden;text-align: left;background-color: #f0f8ff;}#sk-container-id-3 div.sk-toggleable__content pre {margin: 0.2em;color: black;border-radius: 0.25em;background-color: #f0f8ff;}#sk-container-id-3 input.sk-toggleable__control:checked~div.sk-toggleable__content {max-height: 200px;max-width: 100%;overflow: auto;}#sk-container-id-3 input.sk-toggleable__control:checked~label.sk-toggleable__label-arrow:before {content: \"▾\";}#sk-container-id-3 div.sk-estimator input.sk-toggleable__control:checked~label.sk-toggleable__label {background-color: #d4ebff;}#sk-container-id-3 div.sk-label input.sk-toggleable__control:checked~label.sk-toggleable__label {background-color: #d4ebff;}#sk-container-id-3 input.sk-hidden--visually {border: 0;clip: rect(1px 1px 1px 1px);clip: rect(1px, 1px, 1px, 1px);height: 1px;margin: -1px;overflow: hidden;padding: 0;position: absolute;width: 1px;}#sk-container-id-3 div.sk-estimator {font-family: monospace;background-color: #f0f8ff;border: 1px dotted black;border-radius: 0.25em;box-sizing: border-box;margin-bottom: 0.5em;}#sk-container-id-3 div.sk-estimator:hover {background-color: #d4ebff;}#sk-container-id-3 div.sk-parallel-item::after {content: \"\";width: 100%;border-bottom: 1px solid gray;flex-grow: 1;}#sk-container-id-3 div.sk-label:hover label.sk-toggleable__label {background-color: #d4ebff;}#sk-container-id-3 div.sk-serial::before {content: \"\";position: absolute;border-left: 1px solid gray;box-sizing: border-box;top: 0;bottom: 0;left: 50%;z-index: 0;}#sk-container-id-3 div.sk-serial {display: flex;flex-direction: column;align-items: center;background-color: white;padding-right: 0.2em;padding-left: 0.2em;position: relative;}#sk-container-id-3 div.sk-item {position: relative;z-index: 1;}#sk-container-id-3 div.sk-parallel {display: flex;align-items: stretch;justify-content: center;background-color: white;position: relative;}#sk-container-id-3 div.sk-item::before, #sk-container-id-3 div.sk-parallel-item::before {content: \"\";position: absolute;border-left: 1px solid gray;box-sizing: border-box;top: 0;bottom: 0;left: 50%;z-index: -1;}#sk-container-id-3 div.sk-parallel-item {display: flex;flex-direction: column;z-index: 1;position: relative;background-color: white;}#sk-container-id-3 div.sk-parallel-item:first-child::after {align-self: flex-end;width: 50%;}#sk-container-id-3 div.sk-parallel-item:last-child::after {align-self: flex-start;width: 50%;}#sk-container-id-3 div.sk-parallel-item:only-child::after {width: 0;}#sk-container-id-3 div.sk-dashed-wrapped {border: 1px dashed gray;margin: 0 0.4em 0.5em 0.4em;box-sizing: border-box;padding-bottom: 0.4em;background-color: white;}#sk-container-id-3 div.sk-label label {font-family: monospace;font-weight: bold;display: inline-block;line-height: 1.2em;}#sk-container-id-3 div.sk-label-container {text-align: center;}#sk-container-id-3 div.sk-container {/* jupyter's `normalize.less` sets `[hidden] { display: none; }` but bootstrap.min.css set `[hidden] { display: none !important; }` so we also need the `!important` here to be able to override the default hidden behavior on the sphinx rendered scikit-learn.org. See: https://github.com/scikit-learn/scikit-learn/issues/21755 */display: inline-block !important;position: relative;}#sk-container-id-3 div.sk-text-repr-fallback {display: none;}</style><div id=\"sk-container-id-3\" class=\"sk-top-container\"><div class=\"sk-text-repr-fallback\"><pre>GridSearchCV(cv=5,\n             estimator=Pipeline(steps=[(&#x27;scaler&#x27;, StandardScaler()),\n                                       (&#x27;clf&#x27;, RandomForestClassifier())]),\n             n_jobs=-1,\n             param_grid={&#x27;clf__criterion&#x27;: [&#x27;gini&#x27;, &#x27;entropy&#x27;],\n                         &#x27;clf__max_depth&#x27;: [3, 5, 7, 9, 11],\n                         &#x27;clf__n_estimators&#x27;: [50, 100, 150]},\n             scoring=&#x27;accuracy&#x27;)</pre><b>In a Jupyter environment, please rerun this cell to show the HTML representation or trust the notebook. <br />On GitHub, the HTML representation is unable to render, please try loading this page with nbviewer.org.</b></div><div class=\"sk-container\" hidden><div class=\"sk-item sk-dashed-wrapped\"><div class=\"sk-label-container\"><div class=\"sk-label sk-toggleable\"><input class=\"sk-toggleable__control sk-hidden--visually\" id=\"sk-estimator-id-9\" type=\"checkbox\" ><label for=\"sk-estimator-id-9\" class=\"sk-toggleable__label sk-toggleable__label-arrow\">GridSearchCV</label><div class=\"sk-toggleable__content\"><pre>GridSearchCV(cv=5,\n             estimator=Pipeline(steps=[(&#x27;scaler&#x27;, StandardScaler()),\n                                       (&#x27;clf&#x27;, RandomForestClassifier())]),\n             n_jobs=-1,\n             param_grid={&#x27;clf__criterion&#x27;: [&#x27;gini&#x27;, &#x27;entropy&#x27;],\n                         &#x27;clf__max_depth&#x27;: [3, 5, 7, 9, 11],\n                         &#x27;clf__n_estimators&#x27;: [50, 100, 150]},\n             scoring=&#x27;accuracy&#x27;)</pre></div></div></div><div class=\"sk-parallel\"><div class=\"sk-parallel-item\"><div class=\"sk-item\"><div class=\"sk-label-container\"><div class=\"sk-label sk-toggleable\"><input class=\"sk-toggleable__control sk-hidden--visually\" id=\"sk-estimator-id-10\" type=\"checkbox\" ><label for=\"sk-estimator-id-10\" class=\"sk-toggleable__label sk-toggleable__label-arrow\">estimator: Pipeline</label><div class=\"sk-toggleable__content\"><pre>Pipeline(steps=[(&#x27;scaler&#x27;, StandardScaler()),\n                (&#x27;clf&#x27;, RandomForestClassifier())])</pre></div></div></div><div class=\"sk-serial\"><div class=\"sk-item\"><div class=\"sk-serial\"><div class=\"sk-item\"><div class=\"sk-estimator sk-toggleable\"><input class=\"sk-toggleable__control sk-hidden--visually\" id=\"sk-estimator-id-11\" type=\"checkbox\" ><label for=\"sk-estimator-id-11\" class=\"sk-toggleable__label sk-toggleable__label-arrow\">StandardScaler</label><div class=\"sk-toggleable__content\"><pre>StandardScaler()</pre></div></div></div><div class=\"sk-item\"><div class=\"sk-estimator sk-toggleable\"><input class=\"sk-toggleable__control sk-hidden--visually\" id=\"sk-estimator-id-12\" type=\"checkbox\" ><label for=\"sk-estimator-id-12\" class=\"sk-toggleable__label sk-toggleable__label-arrow\">RandomForestClassifier</label><div class=\"sk-toggleable__content\"><pre>RandomForestClassifier()</pre></div></div></div></div></div></div></div></div></div></div></div></div>"
          },
          "metadata": {}
        }
      ],
      "id": "u3vAf3ycUkGA"
    },
    {
      "cell_type": "code",
      "source": [
        "clf = grid_search.best_estimator_\n",
        "\n",
        "clf.fit(X_train_scaled, y_train)\n",
        "\n",
        "y_pred = clf.predict(X_test_scaled)"
      ],
      "metadata": {
        "execution": {
          "iopub.status.busy": "2024-10-07T18:41:51.025323Z",
          "iopub.execute_input": "2024-10-07T18:41:51.026286Z",
          "iopub.status.idle": "2024-10-07T18:41:51.251927Z",
          "shell.execute_reply.started": "2024-10-07T18:41:51.026242Z",
          "shell.execute_reply": "2024-10-07T18:41:51.25094Z"
        },
        "trusted": true,
        "id": "OeyJMcdfW1WB"
      },
      "execution_count": null,
      "outputs": [],
      "id": "OeyJMcdfW1WB"
    },
    {
      "cell_type": "code",
      "source": [
        "accuracy = accuracy_score(y_test, y_pred)\n",
        "print(f\"Accuracy: {accuracy}\")\n",
        "\n",
        "report = classification_report(y_test, y_pred)\n",
        "print(\"Classification Report:\\n\", report)\n",
        "\n",
        "conf_matrix = confusion_matrix(y_test, y_pred)\n",
        "print(\"Confusion Matrix:\\n\", conf_matrix)"
      ],
      "metadata": {
        "execution": {
          "iopub.status.busy": "2024-10-07T18:42:07.944287Z",
          "iopub.execute_input": "2024-10-07T18:42:07.945203Z",
          "iopub.status.idle": "2024-10-07T18:42:07.963309Z",
          "shell.execute_reply.started": "2024-10-07T18:42:07.945162Z",
          "shell.execute_reply": "2024-10-07T18:42:07.962171Z"
        },
        "trusted": true,
        "id": "9L5Db0l2W1WC",
        "outputId": "71c56444-272a-494c-9949-d76a23bd824c"
      },
      "execution_count": null,
      "outputs": [
        {
          "name": "stdout",
          "text": "Accuracy: 0.7862595419847328\nClassification Report:\n               precision    recall  f1-score   support\n\n           0       0.77      0.88      0.82       144\n           1       0.82      0.68      0.74       118\n\n    accuracy                           0.79       262\n   macro avg       0.79      0.78      0.78       262\nweighted avg       0.79      0.79      0.78       262\n\nConfusion Matrix:\n [[126  18]\n [ 38  80]]\n",
          "output_type": "stream"
        }
      ],
      "id": "9L5Db0l2W1WC"
    },
    {
      "cell_type": "code",
      "source": [
        "Image('random_forest.png')"
      ],
      "metadata": {
        "id": "2e1e3186",
        "execution": {
          "iopub.status.busy": "2024-10-07T18:33:03.261112Z",
          "iopub.status.idle": "2024-10-07T18:33:03.261674Z",
          "shell.execute_reply.started": "2024-10-07T18:33:03.26141Z",
          "shell.execute_reply": "2024-10-07T18:33:03.261435Z"
        },
        "trusted": true
      },
      "execution_count": null,
      "outputs": [],
      "id": "2e1e3186"
    },
    {
      "cell_type": "markdown",
      "source": [
        "## 6. Support vector Machine"
      ],
      "metadata": {
        "id": "d0c4ff20"
      },
      "id": "d0c4ff20"
    },
    {
      "cell_type": "code",
      "source": [
        "from sklearn.svm import SVC\n",
        "from sklearn.pipeline import Pipeline\n",
        "from sklearn.preprocessing import StandardScaler\n",
        "from sklearn.model_selection import GridSearchCV\n",
        "from sklearn.metrics import accuracy_score, classification_report, confusion_matrix\n",
        "\n",
        "pipeline = Pipeline([\n",
        "    ('scaler', StandardScaler()),\n",
        "    ('svm', SVC())\n",
        "])\n",
        "\n",
        "param_grid = {\n",
        "    'svm__kernel': ['linear', 'rbf', 'poly'],\n",
        "    'svm__C': [0.1, 1, 10, 100],\n",
        "    'svm__gamma': ['scale', 'auto'],\n",
        "    'svm__degree': [2, 3, 4]\n",
        "}\n",
        "\n",
        "grid_search = GridSearchCV(estimator=pipeline, param_grid=param_grid, cv=5, scoring='accuracy', n_jobs=-1)\n",
        "grid_search.fit(X_train, y_train)\n",
        "\n",
        "svm = grid_search.best_estimator_\n",
        "\n",
        "svm.fit(X_train_scaled, y_train)\n",
        "\n",
        "y_pred = svm.predict(X_test_scaled)\n",
        "\n",
        "accuracy = accuracy_score(y_test, y_pred)\n",
        "print(f\"Accuracy: {accuracy}\")\n",
        "\n",
        "report = classification_report(y_test, y_pred)\n",
        "print(\"Classification Report:\\n\", report)\n",
        "\n",
        "conf_matrix = confusion_matrix(y_test, y_pred)\n",
        "print(\"Confusion Matrix:\\n\", conf_matrix)\n"
      ],
      "metadata": {
        "id": "66ad45b2",
        "execution": {
          "iopub.status.busy": "2024-10-07T18:46:10.405332Z",
          "iopub.execute_input": "2024-10-07T18:46:10.405888Z",
          "iopub.status.idle": "2024-10-07T18:46:32.179727Z",
          "shell.execute_reply.started": "2024-10-07T18:46:10.405838Z",
          "shell.execute_reply": "2024-10-07T18:46:32.17851Z"
        },
        "trusted": true,
        "outputId": "1f7dd3e3-9b82-464a-eb01-f26f45550a8c"
      },
      "execution_count": null,
      "outputs": [
        {
          "name": "stdout",
          "text": "Accuracy: 0.7824427480916031\nClassification Report:\n               precision    recall  f1-score   support\n\n           0       0.77      0.86      0.81       144\n           1       0.80      0.69      0.74       118\n\n    accuracy                           0.78       262\n   macro avg       0.79      0.77      0.78       262\nweighted avg       0.78      0.78      0.78       262\n\nConfusion Matrix:\n [[124  20]\n [ 37  81]]\n",
          "output_type": "stream"
        }
      ],
      "id": "66ad45b2"
    },
    {
      "cell_type": "code",
      "source": [
        "Image('kernel_svm.png')"
      ],
      "metadata": {
        "id": "3da413a2",
        "execution": {
          "iopub.status.busy": "2024-10-07T18:33:03.264988Z",
          "iopub.status.idle": "2024-10-07T18:33:03.265534Z",
          "shell.execute_reply.started": "2024-10-07T18:33:03.265233Z",
          "shell.execute_reply": "2024-10-07T18:33:03.265259Z"
        },
        "trusted": true
      },
      "execution_count": null,
      "outputs": [],
      "id": "3da413a2"
    },
    {
      "cell_type": "markdown",
      "source": [
        "## 7. Receiver Operating Characteristic (ROC) Curve"
      ],
      "metadata": {
        "id": "7e3e3c3a"
      },
      "id": "7e3e3c3a"
    },
    {
      "cell_type": "code",
      "source": [
        "Image(filename='roc.png')"
      ],
      "metadata": {
        "id": "93a858a5",
        "execution": {
          "iopub.status.busy": "2024-10-07T18:33:03.266921Z",
          "iopub.status.idle": "2024-10-07T18:33:03.267457Z",
          "shell.execute_reply.started": "2024-10-07T18:33:03.267157Z",
          "shell.execute_reply": "2024-10-07T18:33:03.267182Z"
        },
        "trusted": true
      },
      "execution_count": null,
      "outputs": [],
      "id": "93a858a5"
    },
    {
      "cell_type": "code",
      "source": [
        "import matplotlib.pyplot as plt\n",
        "from sklearn.metrics import roc_curve, auc\n",
        "import numpy as np\n",
        "\n",
        "confusion_matrices = {\n",
        "    'svm': np.array([[124, 20], [37, 81]]),\n",
        "    'random_forest': np.array([[126, 18], [38, 80]]),\n",
        "    'decision_tree': np.array([[124, 20], [38, 80]]),\n",
        "    'knn': np.array([[130, 14], [44, 74]])\n",
        "}\n",
        "\n",
        "roc_data = {}\n",
        "for model_name, cm in confusion_matrices.items():\n",
        "    tp = cm[1, 1]  # True Positives\n",
        "    fn = cm[1, 0]  # False Negatives\n",
        "    fp = cm[0, 1]  # False Positives\n",
        "    tn = cm[0, 0]  # True Negatives\n",
        "\n",
        "    tpr = tp / (tp + fn)  # True Positive Rate\n",
        "    fpr = fp / (fp + tn)  # False Positive Rate\n",
        "    roc_data[model_name] = (fpr, tpr)\n",
        "\n",
        "plt.figure(figsize=(10, 8))\n",
        "for model_name, (fpr, tpr) in roc_data.items():\n",
        "    plt.plot([0, fpr, 1], [0, tpr, 1], marker='o', linestyle='-', label=f'{model_name} (AUC = {round(auc([0, fpr, 1], [0, tpr, 1]), 2)})')\n",
        "\n",
        "plt.plot([0, 1], [0, 1], linestyle='--', color='gray', label='Random Classifier (AUC = 0.5)')\n",
        "plt.xlabel('False Positive Rate')\n",
        "plt.ylabel('True Positive Rate')\n",
        "plt.title('Receiver Operating Characteristic (ROC) Curves')\n",
        "plt.legend()\n",
        "plt.grid(True)\n",
        "plt.show()\n"
      ],
      "metadata": {
        "id": "315595f4",
        "execution": {
          "iopub.status.busy": "2024-10-07T18:58:41.245017Z",
          "iopub.execute_input": "2024-10-07T18:58:41.245896Z",
          "iopub.status.idle": "2024-10-07T18:58:41.682456Z",
          "shell.execute_reply.started": "2024-10-07T18:58:41.245851Z",
          "shell.execute_reply": "2024-10-07T18:58:41.681491Z"
        },
        "trusted": true,
        "outputId": "2d4224fe-0de5-4ce3-ca38-362cd776c107"
      },
      "execution_count": null,
      "outputs": [
        {
          "output_type": "display_data",
          "data": {
            "text/plain": "<Figure size 1000x800 with 1 Axes>",
            "image/png": "[encoded data removed]"
          },
          "metadata": {}
        }
      ],
      "id": "315595f4"
    },
    {
      "cell_type": "code",
      "source": [],
      "metadata": {
        "id": "u4sZyresW1WH"
      },
      "execution_count": null,
      "outputs": [],
      "id": "u4sZyresW1WH"
    }
  ]
}